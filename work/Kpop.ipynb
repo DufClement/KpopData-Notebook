{
 "cells": [
  {
   "cell_type": "markdown",
   "metadata": {},
   "source": [
    "# 0) Chargement de spark"
   ]
  },
  {
   "cell_type": "code",
   "execution_count": 35,
   "metadata": {},
   "outputs": [],
   "source": [
    "from pyspark.sql import SparkSession\n",
    "spark = SparkSession.builder.getOrCreate()"
   ]
  },
  {
   "cell_type": "markdown",
   "metadata": {},
   "source": [
    "# 1) Lire de la donnée"
   ]
  },
  {
   "cell_type": "markdown",
   "metadata": {},
   "source": [
    "## 1.1) Lecture brute\n",
    "\n",
    "Chargez le fichier ville_1.csv dans une variable nommée df.\n",
    "\n",
    "Vous pouvez afficher votre donnée en utilisant la méthode take() ou la methode collect() de l'objet pyspark DataFrame (attention appeler collect() sur un dataframe est déconseillé si vous avez du vrai big data).\n",
    "\n",
    "L'objet possède aussi un attribut appelé dtypes, appelez cet attribut pour obtenir la liste des colonnes et leur type."
   ]
  },
  {
   "cell_type": "code",
   "execution_count": 2,
   "metadata": {
    "scrolled": false
   },
   "outputs": [
    {
     "data": {
      "text/plain": [
       "[('_c0', 'string'),\n",
       " ('_c1', 'string'),\n",
       " ('_c2', 'string'),\n",
       " ('_c3', 'string'),\n",
       " ('_c4', 'string'),\n",
       " ('_c5', 'string'),\n",
       " ('_c6', 'string'),\n",
       " ('_c7', 'string'),\n",
       " ('_c8', 'string'),\n",
       " ('_c9', 'string')]"
      ]
     },
     "execution_count": 2,
     "metadata": {},
     "output_type": "execute_result"
    }
   ],
   "source": [
    "path = \"./data/kpop_idols.csv\"\n",
    "# lecture d'un fichier de manière la plus brute\n",
    "df = spark.read.load(path, format=\"csv\")\n",
    "df.dtypes"
   ]
  },
  {
   "cell_type": "code",
   "execution_count": 3,
   "metadata": {},
   "outputs": [
    {
     "data": {
      "text/plain": [
       "pyspark.sql.dataframe.DataFrame"
      ]
     },
     "execution_count": 3,
     "metadata": {},
     "output_type": "execute_result"
    }
   ],
   "source": [
    "type(df)"
   ]
  },
  {
   "cell_type": "code",
   "execution_count": 4,
   "metadata": {},
   "outputs": [
    {
     "data": {
      "text/plain": [
       "[Row(_c0='Stage Name', _c1='Full Name', _c2='Korean Name', _c3='K. Stage Name', _c4='Date of Birth', _c5='Group', _c6='Country', _c7='Birthplace', _c8='Other Group', _c9='Gender'),\n",
       " Row(_c0='A.M', _c1='Seong Hyunwoo', _c2='성현우', _c3='에이엠', _c4='1996-12-31', _c5='Limitless', _c6='South Korea', _c7=None, _c8=None, _c9='M'),\n",
       " Row(_c0='Ace', _c1='Jang Wooyoung', _c2='장우영', _c3='에이스', _c4='1992-08-28', _c5='VAV', _c6='South Korea', _c7=None, _c8=None, _c9='M'),\n",
       " Row(_c0='Aeji', _c1='Kwon Aeji', _c2='권애지', _c3='애지', _c4='1999-10-25', _c5='Hashtag', _c6='South Korea', _c7='Daegu', _c8=None, _c9='F'),\n",
       " Row(_c0='AhIn', _c1='Lee Ahin', _c2='이아인', _c3='아인', _c4='1999-09-27', _c5='MOMOLAND', _c6='South Korea', _c7='Wonju', _c8=None, _c9='F')]"
      ]
     },
     "execution_count": 4,
     "metadata": {},
     "output_type": "execute_result"
    }
   ],
   "source": [
    "df.take(5)"
   ]
  },
  {
   "cell_type": "markdown",
   "metadata": {},
   "source": [
    "## 1.2) Lecture avec les entêtes\n",
    "\n",
    "Recharger le même fichier mais cette fois-ci utilisez l'option header pour rajouter les noms de colonnes à votre df.\n",
    "\n",
    "Appelez l'attribut dtypes et comparez la sortie avec celle de la lecture brute."
   ]
  },
  {
   "cell_type": "code",
   "execution_count": 5,
   "metadata": {
    "scrolled": true
   },
   "outputs": [
    {
     "data": {
      "text/plain": [
       "[('Stage Name', 'string'),\n",
       " ('Full Name', 'string'),\n",
       " ('Korean Name', 'string'),\n",
       " ('K. Stage Name', 'string'),\n",
       " ('Date of Birth', 'string'),\n",
       " ('Group', 'string'),\n",
       " ('Country', 'string'),\n",
       " ('Birthplace', 'string'),\n",
       " ('Other Group', 'string'),\n",
       " ('Gender', 'string')]"
      ]
     },
     "execution_count": 5,
     "metadata": {},
     "output_type": "execute_result"
    }
   ],
   "source": [
    "# l'option 'header' permet de rajouter les noms des colonnes \n",
    "df = spark.read.format('csv').options(header=True).load(path)\n",
    "df.dtypes"
   ]
  },
  {
   "cell_type": "code",
   "execution_count": 6,
   "metadata": {},
   "outputs": [
    {
     "data": {
      "text/plain": [
       "[Row(Stage Name='A.M', Full Name='Seong Hyunwoo', Korean Name='성현우', K. Stage Name='에이엠', Date of Birth='1996-12-31', Group='Limitless', Country='South Korea', Birthplace=None, Other Group=None, Gender='M'),\n",
       " Row(Stage Name='Ace', Full Name='Jang Wooyoung', Korean Name='장우영', K. Stage Name='에이스', Date of Birth='1992-08-28', Group='VAV', Country='South Korea', Birthplace=None, Other Group=None, Gender='M'),\n",
       " Row(Stage Name='Aeji', Full Name='Kwon Aeji', Korean Name='권애지', K. Stage Name='애지', Date of Birth='1999-10-25', Group='Hashtag', Country='South Korea', Birthplace='Daegu', Other Group=None, Gender='F'),\n",
       " Row(Stage Name='AhIn', Full Name='Lee Ahin', Korean Name='이아인', K. Stage Name='아인', Date of Birth='1999-09-27', Group='MOMOLAND', Country='South Korea', Birthplace='Wonju', Other Group=None, Gender='F'),\n",
       " Row(Stage Name='Ahra', Full Name='Go Ahra', Korean Name='고아라', K. Stage Name='아라', Date of Birth='2001-02-21', Group='Favorite', Country='South Korea', Birthplace='Yeosu', Other Group=None, Gender='F')]"
      ]
     },
     "execution_count": 6,
     "metadata": {},
     "output_type": "execute_result"
    }
   ],
   "source": [
    "df.take(5)"
   ]
  },
  {
   "cell_type": "markdown",
   "metadata": {},
   "source": [
    "## 1.3) Lecture avec les types détectés automatiquement\n",
    "\n",
    "Recharger le fichier avec  l'option inferShema.\n",
    "\n",
    "L'option 'inferSchema' permet de transformer les colonnes en types plus précis : entier  / booléens / chaines de caractères... bien sûr spark trouve les types uniquement si le fichier d'origine permet de les trouver de manière simple"
   ]
  },
  {
   "cell_type": "code",
   "execution_count": 7,
   "metadata": {},
   "outputs": [
    {
     "data": {
      "text/plain": [
       "[('Stage Name', 'string'),\n",
       " ('Full Name', 'string'),\n",
       " ('Korean Name', 'string'),\n",
       " ('K. Stage Name', 'string'),\n",
       " ('Date of Birth', 'string'),\n",
       " ('Group', 'string'),\n",
       " ('Country', 'string'),\n",
       " ('Birthplace', 'string'),\n",
       " ('Other Group', 'string'),\n",
       " ('Gender', 'string')]"
      ]
     },
     "execution_count": 7,
     "metadata": {},
     "output_type": "execute_result"
    }
   ],
   "source": [
    "# l'option 'inferSchema' permet de transformer les colonnes en \n",
    "# types plus précis : entier  / booléens / chaines de caractères...\n",
    "# bien sûr spark trouve les types uniquement si le fichier d'origine\n",
    "# permet de les trouver de manière simple\n",
    "df = spark.read.format('csv').options(header=True, inferSchema=True).load(path)\n",
    "df.dtypes"
   ]
  },
  {
   "cell_type": "code",
   "execution_count": 8,
   "metadata": {},
   "outputs": [
    {
     "data": {
      "text/plain": [
       "[Row(Stage Name='A.M', Full Name='Seong Hyunwoo', Korean Name='성현우', K. Stage Name='에이엠', Date of Birth='1996-12-31', Group='Limitless', Country='South Korea', Birthplace=None, Other Group=None, Gender='M'),\n",
       " Row(Stage Name='Ace', Full Name='Jang Wooyoung', Korean Name='장우영', K. Stage Name='에이스', Date of Birth='1992-08-28', Group='VAV', Country='South Korea', Birthplace=None, Other Group=None, Gender='M'),\n",
       " Row(Stage Name='Aeji', Full Name='Kwon Aeji', Korean Name='권애지', K. Stage Name='애지', Date of Birth='1999-10-25', Group='Hashtag', Country='South Korea', Birthplace='Daegu', Other Group=None, Gender='F'),\n",
       " Row(Stage Name='AhIn', Full Name='Lee Ahin', Korean Name='이아인', K. Stage Name='아인', Date of Birth='1999-09-27', Group='MOMOLAND', Country='South Korea', Birthplace='Wonju', Other Group=None, Gender='F'),\n",
       " Row(Stage Name='Ahra', Full Name='Go Ahra', Korean Name='고아라', K. Stage Name='아라', Date of Birth='2001-02-21', Group='Favorite', Country='South Korea', Birthplace='Yeosu', Other Group=None, Gender='F')]"
      ]
     },
     "execution_count": 8,
     "metadata": {},
     "output_type": "execute_result"
    }
   ],
   "source": [
    "df.take(5)"
   ]
  },
  {
   "cell_type": "markdown",
   "metadata": {},
   "source": [
    "## 1.4) L'attribut schema\n",
    "\n",
    "Il vous permet d'afficher le schéma de votre df, avec pour chaque colonne son nom, son type, et si elle accepte les valeurs nulles ou non. "
   ]
  },
  {
   "cell_type": "code",
   "execution_count": 9,
   "metadata": {
    "scrolled": true
   },
   "outputs": [
    {
     "data": {
      "text/plain": [
       "StructType(List(StructField(Stage Name,StringType,true),StructField(Full Name,StringType,true),StructField(Korean Name,StringType,true),StructField(K. Stage Name,StringType,true),StructField(Date of Birth,StringType,true),StructField(Group,StringType,true),StructField(Country,StringType,true),StructField(Birthplace,StringType,true),StructField(Other Group,StringType,true),StructField(Gender,StringType,true)))"
      ]
     },
     "execution_count": 9,
     "metadata": {},
     "output_type": "execute_result"
    }
   ],
   "source": [
    "df.schema"
   ]
  },
  {
   "cell_type": "markdown",
   "metadata": {},
   "source": [
    "Vous avez aussi la méthode printSchema() qui permet d'afficher le shéma du df de manière plus lisible."
   ]
  },
  {
   "cell_type": "code",
   "execution_count": 10,
   "metadata": {},
   "outputs": [
    {
     "name": "stdout",
     "output_type": "stream",
     "text": [
      "root\n",
      " |-- Stage Name: string (nullable = true)\n",
      " |-- Full Name: string (nullable = true)\n",
      " |-- Korean Name: string (nullable = true)\n",
      " |-- K. Stage Name: string (nullable = true)\n",
      " |-- Date of Birth: string (nullable = true)\n",
      " |-- Group: string (nullable = true)\n",
      " |-- Country: string (nullable = true)\n",
      " |-- Birthplace: string (nullable = true)\n",
      " |-- Other Group: string (nullable = true)\n",
      " |-- Gender: string (nullable = true)\n",
      "\n"
     ]
    }
   ],
   "source": [
    "df.printSchema()"
   ]
  },
  {
   "cell_type": "markdown",
   "metadata": {},
   "source": [
    "# 2) Ecriture de la dataframe sur le disque\n",
    "\n",
    "Sauvegardez le df sous différents formats."
   ]
  },
  {
   "cell_type": "markdown",
   "metadata": {},
   "source": [
    "## 2.1) choix du format : csv"
   ]
  },
  {
   "cell_type": "code",
   "execution_count": 11,
   "metadata": {},
   "outputs": [],
   "source": [
    "df.write.format(\"csv\").save(\"./data/csv\")"
   ]
  },
  {
   "cell_type": "markdown",
   "metadata": {},
   "source": [
    "## 2.2) choix du format : parquet"
   ]
  },
  {
   "cell_type": "code",
   "execution_count": 12,
   "metadata": {},
   "outputs": [
    {
     "ename": "AnalysisException",
     "evalue": "Attribute name \"Stage Name\" contains invalid character(s) among \" ,;{}()\\n\\t=\". Please use alias to rename it.;",
     "output_type": "error",
     "traceback": [
      "\u001b[0;31m---------------------------------------------------------------------------\u001b[0m",
      "\u001b[0;31mAnalysisException\u001b[0m                         Traceback (most recent call last)",
      "\u001b[0;32m<ipython-input-12-116bbc68c3c5>\u001b[0m in \u001b[0;36m<module>\u001b[0;34m\u001b[0m\n\u001b[0;32m----> 1\u001b[0;31m \u001b[0mdf\u001b[0m\u001b[0;34m.\u001b[0m\u001b[0mwrite\u001b[0m\u001b[0;34m.\u001b[0m\u001b[0mformat\u001b[0m\u001b[0;34m(\u001b[0m\u001b[0;34m\"parquet\"\u001b[0m\u001b[0;34m)\u001b[0m\u001b[0;34m.\u001b[0m\u001b[0msave\u001b[0m\u001b[0;34m(\u001b[0m\u001b[0;34m\"./data/parquet\"\u001b[0m\u001b[0;34m)\u001b[0m\u001b[0;34m\u001b[0m\u001b[0;34m\u001b[0m\u001b[0m\n\u001b[0m",
      "\u001b[0;32m/usr/local/spark/python/pyspark/sql/readwriter.py\u001b[0m in \u001b[0;36msave\u001b[0;34m(self, path, format, mode, partitionBy, **options)\u001b[0m\n\u001b[1;32m    825\u001b[0m             \u001b[0mself\u001b[0m\u001b[0;34m.\u001b[0m\u001b[0m_jwrite\u001b[0m\u001b[0;34m.\u001b[0m\u001b[0msave\u001b[0m\u001b[0;34m(\u001b[0m\u001b[0;34m)\u001b[0m\u001b[0;34m\u001b[0m\u001b[0;34m\u001b[0m\u001b[0m\n\u001b[1;32m    826\u001b[0m         \u001b[0;32melse\u001b[0m\u001b[0;34m:\u001b[0m\u001b[0;34m\u001b[0m\u001b[0;34m\u001b[0m\u001b[0m\n\u001b[0;32m--> 827\u001b[0;31m             \u001b[0mself\u001b[0m\u001b[0;34m.\u001b[0m\u001b[0m_jwrite\u001b[0m\u001b[0;34m.\u001b[0m\u001b[0msave\u001b[0m\u001b[0;34m(\u001b[0m\u001b[0mpath\u001b[0m\u001b[0;34m)\u001b[0m\u001b[0;34m\u001b[0m\u001b[0;34m\u001b[0m\u001b[0m\n\u001b[0m\u001b[1;32m    828\u001b[0m \u001b[0;34m\u001b[0m\u001b[0m\n\u001b[1;32m    829\u001b[0m     \u001b[0;34m@\u001b[0m\u001b[0msince\u001b[0m\u001b[0;34m(\u001b[0m\u001b[0;36m1.4\u001b[0m\u001b[0;34m)\u001b[0m\u001b[0;34m\u001b[0m\u001b[0;34m\u001b[0m\u001b[0m\n",
      "\u001b[0;32m/usr/local/spark/python/lib/py4j-0.10.9-src.zip/py4j/java_gateway.py\u001b[0m in \u001b[0;36m__call__\u001b[0;34m(self, *args)\u001b[0m\n\u001b[1;32m   1302\u001b[0m \u001b[0;34m\u001b[0m\u001b[0m\n\u001b[1;32m   1303\u001b[0m         \u001b[0manswer\u001b[0m \u001b[0;34m=\u001b[0m \u001b[0mself\u001b[0m\u001b[0;34m.\u001b[0m\u001b[0mgateway_client\u001b[0m\u001b[0;34m.\u001b[0m\u001b[0msend_command\u001b[0m\u001b[0;34m(\u001b[0m\u001b[0mcommand\u001b[0m\u001b[0;34m)\u001b[0m\u001b[0;34m\u001b[0m\u001b[0;34m\u001b[0m\u001b[0m\n\u001b[0;32m-> 1304\u001b[0;31m         return_value = get_return_value(\n\u001b[0m\u001b[1;32m   1305\u001b[0m             answer, self.gateway_client, self.target_id, self.name)\n\u001b[1;32m   1306\u001b[0m \u001b[0;34m\u001b[0m\u001b[0m\n",
      "\u001b[0;32m/usr/local/spark/python/pyspark/sql/utils.py\u001b[0m in \u001b[0;36mdeco\u001b[0;34m(*a, **kw)\u001b[0m\n\u001b[1;32m    132\u001b[0m                 \u001b[0;31m# Hide where the exception came from that shows a non-Pythonic\u001b[0m\u001b[0;34m\u001b[0m\u001b[0;34m\u001b[0m\u001b[0;34m\u001b[0m\u001b[0m\n\u001b[1;32m    133\u001b[0m                 \u001b[0;31m# JVM exception message.\u001b[0m\u001b[0;34m\u001b[0m\u001b[0;34m\u001b[0m\u001b[0;34m\u001b[0m\u001b[0m\n\u001b[0;32m--> 134\u001b[0;31m                 \u001b[0mraise_from\u001b[0m\u001b[0;34m(\u001b[0m\u001b[0mconverted\u001b[0m\u001b[0;34m)\u001b[0m\u001b[0;34m\u001b[0m\u001b[0;34m\u001b[0m\u001b[0m\n\u001b[0m\u001b[1;32m    135\u001b[0m             \u001b[0;32melse\u001b[0m\u001b[0;34m:\u001b[0m\u001b[0;34m\u001b[0m\u001b[0;34m\u001b[0m\u001b[0m\n\u001b[1;32m    136\u001b[0m                 \u001b[0;32mraise\u001b[0m\u001b[0;34m\u001b[0m\u001b[0;34m\u001b[0m\u001b[0m\n",
      "\u001b[0;32m/usr/local/spark/python/pyspark/sql/utils.py\u001b[0m in \u001b[0;36mraise_from\u001b[0;34m(e)\u001b[0m\n",
      "\u001b[0;31mAnalysisException\u001b[0m: Attribute name \"Stage Name\" contains invalid character(s) among \" ,;{}()\\n\\t=\". Please use alias to rename it.;"
     ]
    }
   ],
   "source": [
    "df.write.format(\"parquet\").save(\"./data/parquet\")"
   ]
  },
  {
   "cell_type": "markdown",
   "metadata": {},
   "source": [
    "## 2.3) choix du format : json"
   ]
  },
  {
   "cell_type": "code",
   "execution_count": 13,
   "metadata": {},
   "outputs": [],
   "source": [
    "df.write.save(\"./data/json\", format=\"json\")"
   ]
  },
  {
   "cell_type": "markdown",
   "metadata": {},
   "source": [
    "## 2.4) Lecture de différents formats\n",
    "\n",
    "Vous pouvez choisir de lire le df sous un format ou un autre en utilisant l'argument format dans la fonction spark.read.load"
   ]
  },
  {
   "cell_type": "code",
   "execution_count": 2,
   "metadata": {},
   "outputs": [
    {
     "name": "stdout",
     "output_type": "stream",
     "text": [
      "kpop_idols_boy_groups.csv  kpop_idols_girl_groups.csv\r\n",
      "kpop_idols.csv\t\t   kpop_music_videos.csv\r\n"
     ]
    }
   ],
   "source": [
    "# le ! vous permet d'executer des commandes dans votre terminal depuis le notebook\n",
    "!ls ./data/"
   ]
  },
  {
   "cell_type": "code",
   "execution_count": 3,
   "metadata": {},
   "outputs": [
    {
     "ename": "NameError",
     "evalue": "name 'spark' is not defined",
     "output_type": "error",
     "traceback": [
      "\u001b[0;31m---------------------------------------------------------------------------\u001b[0m",
      "\u001b[0;31mNameError\u001b[0m                                 Traceback (most recent call last)",
      "\u001b[0;32m<ipython-input-3-384e62d84884>\u001b[0m in \u001b[0;36m<module>\u001b[0;34m\u001b[0m\n\u001b[0;32m----> 1\u001b[0;31m \u001b[0mdf_json\u001b[0m \u001b[0;34m=\u001b[0m \u001b[0mspark\u001b[0m\u001b[0;34m.\u001b[0m\u001b[0mread\u001b[0m\u001b[0;34m.\u001b[0m\u001b[0mload\u001b[0m\u001b[0;34m(\u001b[0m\u001b[0;34m\"./data/\"\u001b[0m\u001b[0;34m,\u001b[0m \u001b[0mformat\u001b[0m\u001b[0;34m=\u001b[0m\u001b[0;34m\"json\"\u001b[0m\u001b[0;34m)\u001b[0m\u001b[0;34m\u001b[0m\u001b[0;34m\u001b[0m\u001b[0m\n\u001b[0m",
      "\u001b[0;31mNameError\u001b[0m: name 'spark' is not defined"
     ]
    }
   ],
   "source": [
    "df_json = spark.read.load(\"./data/json\", format=\"json\")"
   ]
  },
  {
   "cell_type": "code",
   "execution_count": 14,
   "metadata": {},
   "outputs": [],
   "source": [
    "df_parquet = spark.read.load(\"./data/parquet\", format=\"parquet\")"
   ]
  },
  {
   "cell_type": "markdown",
   "metadata": {},
   "source": [
    "# 3) Calculer des résultats : les actions "
   ]
  },
  {
   "cell_type": "markdown",
   "metadata": {},
   "source": [
    "## 3.1) Nombre de lignes : count\n",
    "\n",
    "Chargez les fichiers csv contenus dans le dossiers ./data/Cyclistes/ dans un df nommé cyclistes, puis comptez les lignes du dataframe obtenu."
   ]
  },
  {
   "cell_type": "code",
   "execution_count": 5,
   "metadata": {},
   "outputs": [
    {
     "data": {
      "text/plain": [
       "1310"
      ]
     },
     "execution_count": 5,
     "metadata": {},
     "output_type": "execute_result"
    }
   ],
   "source": [
    "artistes = spark.read.load(\"./data/kpop_idols.csv\", format=\"csv\", header=True, inferSchema=\"True\")\n",
    "artistes.count()"
   ]
  },
  {
   "cell_type": "markdown",
   "metadata": {},
   "source": [
    "Afficher le schéma de ce nouveau df"
   ]
  },
  {
   "cell_type": "code",
   "execution_count": 18,
   "metadata": {
    "scrolled": false
   },
   "outputs": [
    {
     "name": "stdout",
     "output_type": "stream",
     "text": [
      "root\n",
      " |-- Stage Name: string (nullable = true)\n",
      " |-- Full Name: string (nullable = true)\n",
      " |-- Korean Name: string (nullable = true)\n",
      " |-- K. Stage Name: string (nullable = true)\n",
      " |-- Date of Birth: string (nullable = true)\n",
      " |-- Group: string (nullable = true)\n",
      " |-- Country: string (nullable = true)\n",
      " |-- Birthplace: string (nullable = true)\n",
      " |-- Other Group: string (nullable = true)\n",
      " |-- Gender: string (nullable = true)\n",
      "\n"
     ]
    }
   ],
   "source": [
    "artistes.printSchema()"
   ]
  },
  {
   "cell_type": "markdown",
   "metadata": {},
   "source": [
    "Affichez 10 lignes du df."
   ]
  },
  {
   "cell_type": "code",
   "execution_count": 19,
   "metadata": {
    "scrolled": false
   },
   "outputs": [
    {
     "data": {
      "text/plain": [
       "[Row(Stage Name='A.M', Full Name='Seong Hyunwoo', Korean Name='성현우', K. Stage Name='에이엠', Date of Birth='1996-12-31', Group='Limitless', Country='South Korea', Birthplace=None, Other Group=None, Gender='M'),\n",
       " Row(Stage Name='Ace', Full Name='Jang Wooyoung', Korean Name='장우영', K. Stage Name='에이스', Date of Birth='1992-08-28', Group='VAV', Country='South Korea', Birthplace=None, Other Group=None, Gender='M'),\n",
       " Row(Stage Name='Aeji', Full Name='Kwon Aeji', Korean Name='권애지', K. Stage Name='애지', Date of Birth='1999-10-25', Group='Hashtag', Country='South Korea', Birthplace='Daegu', Other Group=None, Gender='F'),\n",
       " Row(Stage Name='AhIn', Full Name='Lee Ahin', Korean Name='이아인', K. Stage Name='아인', Date of Birth='1999-09-27', Group='MOMOLAND', Country='South Korea', Birthplace='Wonju', Other Group=None, Gender='F'),\n",
       " Row(Stage Name='Ahra', Full Name='Go Ahra', Korean Name='고아라', K. Stage Name='아라', Date of Birth='2001-02-21', Group='Favorite', Country='South Korea', Birthplace='Yeosu', Other Group=None, Gender='F'),\n",
       " Row(Stage Name='Ahyoung', Full Name='Cho Jayoung', Korean Name='조자영', K. Stage Name='아영', Date of Birth='1991-05-26', Group='Dal Shabet', Country='South Korea', Birthplace='Seoul', Other Group=None, Gender='F'),\n",
       " Row(Stage Name='Ahyung', Full Name='Kang Ahyoung', Korean Name='강아형', K. Stage Name='아형', Date of Birth='1996-08-27', Group='P.O.P', Country='South Korea', Birthplace='Pohang', Other Group=None, Gender='F'),\n",
       " Row(Stage Name='Ailee', Full Name='Lee Yejin', Korean Name='이예진', K. Stage Name='에일리', Date of Birth='1989-05-30', Group=None, Country='South Korea', Birthplace='Denver', Other Group=None, Gender='F'),\n",
       " Row(Stage Name='Aini', Full Name='Kim Heejung', Korean Name='김희정', K. Stage Name='아이니', Date of Birth='1991-07-13', Group='Pink Fantasy', Country='South Korea', Birthplace=None, Other Group=None, Gender='F'),\n",
       " Row(Stage Name='Aisha', Full Name='Heo Yoorim', Korean Name='허유림', K. Stage Name='아샤', Date of Birth='2000-07-21', Group='Everglow', Country='South Korea', Birthplace=None, Other Group=None, Gender='F')]"
      ]
     },
     "execution_count": 19,
     "metadata": {},
     "output_type": "execute_result"
    }
   ],
   "source": [
    "artistes.take(10)"
   ]
  },
  {
   "cell_type": "markdown",
   "metadata": {},
   "source": [
    "## Reload de la dataframe Girls Group\n",
    "\n",
    "Chargez le fichier girl_groups dans un df nommé girl_groups."
   ]
  },
  {
   "cell_type": "code",
   "execution_count": 19,
   "metadata": {
    "scrolled": true
   },
   "outputs": [
    {
     "name": "stdout",
     "output_type": "stream",
     "text": [
      "root\n",
      " |-- Name: string (nullable = true)\n",
      " |-- Short: string (nullable = true)\n",
      " |-- Korean Name: string (nullable = true)\n",
      " |-- Debut: string (nullable = true)\n",
      " |-- Company: string (nullable = true)\n",
      " |-- Members: integer (nullable = true)\n",
      " |-- Original Members: integer (nullable = true)\n",
      " |-- Fanclub Name: string (nullable = true)\n",
      " |-- Active: string (nullable = true)\n",
      "\n"
     ]
    }
   ],
   "source": [
    "girl_groups =spark.read.load(\"./data/kpop_idols_girl_groups.csv\", format=\"csv\", header=True, inferSchema=\"True\")\n",
    "girl_groups.printSchema()"
   ]
  },
  {
   "cell_type": "code",
   "execution_count": 20,
   "metadata": {},
   "outputs": [
    {
     "data": {
      "text/plain": [
       "[Row(Name='(G)I-DLE', Short=None, Korean Name='(여자)아이들', Debut='2018-05-02', Company='Cube', Members=6, Original Members=6, Fanclub Name=None, Active='Yes'),\n",
       " Row(Name='15&', Short=None, Korean Name='피프틴앤드', Debut='2012-10-05', Company='JYP', Members=2, Original Members=2, Fanclub Name=None, Active='No'),\n",
       " Row(Name='2EYES', Short=None, Korean Name='투아이즈', Debut='2013-07-20', Company='SidusHQ', Members=4, Original Members=5, Fanclub Name=None, Active='No'),\n",
       " Row(Name='2NE1', Short=None, Korean Name='투애니원', Debut='2009-05-06', Company='YG', Members=4, Original Members=4, Fanclub Name='Blackjack', Active='No'),\n",
       " Row(Name='3YE', Short=None, Korean Name='써드아이', Debut='2019-05-21', Company='GH', Members=3, Original Members=3, Fanclub Name=None, Active='Yes'),\n",
       " Row(Name='4Minute', Short=None, Korean Name='포미닛', Debut='2009-06-15', Company='Cube', Members=5, Original Members=5, Fanclub Name='4nia', Active='No'),\n",
       " Row(Name='4TEN', Short=None, Korean Name='포텐', Debut='2014-08-26', Company='Jungle', Members=4, Original Members=4, Fanclub Name=None, Active='Yes'),\n",
       " Row(Name='9Muses', Short='Nine Muses', Korean Name='나인뮤지스', Debut='2010-08-12', Company='Star Empire', Members=4, Original Members=9, Fanclub Name='MINE', Active='No'),\n",
       " Row(Name='A.DE', Short=None, Korean Name='에이디이', Debut='2016-07-23', Company='2ABLE', Members=6, Original Members=7, Fanclub Name=None, Active='No'),\n",
       " Row(Name='ABRY', Short=None, Korean Name='에이브리', Debut='2017-11-15', Company='withHC', Members=4, Original Members=4, Fanclub Name=None, Active='Yes')]"
      ]
     },
     "execution_count": 20,
     "metadata": {},
     "output_type": "execute_result"
    }
   ],
   "source": [
    "girl_groups.take(10)"
   ]
  },
  {
   "cell_type": "markdown",
   "metadata": {},
   "source": [
    "## 3.4) corrélation\n",
    "\n",
    "En probabilités et en statistique, la corrélation entre plusieurs variables aléatoires ou statistiques est une notion de liaison qui contredit leur indépendance.\n",
    "\n",
    "Calculez la corrélation entre les colonnes age et vitesse_a_velo."
   ]
  },
  {
   "cell_type": "code",
   "execution_count": 21,
   "metadata": {},
   "outputs": [
    {
     "data": {
      "text/plain": [
       "0.8675222309785784"
      ]
     },
     "execution_count": 21,
     "metadata": {},
     "output_type": "execute_result"
    }
   ],
   "source": [
    "girl_groups.corr(\"Members\", \"Original Members\")"
   ]
  },
  {
   "cell_type": "markdown",
   "metadata": {},
   "source": [
    "## 3.5) covariance\n",
    "\n",
    "La covariance entre deux variables aléatoires est un nombre permettant de quantifier leurs écarts conjoints par rapport à leurs espérances respectives. Elle s’utilise également pour deux séries de données numériques (écarts par rapport aux moyennes).\n",
    "La covariance est une extension de la notion de variance. La corrélation est une forme normalisée de la covariance."
   ]
  },
  {
   "cell_type": "code",
   "execution_count": 22,
   "metadata": {},
   "outputs": [
    {
     "data": {
      "text/plain": [
       "3.435691878703381"
      ]
     },
     "execution_count": 22,
     "metadata": {},
     "output_type": "execute_result"
    }
   ],
   "source": [
    "girl_groups.cov(\"Members\", \"Original Members\")"
   ]
  },
  {
   "cell_type": "markdown",
   "metadata": {},
   "source": [
    "## 3.6) sample\n",
    "\n",
    "La méthode sample() permet de tirer aléatoirement une fraction du dataframe."
   ]
  },
  {
   "cell_type": "code",
   "execution_count": 23,
   "metadata": {},
   "outputs": [
    {
     "data": {
      "text/plain": [
       "152"
      ]
     },
     "execution_count": 23,
     "metadata": {},
     "output_type": "execute_result"
    }
   ],
   "source": [
    "girl_groups.count()"
   ]
  },
  {
   "cell_type": "code",
   "execution_count": 25,
   "metadata": {},
   "outputs": [
    {
     "data": {
      "text/plain": [
       "2"
      ]
     },
     "execution_count": 25,
     "metadata": {},
     "output_type": "execute_result"
    }
   ],
   "source": [
    "girl_groups_1_pct = girl_groups.sample(False, 0.01)\n",
    "girl_groups_1_pct.count()"
   ]
  },
  {
   "cell_type": "code",
   "execution_count": 26,
   "metadata": {},
   "outputs": [
    {
     "data": {
      "text/plain": [
       "[Row(Name='(G)I-DLE', Short=None, Korean Name='(여자)아이들', Debut='2018-05-02', Company='Cube', Members=6, Original Members=6, Fanclub Name=None, Active='Yes'),\n",
       " Row(Name='Tahiti', Short=None, Korean Name='타히티', Debut='2012-06-23', Company='J-line', Members=5, Original Members=6, Fanclub Name=None, Active='No')]"
      ]
     },
     "execution_count": 26,
     "metadata": {},
     "output_type": "execute_result"
    }
   ],
   "source": [
    "girl_groups_1_pct.collect()"
   ]
  },
  {
   "cell_type": "code",
   "execution_count": 27,
   "metadata": {},
   "outputs": [
    {
     "data": {
      "text/plain": [
       "150"
      ]
     },
     "execution_count": 27,
     "metadata": {},
     "output_type": "execute_result"
    }
   ],
   "source": [
    "girl_groups.exceptAll(girl_groups_1_pct).count()"
   ]
  },
  {
   "cell_type": "markdown",
   "metadata": {},
   "source": [
    "## 3.7) filter \n",
    "\n",
    "La méthode filter() permet le df selon certaines valeurs dans les colonnes.\n",
    "\n",
    "Utilisez cette méthode pour récuperer seulement les lignes ou le groupe est actif."
   ]
  },
  {
   "cell_type": "code",
   "execution_count": 28,
   "metadata": {},
   "outputs": [],
   "source": [
    "actif = girl_groups.filter(girl_groups[\"Active\"]==\"Yes\")"
   ]
  },
  {
   "cell_type": "code",
   "execution_count": 29,
   "metadata": {},
   "outputs": [
    {
     "data": {
      "text/plain": [
       "88"
      ]
     },
     "execution_count": 29,
     "metadata": {},
     "output_type": "execute_result"
    }
   ],
   "source": [
    "actif.count()"
   ]
  },
  {
   "cell_type": "code",
   "execution_count": 30,
   "metadata": {
    "scrolled": true
   },
   "outputs": [
    {
     "data": {
      "text/plain": [
       "[Row(Name='(G)I-DLE', Short=None, Korean Name='(여자)아이들', Debut='2018-05-02', Company='Cube', Members=6, Original Members=6, Fanclub Name=None, Active='Yes'),\n",
       " Row(Name='3YE', Short=None, Korean Name='써드아이', Debut='2019-05-21', Company='GH', Members=3, Original Members=3, Fanclub Name=None, Active='Yes'),\n",
       " Row(Name='4TEN', Short=None, Korean Name='포텐', Debut='2014-08-26', Company='Jungle', Members=4, Original Members=4, Fanclub Name=None, Active='Yes'),\n",
       " Row(Name='ABRY', Short=None, Korean Name='에이브리', Debut='2017-11-15', Company='withHC', Members=4, Original Members=4, Fanclub Name=None, Active='Yes'),\n",
       " Row(Name='AiRiSu', Short=None, Korean Name='아이리수', Debut='2018-07-25', Company='Jang', Members=4, Original Members=4, Fanclub Name=None, Active='Yes'),\n",
       " Row(Name='ANS', Short=None, Korean Name='에이엔에스', Debut='2019-09-16', Company='ANS', Members=8, Original Members=6, Fanclub Name=None, Active='Yes'),\n",
       " Row(Name='AOA', Short=None, Korean Name='에이오에이', Debut='2012-07-30', Company='FNC', Members=5, Original Members=8, Fanclub Name='ELVIS', Active='Yes'),\n",
       " Row(Name='Apink', Short=None, Korean Name='에이핑크', Debut='2011-04-19', Company='Plan A', Members=6, Original Members=7, Fanclub Name='Pink Panda', Active='Yes'),\n",
       " Row(Name='April', Short=None, Korean Name='에이프릴', Debut='2015-08-24', Company='DSP', Members=6, Original Members=6, Fanclub Name='Fineapple', Active='Yes'),\n",
       " Row(Name='Ariaz', Short=None, Korean Name='아리아즈', Debut='2019-10-23', Company='Rising Star', Members=6, Original Members=6, Fanclub Name=None, Active='Yes')]"
      ]
     },
     "execution_count": 30,
     "metadata": {},
     "output_type": "execute_result"
    }
   ],
   "source": [
    "actif.take(10)"
   ]
  },
  {
   "cell_type": "markdown",
   "metadata": {},
   "source": [
    "On peux aussi filtrer le df avec la méthode where(). Filtrez le df de la même façon que precedemment en utilisant cette méthode."
   ]
  },
  {
   "cell_type": "code",
   "execution_count": 28,
   "metadata": {},
   "outputs": [
    {
     "ename": "NameError",
     "evalue": "name 'actif' is not defined",
     "output_type": "error",
     "traceback": [
      "\u001b[0;31m---------------------------------------------------------------------------\u001b[0m",
      "\u001b[0;31mNameError\u001b[0m                                 Traceback (most recent call last)",
      "\u001b[0;32m<ipython-input-28-7e1a461d1d9f>\u001b[0m in \u001b[0;36m<module>\u001b[0;34m\u001b[0m\n\u001b[0;32m----> 1\u001b[0;31m \u001b[0mactif\u001b[0m\u001b[0;34m.\u001b[0m\u001b[0mwhere\u001b[0m\u001b[0;34m(\u001b[0m\u001b[0mgirl_groups\u001b[0m\u001b[0;34m.\u001b[0m\u001b[0mActive\u001b[0m\u001b[0;34m==\u001b[0m\u001b[0;34m\"Yes\"\u001b[0m\u001b[0;34m)\u001b[0m\u001b[0;34m.\u001b[0m\u001b[0mcount\u001b[0m\u001b[0;34m(\u001b[0m\u001b[0;34m)\u001b[0m\u001b[0;34m\u001b[0m\u001b[0;34m\u001b[0m\u001b[0m\n\u001b[0m",
      "\u001b[0;31mNameError\u001b[0m: name 'actif' is not defined"
     ]
    }
   ],
   "source": [
    "actif.where(girl_groups.Active==\"Yes\").count()"
   ]
  },
  {
   "cell_type": "markdown",
   "metadata": {},
   "source": [
    "# 4) Transformer la données : les transformations!"
   ]
  },
  {
   "cell_type": "markdown",
   "metadata": {},
   "source": [
    "## Transformations : demandent à être suivi par un collect ou une action (count par exemple)"
   ]
  },
  {
   "cell_type": "markdown",
   "metadata": {},
   "source": [
    "## 4.1) Obtenir des statistiques sur les colonnes numériques\n",
    "\n",
    "La méthode describe() permet de calculer les statistiques récapitulatives d'une ou plusieurs colonnes numériques dans un df. Si le nom des colonnes n'est pas spécifié, la méthode calculera des statistiques récapitulatives pour toutes les colonnes numériques présentes dans le df.\n",
    "\n",
    "Afficher les statistiques de la colonne age."
   ]
  },
  {
   "cell_type": "code",
   "execution_count": 32,
   "metadata": {
    "scrolled": false
   },
   "outputs": [
    {
     "data": {
      "text/plain": [
       "[Row(summary='count', Members='152'),\n",
       " Row(summary='mean', Members='5.065789473684211'),\n",
       " Row(summary='stddev', Members='1.9655006359925546'),\n",
       " Row(summary='min', Members='2'),\n",
       " Row(summary='max', Members='13')]"
      ]
     },
     "execution_count": 32,
     "metadata": {},
     "output_type": "execute_result"
    }
   ],
   "source": [
    "girl_groups.describe([\"Members\"]).collect()"
   ]
  },
  {
   "cell_type": "code",
   "execution_count": 33,
   "metadata": {},
   "outputs": [
    {
     "name": "stdout",
     "output_type": "stream",
     "text": [
      "+-------+------------------+\n",
      "|summary|           Members|\n",
      "+-------+------------------+\n",
      "|  count|               152|\n",
      "|   mean| 5.065789473684211|\n",
      "| stddev|1.9655006359925546|\n",
      "|    min|                 2|\n",
      "|    max|                13|\n",
      "+-------+------------------+\n",
      "\n"
     ]
    }
   ],
   "source": [
    "girl_groups.describe([\"Members\"]).show()"
   ]
  },
  {
   "cell_type": "markdown",
   "metadata": {},
   "source": [
    "## 4.2) groupby\n",
    "\n",
    "La méthode groupBy() suivie de la methode agg() permet de grouper le df selon les catgories d'une ou plusieurs colonnes pour faire des calculs sur ces catégories."
   ]
  },
  {
   "cell_type": "code",
   "execution_count": 34,
   "metadata": {},
   "outputs": [
    {
     "name": "stdout",
     "output_type": "stream",
     "text": [
      "root\n",
      " |-- Date: string (nullable = true)\n",
      " |-- Artist: string (nullable = true)\n",
      " |-- Song Name: string (nullable = true)\n",
      " |-- Korean Name: string (nullable = true)\n",
      " |-- Director: string (nullable = true)\n",
      " |-- Video: string (nullable = true)\n",
      " |-- Type: string (nullable = true)\n",
      " |-- Release: string (nullable = true)\n",
      "\n"
     ]
    }
   ],
   "source": [
    "music_video =spark.read.load(\"./data/kpop_music_videos.csv\", format=\"csv\", header=True, inferSchema=\"True\")\n",
    "music_video.printSchema()"
   ]
  },
  {
   "cell_type": "code",
   "execution_count": 38,
   "metadata": {},
   "outputs": [
    {
     "data": {
      "text/plain": [
       "[Row(Release='OST', avg(Type)=None),\n",
       " Row(Release='Minor', avg(Type)=None),\n",
       " Row(Release='Chinese', avg(Type)=None),\n",
       " Row(Release=None, avg(Type)=None),\n",
       " Row(Release='Special', avg(Type)=None),\n",
       " Row(Release='Japanese', avg(Type)=None),\n",
       " Row(Release='English', avg(Type)=None),\n",
       " Row(Release='Major', avg(Type)=None),\n",
       " Row(Release='CF', avg(Type)=None)]"
      ]
     },
     "execution_count": 38,
     "metadata": {},
     "output_type": "execute_result"
    }
   ],
   "source": [
    "music_video.groupBy(\"Release\").agg({\"Type\" : \"mean\"}).collect()"
   ]
  },
  {
   "cell_type": "markdown",
   "metadata": {},
   "source": [
    "Affichez la moyenne de la colonne Type et de la colonne Release par Artiste."
   ]
  },
  {
   "cell_type": "code",
   "execution_count": 40,
   "metadata": {},
   "outputs": [
    {
     "data": {
      "text/plain": [
       "[Row(Artist='ASTRO', avg(Type)=None, avg(Release)=None),\n",
       " Row(Artist='Woojoo jjokkomi', avg(Type)=None, avg(Release)=None),\n",
       " Row(Artist='Cross Gene', avg(Type)=None, avg(Release)=None),\n",
       " Row(Artist='Hint', avg(Type)=None, avg(Release)=None),\n",
       " Row(Artist='Nell', avg(Type)=None, avg(Release)=None),\n",
       " Row(Artist='Flower', avg(Type)=None, avg(Release)=None),\n",
       " Row(Artist='miss A', avg(Type)=None, avg(Release)=None),\n",
       " Row(Artist='Nemesis', avg(Type)=None, avg(Release)=None),\n",
       " Row(Artist='Varsity', avg(Type)=None, avg(Release)=None),\n",
       " Row(Artist='Hur Youngji', avg(Type)=None, avg(Release)=None),\n",
       " Row(Artist='Shannon', avg(Type)=None, avg(Release)=None),\n",
       " Row(Artist='1PUNCH', avg(Type)=None, avg(Release)=None),\n",
       " Row(Artist='Siyeon (Dreamcatcher)', avg(Type)=None, avg(Release)=None),\n",
       " Row(Artist='Eunki', avg(Type)=None, avg(Release)=None),\n",
       " Row(Artist='BNF', avg(Type)=None, avg(Release)=None),\n",
       " Row(Artist='Yery Band', avg(Type)=None, avg(Release)=None),\n",
       " Row(Artist='Oneus', avg(Type)=None, avg(Release)=None),\n",
       " Row(Artist='Sunmi', avg(Type)=None, avg(Release)=None),\n",
       " Row(Artist='NCT U', avg(Type)=None, avg(Release)=None),\n",
       " Row(Artist='UBeat', avg(Type)=None, avg(Release)=None),\n",
       " Row(Artist='Black6ix', avg(Type)=None, avg(Release)=None),\n",
       " Row(Artist='Airisu', avg(Type)=None, avg(Release)=None),\n",
       " Row(Artist='BLK', avg(Type)=None, avg(Release)=None),\n",
       " Row(Artist='HashTag', avg(Type)=None, avg(Release)=None),\n",
       " Row(Artist='Stellar', avg(Type)=None, avg(Release)=None),\n",
       " Row(Artist='A.H.H.A', avg(Type)=None, avg(Release)=None),\n",
       " Row(Artist='2Z', avg(Type)=None, avg(Release)=None),\n",
       " Row(Artist='Hinapia', avg(Type)=None, avg(Release)=None),\n",
       " Row(Artist='AKMU', avg(Type)=None, avg(Release)=None),\n",
       " Row(Artist='H.O.T', avg(Type)=None, avg(Release)=None),\n",
       " Row(Artist='Paul Kim, Chungha', avg(Type)=None, avg(Release)=None),\n",
       " Row(Artist=\"Seven O'Clock\", avg(Type)=None, avg(Release)=None),\n",
       " Row(Artist='GreatGuys', avg(Type)=None, avg(Release)=None),\n",
       " Row(Artist='Chen (EXO)', avg(Type)=None, avg(Release)=None),\n",
       " Row(Artist='MINO', avg(Type)=None, avg(Release)=None),\n",
       " Row(Artist='A.KOR', avg(Type)=None, avg(Release)=None),\n",
       " Row(Artist='Aqua', avg(Type)=None, avg(Release)=None),\n",
       " Row(Artist='UNVS', avg(Type)=None, avg(Release)=None),\n",
       " Row(Artist='B.O.Y', avg(Type)=None, avg(Release)=None),\n",
       " Row(Artist='High School', avg(Type)=None, avg(Release)=None),\n",
       " Row(Artist='Mighty Mouth', avg(Type)=None, avg(Release)=None),\n",
       " Row(Artist='GD X TAEYANG', avg(Type)=None, avg(Release)=None),\n",
       " Row(Artist='We In The Zone', avg(Type)=None, avg(Release)=None),\n",
       " Row(Artist='Sam Kim', avg(Type)=None, avg(Release)=None),\n",
       " Row(Artist='Baba', avg(Type)=None, avg(Release)=None),\n",
       " Row(Artist='Laysha', avg(Type)=None, avg(Release)=None),\n",
       " Row(Artist='15&', avg(Type)=None, avg(Release)=None),\n",
       " Row(Artist='Golden Child', avg(Type)=None, avg(Release)=None),\n",
       " Row(Artist='HeyGirls', avg(Type)=None, avg(Release)=None),\n",
       " Row(Artist='CASHCOMA', avg(Type)=None, avg(Release)=None),\n",
       " Row(Artist='Unnies', avg(Type)=None, avg(Release)=None),\n",
       " Row(Artist='101', avg(Type)=None, avg(Release)=None),\n",
       " Row(Artist='KARA', avg(Type)=None, avg(Release)=None),\n",
       " Row(Artist='N*White', avg(Type)=None, avg(Release)=None),\n",
       " Row(Artist='Natty', avg(Type)=None, avg(Release)=None),\n",
       " Row(Artist='MustB', avg(Type)=None, avg(Release)=None),\n",
       " Row(Artist='Sohee', avg(Type)=None, avg(Release)=None),\n",
       " Row(Artist='High4, Lim Kim', avg(Type)=None, avg(Release)=None),\n",
       " Row(Artist='Evening', avg(Type)=None, avg(Release)=None),\n",
       " Row(Artist='MeloMance', avg(Type)=None, avg(Release)=None),\n",
       " Row(Artist='Juniel', avg(Type)=None, avg(Release)=None),\n",
       " Row(Artist='Topp Dogg', avg(Type)=None, avg(Release)=None),\n",
       " Row(Artist='PIERCE', avg(Type)=None, avg(Release)=None),\n",
       " Row(Artist='Chocolat', avg(Type)=None, avg(Release)=None),\n",
       " Row(Artist='Oh My Girl', avg(Type)=None, avg(Release)=None),\n",
       " Row(Artist='Minty', avg(Type)=None, avg(Release)=None),\n",
       " Row(Artist='Honey Popcorn', avg(Type)=None, avg(Release)=None),\n",
       " Row(Artist='Lee Gikwang', avg(Type)=None, avg(Release)=None),\n",
       " Row(Artist='Laboum', avg(Type)=None, avg(Release)=None),\n",
       " Row(Artist='Bigflo', avg(Type)=None, avg(Release)=None),\n",
       " Row(Artist='Bvndit', avg(Type)=None, avg(Release)=None),\n",
       " Row(Artist='Jennie', avg(Type)=None, avg(Release)=None),\n",
       " Row(Artist='SixBomb', avg(Type)=None, avg(Release)=None),\n",
       " Row(Artist='Dimepiece', avg(Type)=None, avg(Release)=None),\n",
       " Row(Artist='TRCNG', avg(Type)=None, avg(Release)=None),\n",
       " Row(Artist='VAV', avg(Type)=None, avg(Release)=None),\n",
       " Row(Artist='Chic Angel, Cupid', avg(Type)=None, avg(Release)=None),\n",
       " Row(Artist='Inx', avg(Type)=None, avg(Release)=None),\n",
       " Row(Artist='Tiny-G M', avg(Type)=None, avg(Release)=None),\n",
       " Row(Artist='REDSQUARE', avg(Type)=None, avg(Release)=None),\n",
       " Row(Artist='PRISTIN V', avg(Type)=None, avg(Release)=None),\n",
       " Row(Artist='Big Byung', avg(Type)=None, avg(Release)=None),\n",
       " Row(Artist='Taeyeon', avg(Type)=None, avg(Release)=None),\n",
       " Row(Artist='EXID', avg(Type)=None, avg(Release)=None),\n",
       " Row(Artist='Giant Pink', avg(Type)=None, avg(Release)=None),\n",
       " Row(Artist='GeeGu', avg(Type)=None, avg(Release)=None),\n",
       " Row(Artist='Trei', avg(Type)=None, avg(Release)=None),\n",
       " Row(Artist='Ryeowook', avg(Type)=None, avg(Release)=None),\n",
       " Row(Artist='gugudan', avg(Type)=None, avg(Release)=None),\n",
       " Row(Artist='24Hours', avg(Type)=None, avg(Release)=None),\n",
       " Row(Artist='N.Flying', avg(Type)=None, avg(Release)=None),\n",
       " Row(Artist='MCND', avg(Type)=None, avg(Release)=None),\n",
       " Row(Artist='Station', avg(Type)=None, avg(Release)=None),\n",
       " Row(Artist='Seongri', avg(Type)=None, avg(Release)=None),\n",
       " Row(Artist='Snuper', avg(Type)=None, avg(Release)=None),\n",
       " Row(Artist='Crush', avg(Type)=None, avg(Release)=None),\n",
       " Row(Artist='Dia', avg(Type)=None, avg(Release)=None),\n",
       " Row(Artist='The Eastlight', avg(Type)=None, avg(Release)=None),\n",
       " Row(Artist='Fiestar, IU', avg(Type)=None, avg(Release)=None),\n",
       " Row(Artist='The Grace - Dana&Sunday', avg(Type)=None, avg(Release)=None),\n",
       " Row(Artist='Kisum', avg(Type)=None, avg(Release)=None),\n",
       " Row(Artist='Kino (Pentagon)', avg(Type)=None, avg(Release)=None),\n",
       " Row(Artist='Hello Venus', avg(Type)=None, avg(Release)=None),\n",
       " Row(Artist='Bambino', avg(Type)=None, avg(Release)=None),\n",
       " Row(Artist='Nam Woohyun', avg(Type)=None, avg(Release)=None),\n",
       " Row(Artist='G-reyish', avg(Type)=None, avg(Release)=None),\n",
       " Row(Artist='Luna', avg(Type)=None, avg(Release)=None),\n",
       " Row(Artist='SG Wannabe', avg(Type)=None, avg(Release)=None),\n",
       " Row(Artist=\"Ladies' Code\", avg(Type)=None, avg(Release)=None),\n",
       " Row(Artist='BtoB-Blue', avg(Type)=None, avg(Release)=None),\n",
       " Row(Artist='Prism', avg(Type)=None, avg(Release)=None),\n",
       " Row(Artist='Halo', avg(Type)=None, avg(Release)=None),\n",
       " Row(Artist='High4, IU', avg(Type)=None, avg(Release)=None),\n",
       " Row(Artist='T-ara, Shannon, Gunji', avg(Type)=None, avg(Release)=None),\n",
       " Row(Artist='Double S 301', avg(Type)=None, avg(Release)=None),\n",
       " Row(Artist='Cool', avg(Type)=None, avg(Release)=None),\n",
       " Row(Artist=\"NU'EST\", avg(Type)=None, avg(Release)=None),\n",
       " Row(Artist='Mamamoo', avg(Type)=None, avg(Release)=None),\n",
       " Row(Artist='Hyuna', avg(Type)=None, avg(Release)=None),\n",
       " Row(Artist='Demion', avg(Type)=None, avg(Release)=None),\n",
       " Row(Artist='8eight', avg(Type)=None, avg(Release)=None),\n",
       " Row(Artist='NCT DREAM', avg(Type)=None, avg(Release)=None),\n",
       " Row(Artist='GDB', avg(Type)=None, avg(Release)=None),\n",
       " Row(Artist='A.De', avg(Type)=None, avg(Release)=None),\n",
       " Row(Artist='T-ara', avg(Type)=None, avg(Release)=None),\n",
       " Row(Artist='M.C The Max', avg(Type)=None, avg(Release)=None),\n",
       " Row(Artist='A.KOR BLACK', avg(Type)=None, avg(Release)=None),\n",
       " Row(Artist='1PS', avg(Type)=None, avg(Release)=None),\n",
       " Row(Artist='Dawn', avg(Type)=None, avg(Release)=None),\n",
       " Row(Artist='Punch', avg(Type)=None, avg(Release)=None),\n",
       " Row(Artist='Rania', avg(Type)=None, avg(Release)=None),\n",
       " Row(Artist='BLANC7', avg(Type)=None, avg(Release)=None),\n",
       " Row(Artist='Fanxy Red', avg(Type)=None, avg(Release)=None),\n",
       " Row(Artist='Waeb', avg(Type)=None, avg(Release)=None),\n",
       " Row(Artist='I.O.I', avg(Type)=None, avg(Release)=None),\n",
       " Row(Artist='Kang Daniel', avg(Type)=None, avg(Release)=None),\n",
       " Row(Artist='Sejeong (gugudan)', avg(Type)=None, avg(Release)=None),\n",
       " Row(Artist='Blackpink', avg(Type)=None, avg(Release)=None),\n",
       " Row(Artist='Koyote', avg(Type)=None, avg(Release)=None),\n",
       " Row(Artist='Bonus Baby', avg(Type)=None, avg(Release)=None),\n",
       " Row(Artist='I.B.I', avg(Type)=None, avg(Release)=None),\n",
       " Row(Artist='AliceWhite', avg(Type)=None, avg(Release)=None),\n",
       " Row(Artist='IMFACT', avg(Type)=None, avg(Release)=None),\n",
       " Row(Artist='Minzy', avg(Type)=None, avg(Release)=None),\n",
       " Row(Artist='The Boyz', avg(Type)=None, avg(Release)=None),\n",
       " Row(Artist='Untouchable', avg(Type)=None, avg(Release)=None),\n",
       " Row(Artist='BOL4', avg(Type)=None, avg(Release)=None),\n",
       " Row(Artist='iKON', avg(Type)=None, avg(Release)=None),\n",
       " Row(Artist='Vanner', avg(Type)=None, avg(Release)=None),\n",
       " Row(Artist='Zhoumi', avg(Type)=None, avg(Release)=None),\n",
       " Row(Artist='2NE1', avg(Type)=None, avg(Release)=None),\n",
       " Row(Artist='f(x)', avg(Type)=None, avg(Release)=None),\n",
       " Row(Artist='Clover', avg(Type)=None, avg(Release)=None),\n",
       " Row(Artist='FTISLAND', avg(Type)=None, avg(Release)=None),\n",
       " Row(Artist='HighSchool', avg(Type)=None, avg(Release)=None),\n",
       " Row(Artist='Ong Seung Wu', avg(Type)=None, avg(Release)=None),\n",
       " Row(Artist='CoCo', avg(Type)=None, avg(Release)=None),\n",
       " Row(Artist='Walwari', avg(Type)=None, avg(Release)=None),\n",
       " Row(Artist='Awesome Baby', avg(Type)=None, avg(Release)=None),\n",
       " Row(Artist='UNB', avg(Type)=None, avg(Release)=None),\n",
       " Row(Artist='Baechigi', avg(Type)=None, avg(Release)=None),\n",
       " Row(Artist='ZZBae', avg(Type)=None, avg(Release)=None),\n",
       " Row(Artist='Eun Jiwon', avg(Type)=None, avg(Release)=None),\n",
       " Row(Artist='Shafla', avg(Type)=None, avg(Release)=None),\n",
       " Row(Artist='ALLSTAR', avg(Type)=None, avg(Release)=None),\n",
       " Row(Artist='ZE:A-Five', avg(Type)=None, avg(Release)=None),\n",
       " Row(Artist='VIXX', avg(Type)=None, avg(Release)=None),\n",
       " Row(Artist='Myteen', avg(Type)=None, avg(Release)=None),\n",
       " Row(Artist='MYTEEN', avg(Type)=None, avg(Release)=None),\n",
       " Row(Artist='DMTN', avg(Type)=None, avg(Release)=None),\n",
       " Row(Artist='CRAVITY', avg(Type)=None, avg(Release)=None),\n",
       " Row(Artist='Sunny Hill', avg(Type)=None, avg(Release)=None),\n",
       " Row(Artist='fromis_9', avg(Type)=None, avg(Release)=None),\n",
       " Row(Artist='Lay', avg(Type)=None, avg(Release)=None),\n",
       " Row(Artist='Mr.Mr', avg(Type)=None, avg(Release)=None),\n",
       " Row(Artist='Dal Shabet', avg(Type)=None, avg(Release)=None),\n",
       " Row(Artist='Busters', avg(Type)=None, avg(Release)=None),\n",
       " Row(Artist='Zico', avg(Type)=None, avg(Release)=None),\n",
       " Row(Artist='WJSN', avg(Type)=None, avg(Release)=None),\n",
       " Row(Artist='Baekhyun', avg(Type)=None, avg(Release)=None),\n",
       " Row(Artist=\"Seven O'clock\", avg(Type)=None, avg(Release)=None),\n",
       " Row(Artist='Tropical', avg(Type)=None, avg(Release)=None),\n",
       " Row(Artist='Fly To The Sky', avg(Type)=None, avg(Release)=None),\n",
       " Row(Artist='Lucky J', avg(Type)=None, avg(Release)=None),\n",
       " Row(Artist='Miso', avg(Type)=None, avg(Release)=None),\n",
       " Row(Artist='Wable', avg(Type)=None, avg(Release)=None),\n",
       " Row(Artist='WJMK', avg(Type)=None, avg(Release)=None),\n",
       " Row(Artist='Lalary', avg(Type)=None, avg(Release)=None),\n",
       " Row(Artist='ABRY', avg(Type)=None, avg(Release)=None),\n",
       " Row(Artist='TVXQ!', avg(Type)=None, avg(Release)=None),\n",
       " Row(Artist='WeGirls', avg(Type)=None, avg(Release)=None),\n",
       " Row(Artist='Benji (B.I.G)', avg(Type)=None, avg(Release)=None),\n",
       " Row(Artist='Teen Teen', avg(Type)=None, avg(Release)=None),\n",
       " Row(Artist='Blanc7', avg(Type)=None, avg(Release)=None),\n",
       " Row(Artist='5URPRISE', avg(Type)=None, avg(Release)=None),\n",
       " Row(Artist='H&D', avg(Type)=None, avg(Release)=None),\n",
       " Row(Artist='P.O', avg(Type)=None, avg(Release)=None),\n",
       " Row(Artist='Ravi', avg(Type)=None, avg(Release)=None),\n",
       " Row(Artist='Vibe', avg(Type)=None, avg(Release)=None),\n",
       " Row(Artist='Sha Sha', avg(Type)=None, avg(Release)=None),\n",
       " Row(Artist='Yellow Bee', avg(Type)=None, avg(Release)=None),\n",
       " Row(Artist='HALO', avg(Type)=None, avg(Release)=None),\n",
       " Row(Artist='Nell, Groovy Room', avg(Type)=None, avg(Release)=None),\n",
       " Row(Artist='Good Day', avg(Type)=None, avg(Release)=None),\n",
       " Row(Artist='Take', avg(Type)=None, avg(Release)=None),\n",
       " Row(Artist='A.T.O', avg(Type)=None, avg(Release)=None),\n",
       " Row(Artist='GOT7', avg(Type)=None, avg(Release)=None),\n",
       " Row(Artist='Loona', avg(Type)=None, avg(Release)=None),\n",
       " Row(Artist='H.B.Y', avg(Type)=None, avg(Release)=None),\n",
       " Row(Artist='A.DE', avg(Type)=None, avg(Release)=None),\n",
       " Row(Artist='Jisook', avg(Type)=None, avg(Release)=None),\n",
       " Row(Artist='Neon Punch', avg(Type)=None, avg(Release)=None),\n",
       " Row(Artist='ii', avg(Type)=None, avg(Release)=None),\n",
       " Row(Artist='D1CE', avg(Type)=None, avg(Release)=None),\n",
       " Row(Artist='HYO', avg(Type)=None, avg(Release)=None),\n",
       " Row(Artist='Ailee', avg(Type)=None, avg(Release)=None),\n",
       " Row(Artist='MVP', avg(Type)=None, avg(Release)=None),\n",
       " Row(Artist='Onewe', avg(Type)=None, avg(Release)=None),\n",
       " Row(Artist='PLT', avg(Type)=None, avg(Release)=None),\n",
       " Row(Artist='Soya', avg(Type)=None, avg(Release)=None),\n",
       " Row(Artist='High4', avg(Type)=None, avg(Release)=None),\n",
       " Row(Artist='2EYES', avg(Type)=None, avg(Release)=None),\n",
       " Row(Artist='DKB', avg(Type)=None, avg(Release)=None),\n",
       " Row(Artist='SuperM', avg(Type)=None, avg(Release)=None),\n",
       " Row(Artist='BM (KARD)', avg(Type)=None, avg(Release)=None),\n",
       " Row(Artist='Jang Wooyoung', avg(Type)=None, avg(Release)=None),\n",
       " Row(Artist='Madtown', avg(Type)=None, avg(Release)=None),\n",
       " Row(Artist='BTL', avg(Type)=None, avg(Release)=None),\n",
       " Row(Artist='(G)I-DLE', avg(Type)=None, avg(Release)=None),\n",
       " Row(Artist='Holics', avg(Type)=None, avg(Release)=None),\n",
       " Row(Artist='ASTIN', avg(Type)=None, avg(Release)=None),\n",
       " Row(Artist='Hotshot', avg(Type)=None, avg(Release)=None),\n",
       " Row(Artist='A-PRINCE', avg(Type)=None, avg(Release)=None),\n",
       " Row(Artist='The Rose', avg(Type)=None, avg(Release)=None),\n",
       " Row(Artist='VOISPER', avg(Type)=None, avg(Release)=None),\n",
       " Row(Artist='HNB (Woo Jin-young, Kim Hyeon-soo)', avg(Type)=None, avg(Release)=None),\n",
       " Row(Artist='Super Junior', avg(Type)=None, avg(Release)=None),\n",
       " Row(Artist='Sulli', avg(Type)=None, avg(Release)=None),\n",
       " Row(Artist='Wanna.B', avg(Type)=None, avg(Release)=None),\n",
       " Row(Artist='MyB', avg(Type)=None, avg(Release)=None),\n",
       " Row(Artist='DreamNote', avg(Type)=None, avg(Release)=None),\n",
       " Row(Artist='Newkidd', avg(Type)=None, avg(Release)=None),\n",
       " Row(Artist='100%', avg(Type)=None, avg(Release)=None),\n",
       " Row(Artist='LoveUs', avg(Type)=None, avg(Release)=None),\n",
       " Row(Artist='C-Clown', avg(Type)=None, avg(Release)=None),\n",
       " Row(Artist='Solar', avg(Type)=None, avg(Release)=None),\n",
       " Row(Artist='Mfect', avg(Type)=None, avg(Release)=None),\n",
       " Row(Artist='Ladies Code', avg(Type)=None, avg(Release)=None),\n",
       " Row(Artist='V.O.S', avg(Type)=None, avg(Release)=None),\n",
       " Row(Artist='GFriend', avg(Type)=None, avg(Release)=None),\n",
       " Row(Artist='SUV', avg(Type)=None, avg(Release)=None),\n",
       " Row(Artist='4L', avg(Type)=None, avg(Release)=None),\n",
       " Row(Artist='Excite', avg(Type)=None, avg(Release)=None),\n",
       " Row(Artist='Winner', avg(Type)=None, avg(Release)=None),\n",
       " Row(Artist='Cherry On Top', avg(Type)=None, avg(Release)=None),\n",
       " Row(Artist='Suzy', avg(Type)=None, avg(Release)=None),\n",
       " Row(Artist='As One', avg(Type)=None, avg(Release)=None),\n",
       " Row(Artist='N-Sonic', avg(Type)=None, avg(Release)=None),\n",
       " Row(Artist='X1', avg(Type)=None, avg(Release)=None),\n",
       " Row(Artist='Son Dongwoon', avg(Type)=None, avg(Release)=None),\n",
       " Row(Artist='Girl Crush', avg(Type)=None, avg(Release)=None),\n",
       " Row(Artist='PinkFantasy Shy', avg(Type)=None, avg(Release)=None),\n",
       " Row(Artist='Pierce', avg(Type)=None, avg(Release)=None),\n",
       " Row(Artist='FLAVOR', avg(Type)=None, avg(Release)=None),\n",
       " Row(Artist='NTB', avg(Type)=None, avg(Release)=None),\n",
       " Row(Artist='Hyeongseop X Euiwoong', avg(Type)=None, avg(Release)=None),\n",
       " Row(Artist='TXT', avg(Type)=None, avg(Release)=None),\n",
       " Row(Artist='CLC', avg(Type)=None, avg(Release)=None),\n",
       " Row(Artist='SEVENTEEN', avg(Type)=None, avg(Release)=None),\n",
       " Row(Artist='Rainbow Blaxx', avg(Type)=None, avg(Release)=None),\n",
       " Row(Artist='Rainbow Pixie', avg(Type)=None, avg(Release)=None),\n",
       " Row(Artist='Weki Meki', avg(Type)=None, avg(Release)=None),\n",
       " Row(Artist='The Pink Lady', avg(Type)=None, avg(Release)=None),\n",
       " Row(Artist='Daehyun', avg(Type)=None, avg(Release)=None),\n",
       " Row(Artist='D.Holic', avg(Type)=None, avg(Release)=None),\n",
       " Row(Artist='Orange Caramel', avg(Type)=None, avg(Release)=None),\n",
       " Row(Artist='Various', avg(Type)=None, avg(Release)=None),\n",
       " Row(Artist='Mamamoo, K.will', avg(Type)=None, avg(Release)=None),\n",
       " Row(Artist='AleXa', avg(Type)=None, avg(Release)=None),\n",
       " Row(Artist='USHN', avg(Type)=None, avg(Release)=None),\n",
       " Row(Artist='Sori', avg(Type)=None, avg(Release)=None),\n",
       " Row(Artist='HEYNE', avg(Type)=None, avg(Release)=None),\n",
       " Row(Artist='U-KISS', avg(Type)=None, avg(Release)=None),\n",
       " Row(Artist='Trouble Maker', avg(Type)=None, avg(Release)=None),\n",
       " Row(Artist='Lana', avg(Type)=None, avg(Release)=None),\n",
       " Row(Artist='Xeno-T', avg(Type)=None, avg(Release)=None),\n",
       " Row(Artist='Trax, Lip2Shot', avg(Type)=None, avg(Release)=None),\n",
       " Row(Artist='9MUSES', avg(Type)=None, avg(Release)=None),\n",
       " Row(Artist='AOA CREAM', avg(Type)=None, avg(Release)=None),\n",
       " Row(Artist='Tiny-G', avg(Type)=None, avg(Release)=None),\n",
       " Row(Artist='After School Blue', avg(Type)=None, avg(Release)=None),\n",
       " Row(Artist='SAAY', avg(Type)=None, avg(Release)=None),\n",
       " Row(Artist='VANNER', avg(Type)=None, avg(Release)=None),\n",
       " Row(Artist='Grizly X Chungha', avg(Type)=None, avg(Release)=None),\n",
       " Row(Artist='CatChuuuu', avg(Type)=None, avg(Release)=None),\n",
       " Row(Artist='Shinhwa', avg(Type)=None, avg(Release)=None),\n",
       " Row(Artist='Pristin', avg(Type)=None, avg(Release)=None),\n",
       " Row(Artist='Taemin', avg(Type)=None, avg(Release)=None),\n",
       " Row(Artist='HIGH4', avg(Type)=None, avg(Release)=None),\n",
       " Row(Artist='ZE:A J', avg(Type)=None, avg(Release)=None),\n",
       " Row(Artist='Blast', avg(Type)=None, avg(Release)=None),\n",
       " Row(Artist='Bob Girls', avg(Type)=None, avg(Release)=None),\n",
       " Row(Artist='D-Unit', avg(Type)=None, avg(Release)=None),\n",
       " Row(Artist='Dreamnote', avg(Type)=None, avg(Release)=None),\n",
       " Row(Artist='High4 20', avg(Type)=None, avg(Release)=None),\n",
       " Row(Artist='Dynamic Duo, Primary, Boi B, Crush', avg(Type)=None, avg(Release)=None),\n",
       " Row(Artist='The Grace', avg(Type)=None, avg(Release)=None),\n",
       " Row(Artist='Somi', avg(Type)=None, avg(Release)=None),\n",
       " Row(Artist='AlphaBAT', avg(Type)=None, avg(Release)=None),\n",
       " Row(Artist='U Sung Eun', avg(Type)=None, avg(Release)=None),\n",
       " Row(Artist='April', avg(Type)=None, avg(Release)=None),\n",
       " Row(Artist='D-Crunch', avg(Type)=None, avg(Release)=None),\n",
       " Row(Artist='YPDA', avg(Type)=None, avg(Release)=None),\n",
       " Row(Artist='JJ Project', avg(Type)=None, avg(Release)=None),\n",
       " Row(Artist='L.A.U', avg(Type)=None, avg(Release)=None),\n",
       " Row(Artist='MelodyDay', avg(Type)=None, avg(Release)=None),\n",
       " Row(Artist='J.Y. Park', avg(Type)=None, avg(Release)=None),\n",
       " Row(Artist='Vitamin', avg(Type)=None, avg(Release)=None),\n",
       " Row(Artist='Longguo & Shihyun', avg(Type)=None, avg(Release)=None),\n",
       " Row(Artist='Girls Next Door', avg(Type)=None, avg(Release)=None),\n",
       " Row(Artist='Beast', avg(Type)=None, avg(Release)=None),\n",
       " Row(Artist='Jenyer', avg(Type)=None, avg(Release)=None),\n",
       " Row(Artist='Jus2', avg(Type)=None, avg(Release)=None),\n",
       " Row(Artist='Eyedi', avg(Type)=None, avg(Release)=None),\n",
       " Row(Artist='Verivery', avg(Type)=None, avg(Release)=None),\n",
       " Row(Artist='M.A.S 0094', avg(Type)=None, avg(Release)=None),\n",
       " Row(Artist='Lim Kim', avg(Type)=None, avg(Release)=None),\n",
       " Row(Artist='ATEEZ', avg(Type)=None, avg(Release)=None),\n",
       " Row(Artist='Billionaire', avg(Type)=None, avg(Release)=None),\n",
       " Row(Artist='5Dolls', avg(Type)=None, avg(Release)=None),\n",
       " Row(Artist='Zgirls', avg(Type)=None, avg(Release)=None),\n",
       " Row(Artist='D-CRUNCH', avg(Type)=None, avg(Release)=None),\n",
       " Row(Artist='We Girls', avg(Type)=None, avg(Release)=None),\n",
       " Row(Artist='Daybreak', avg(Type)=None, avg(Release)=None),\n",
       " Row(Artist='F-ve Dolls', avg(Type)=None, avg(Release)=None),\n",
       " Row(Artist='C-Real', avg(Type)=None, avg(Release)=None),\n",
       " Row(Artist='Dynamic Duo, Chen (EXO)', avg(Type)=None, avg(Release)=None),\n",
       " Row(Artist='Kard', avg(Type)=None, avg(Release)=None),\n",
       " Row(Artist='I.M (Monsta X)', avg(Type)=None, avg(Release)=None),\n",
       " Row(Artist='Choa, Way', avg(Type)=None, avg(Release)=None),\n",
       " Row(Artist='Bubble X', avg(Type)=None, avg(Release)=None),\n",
       " Row(Artist='I.C.E', avg(Type)=None, avg(Release)=None),\n",
       " Row(Artist='Yang Yoseop', avg(Type)=None, avg(Release)=None),\n",
       " Row(Artist='Minx', avg(Type)=None, avg(Release)=None),\n",
       " Row(Artist='Wheein', avg(Type)=None, avg(Release)=None),\n",
       " Row(Artist='Grow.B', avg(Type)=None, avg(Release)=None),\n",
       " Row(Artist='BIGFLO', avg(Type)=None, avg(Release)=None),\n",
       " Row(Artist='JJCC', avg(Type)=None, avg(Release)=None),\n",
       " Row(Artist='W24', avg(Type)=None, avg(Release)=None),\n",
       " Row(Artist='N.Tic', avg(Type)=None, avg(Release)=None),\n",
       " Row(Artist='Sugar Tint', avg(Type)=None, avg(Release)=None),\n",
       " Row(Artist='S.O.U.L', avg(Type)=None, avg(Release)=None),\n",
       " Row(Artist='4Men', avg(Type)=None, avg(Release)=None),\n",
       " Row(Artist='Park Kyung', avg(Type)=None, avg(Release)=None),\n",
       " Row(Artist='Drug Restauant', avg(Type)=None, avg(Release)=None),\n",
       " Row(Artist='TVXQ, Super Junior', avg(Type)=None, avg(Release)=None),\n",
       " Row(Artist='Rocket Punch', avg(Type)=None, avg(Release)=None),\n",
       " Row(Artist='Oh Hayoung', avg(Type)=None, avg(Release)=None),\n",
       " Row(Artist='Maywish', avg(Type)=None, avg(Release)=None),\n",
       " Row(Artist='1NB', avg(Type)=None, avg(Release)=None),\n",
       " Row(Artist='Clon', avg(Type)=None, avg(Release)=None),\n",
       " Row(Artist='Lee Gaeun', avg(Type)=None, avg(Release)=None),\n",
       " Row(Artist='(G)I-dle', avg(Type)=None, avg(Release)=None),\n",
       " Row(Artist='Yukika', avg(Type)=None, avg(Release)=None),\n",
       " Row(Artist='Wanna One', avg(Type)=None, avg(Release)=None),\n",
       " Row(Artist='Tahiti', avg(Type)=None, avg(Release)=None),\n",
       " Row(Artist='Mamamoo, Basick', avg(Type)=None, avg(Release)=None),\n",
       " Row(Artist='Minseo', avg(Type)=None, avg(Release)=None),\n",
       " Row(Artist='Peniel (BtoB)', avg(Type)=None, avg(Release)=None),\n",
       " Row(Artist='LU:KUS', avg(Type)=None, avg(Release)=None),\n",
       " Row(Artist='Supernova', avg(Type)=None, avg(Release)=None),\n",
       " Row(Artist='Tiffany Young', avg(Type)=None, avg(Release)=None),\n",
       " Row(Artist='JooYoung', avg(Type)=None, avg(Release)=None),\n",
       " Row(Artist='APRIL', avg(Type)=None, avg(Release)=None),\n",
       " Row(Artist='GFRIEND', avg(Type)=None, avg(Release)=None),\n",
       " Row(Artist='BIGBANG', avg(Type)=None, avg(Release)=None),\n",
       " Row(Artist='9MUSES A', avg(Type)=None, avg(Release)=None),\n",
       " Row(Artist='Ha Sung Won', avg(Type)=None, avg(Release)=None),\n",
       " Row(Artist='My Sunset', avg(Type)=None, avg(Release)=None),\n",
       " Row(Artist='Jeong Eunji', avg(Type)=None, avg(Release)=None),\n",
       " Row(Artist='TOO', avg(Type)=None, avg(Release)=None),\n",
       " Row(Artist='DONGKIZ', avg(Type)=None, avg(Release)=None),\n",
       " Row(Artist='Z-GIRLS', avg(Type)=None, avg(Release)=None),\n",
       " Row(Artist='9Muses', avg(Type)=None, avg(Release)=None),\n",
       " Row(Artist='BtoB', avg(Type)=None, avg(Release)=None),\n",
       " Row(Artist='Stella Jang', avg(Type)=None, avg(Release)=None),\n",
       " Row(Artist='JBJ95', avg(Type)=None, avg(Release)=None),\n",
       " Row(Artist='Bastarz', avg(Type)=None, avg(Release)=None),\n",
       " Row(Artist='Naeun, Jinsol (APRIL)', avg(Type)=None, avg(Release)=None),\n",
       " Row(Artist='Teen Top', avg(Type)=None, avg(Release)=None),\n",
       " Row(Artist='Hashtag', avg(Type)=None, avg(Release)=None),\n",
       " Row(Artist='The T-Bird', avg(Type)=None, avg(Release)=None),\n",
       " Row(Artist='JBJ', avg(Type)=None, avg(Release)=None),\n",
       " Row(Artist='Jonghyun', avg(Type)=None, avg(Release)=None),\n",
       " Row(Artist='BEATWIN', avg(Type)=None, avg(Release)=None),\n",
       " Row(Artist='M&D', avg(Type)=None, avg(Release)=None),\n",
       " Row(Artist='CIVA', avg(Type)=None, avg(Release)=None),\n",
       " Row(Artist='Asha', avg(Type)=None, avg(Release)=None),\n",
       " Row(Artist='GD&T.O.P', avg(Type)=None, avg(Release)=None),\n",
       " Row(Artist='Super Junior-M', avg(Type)=None, avg(Release)=None),\n",
       " Row(Artist='SECRET NUMBER', avg(Type)=None, avg(Release)=None),\n",
       " Row(Artist='Eden', avg(Type)=None, avg(Release)=None),\n",
       " Row(Artist='UNI.T', avg(Type)=None, avg(Release)=None),\n",
       " Row(Artist='Brave Girls', avg(Type)=None, avg(Release)=None),\n",
       " Row(Artist='VROMANCE', avg(Type)=None, avg(Release)=None),\n",
       " Row(Artist='ANYWAY', avg(Type)=None, avg(Release)=None),\n",
       " Row(Artist='Suran', avg(Type)=None, avg(Release)=None),\n",
       " Row(Artist='Pentagon', avg(Type)=None, avg(Release)=None),\n",
       " Row(Artist='Oh My Girl Banhana', avg(Type)=None, avg(Release)=None),\n",
       " Row(Artist='ANS', avg(Type)=None, avg(Release)=None),\n",
       " Row(Artist='Lu:kus', avg(Type)=None, avg(Release)=None),\n",
       " Row(Artist='Ten (NCT)', avg(Type)=None, avg(Release)=None),\n",
       " Row(Artist='Super Junior-Happy', avg(Type)=None, avg(Release)=None),\n",
       " Row(Artist='LOONA YYXY', avg(Type)=None, avg(Release)=None),\n",
       " Row(Artist=\"Girl's Day\", avg(Type)=None, avg(Release)=None),\n",
       " Row(Artist='Dorothy', avg(Type)=None, avg(Release)=None),\n",
       " Row(Artist='AOA Black', avg(Type)=None, avg(Release)=None),\n",
       " Row(Artist='Jewelry S', avg(Type)=None, avg(Release)=None),\n",
       " Row(Artist='Apink', avg(Type)=None, avg(Release)=None),\n",
       " Row(Artist='Hong Eunki', avg(Type)=None, avg(Release)=None),\n",
       " Row(Artist='Ab6ix', avg(Type)=None, avg(Release)=None),\n",
       " Row(Artist='Honeyst', avg(Type)=None, avg(Release)=None),\n",
       " Row(Artist='SISTAR', avg(Type)=None, avg(Release)=None),\n",
       " Row(Artist='Luluz', avg(Type)=None, avg(Release)=None),\n",
       " Row(Artist='FANATICS', avg(Type)=None, avg(Release)=None),\n",
       " Row(Artist='Gavy NJ', avg(Type)=None, avg(Release)=None),\n",
       " Row(Artist='Jeon Soyeon', avg(Type)=None, avg(Release)=None),\n",
       " Row(Artist='Niel', avg(Type)=None, avg(Release)=None),\n",
       " Row(Artist='S.E.S', avg(Type)=None, avg(Release)=None),\n",
       " Row(Artist='Wings', avg(Type)=None, avg(Release)=None),\n",
       " Row(Artist='Kim Jaehwan', avg(Type)=None, avg(Release)=None),\n",
       " Row(Artist='Day6', avg(Type)=None, avg(Release)=None),\n",
       " Row(Artist='Hoons', avg(Type)=None, avg(Release)=None),\n",
       " Row(Artist='Triple H', avg(Type)=None, avg(Release)=None),\n",
       " Row(Artist='Navi', avg(Type)=None, avg(Release)=None),\n",
       " Row(Artist='Bulldok', avg(Type)=None, avg(Release)=None),\n",
       " Row(Artist='A6P', avg(Type)=None, avg(Release)=None),\n",
       " Row(Artist='Crayon Pop', avg(Type)=None, avg(Release)=None),\n",
       " Row(Artist='A.SOME', avg(Type)=None, avg(Release)=None),\n",
       " Row(Artist='Masc', avg(Type)=None, avg(Release)=None),\n",
       " Row(Artist='Infinite H', avg(Type)=None, avg(Release)=None),\n",
       " Row(Artist='Gunmin X Heedo (B.I.G)', avg(Type)=None, avg(Release)=None),\n",
       " Row(Artist='BIGBANG & 2NE1', avg(Type)=None, avg(Release)=None),\n",
       " Row(Artist='Kim Donghan', avg(Type)=None, avg(Release)=None),\n",
       " Row(Artist='Purple', avg(Type)=None, avg(Release)=None),\n",
       " Row(Artist='Lucente', avg(Type)=None, avg(Release)=None),\n",
       " Row(Artist='Kitten Girls', avg(Type)=None, avg(Release)=None),\n",
       " Row(Artist='BLACKSIX', avg(Type)=None, avg(Release)=None),\n",
       " Row(Artist='Super Junior-T', avg(Type)=None, avg(Release)=None),\n",
       " Row(Artist='WINNER', avg(Type)=None, avg(Release)=None),\n",
       " Row(Artist='My Darling', avg(Type)=None, avg(Release)=None),\n",
       " Row(Artist='San (Hotshot)', avg(Type)=None, avg(Release)=None),\n",
       " Row(Artist='Raina', avg(Type)=None, avg(Release)=None),\n",
       " Row(Artist='HISTORY', avg(Type)=None, avg(Release)=None),\n",
       " Row(Artist='SECRET', avg(Type)=None, avg(Release)=None),\n",
       " Row(Artist='ENOi', avg(Type)=None, avg(Release)=None),\n",
       " Row(Artist='Greatguys', avg(Type)=None, avg(Release)=None),\n",
       " Row(Artist='LOONA', avg(Type)=None, avg(Release)=None),\n",
       " Row(Artist='NOIR', avg(Type)=None, avg(Release)=None),\n",
       " Row(Artist='The Legend', avg(Type)=None, avg(Release)=None),\n",
       " Row(Artist='Highlight', avg(Type)=None, avg(Release)=None),\n",
       " Row(Artist='Hoya', avg(Type)=None, avg(Release)=None),\n",
       " Row(Artist='ZPZG', avg(Type)=None, avg(Release)=None),\n",
       " Row(Artist='Wonder Boyz', avg(Type)=None, avg(Release)=None),\n",
       " Row(Artist='T-ara, Davichi', avg(Type)=None, avg(Release)=None),\n",
       " Row(Artist='Dustin', avg(Type)=None, avg(Release)=None),\n",
       " Row(Artist='Wooseok x Kuanlin', avg(Type)=None, avg(Release)=None),\n",
       " Row(Artist='MXM', avg(Type)=None, avg(Release)=None),\n",
       " Row(Artist='Blady', avg(Type)=None, avg(Release)=None),\n",
       " Row(Artist='j-hope', avg(Type)=None, avg(Release)=None),\n",
       " Row(Artist='Noel', avg(Type)=None, avg(Release)=None),\n",
       " Row(Artist='December', avg(Type)=None, avg(Release)=None),\n",
       " Row(Artist='Seventeen', avg(Type)=None, avg(Release)=None),\n",
       " Row(Artist='Everglow', avg(Type)=None, avg(Release)=None),\n",
       " Row(Artist='Hi Cutie', avg(Type)=None, avg(Release)=None),\n",
       " Row(Artist='Samuel', avg(Type)=None, avg(Release)=None),\n",
       " Row(Artist='Kim Sohee', avg(Type)=None, avg(Release)=None),\n",
       " Row(Artist='M&D, Wheein', avg(Type)=None, avg(Release)=None),\n",
       " Row(Artist='Park Boram', avg(Type)=None, avg(Release)=None),\n",
       " Row(Artist='Epik High', avg(Type)=None, avg(Release)=None),\n",
       " Row(Artist='Highteen', avg(Type)=None, avg(Release)=None),\n",
       " Row(Artist='MOBB', avg(Type)=None, avg(Release)=None),\n",
       " Row(Artist='Dia Girls', avg(Type)=None, avg(Release)=None),\n",
       " Row(Artist='Ben', avg(Type)=None, avg(Release)=None),\n",
       " Row(Artist='Elkie (CLC)', avg(Type)=None, avg(Release)=None),\n",
       " Row(Artist='Taeyang', avg(Type)=None, avg(Release)=None),\n",
       " Row(Artist='OnlyOneOf', avg(Type)=None, avg(Release)=None),\n",
       " Row(Artist='ZICO X Kang Daniel', avg(Type)=None, avg(Release)=None),\n",
       " Row(Artist='Favorite', avg(Type)=None, avg(Release)=None),\n",
       " Row(Artist='Risso', avg(Type)=None, avg(Release)=None),\n",
       " Row(Artist='A-Daily', avg(Type)=None, avg(Release)=None),\n",
       " Row(Artist='Agust D', avg(Type)=None, avg(Release)=None),\n",
       " Row(Artist='CRAXY', avg(Type)=None, avg(Release)=None),\n",
       " Row(Artist='IN2IT', avg(Type)=None, avg(Release)=None),\n",
       " Row(Artist='Jimin Park', avg(Type)=None, avg(Release)=None),\n",
       " Row(Artist='Playback', avg(Type)=None, avg(Release)=None),\n",
       " Row(Artist='AOA', avg(Type)=None, avg(Release)=None),\n",
       " Row(Artist='Neonpunch', avg(Type)=None, avg(Release)=None),\n",
       " Row(Artist='Astro', avg(Type)=None, avg(Release)=None),\n",
       " Row(Artist='Jun.K', avg(Type)=None, avg(Release)=None),\n",
       " Row(Artist='Dickpunks', avg(Type)=None, avg(Release)=None),\n",
       " Row(Artist='The SeeYa', avg(Type)=None, avg(Release)=None),\n",
       " Row(Artist='1Team', avg(Type)=None, avg(Release)=None),\n",
       " Row(Artist='The Ade', avg(Type)=None, avg(Release)=None),\n",
       " Row(Artist='Nichkhun', avg(Type)=None, avg(Release)=None),\n",
       " Row(Artist='Eric Nam', avg(Type)=None, avg(Release)=None),\n",
       " Row(Artist='Year 7 Class 1', avg(Type)=None, avg(Release)=None),\n",
       " Row(Artist='Super Junior-K.R.Y', avg(Type)=None, avg(Release)=None),\n",
       " Row(Artist='Momoland', avg(Type)=None, avg(Release)=None),\n",
       " Row(Artist='B.I.G', avg(Type)=None, avg(Release)=None),\n",
       " Row(Artist='Brown Eyed Girls', avg(Type)=None, avg(Release)=None),\n",
       " Row(Artist='GIRLKIND XJR', avg(Type)=None, avg(Release)=None),\n",
       " Row(Artist='HUTA', avg(Type)=None, avg(Release)=None),\n",
       " Row(Artist='DPR LIVE', avg(Type)=None, avg(Release)=None),\n",
       " Row(Artist='S', avg(Type)=None, avg(Release)=None),\n",
       " Row(Artist='Egobomb', avg(Type)=None, avg(Release)=None),\n",
       " Row(Artist='Flashe', avg(Type)=None, avg(Release)=None),\n",
       " Row(Artist='Gray', avg(Type)=None, avg(Release)=None),\n",
       " Row(Artist='1THE9', avg(Type)=None, avg(Release)=None),\n",
       " Row(Artist='NeonPunch', avg(Type)=None, avg(Release)=None),\n",
       " Row(Artist='THE MAN BLK', avg(Type)=None, avg(Release)=None),\n",
       " Row(Artist='S.E.T', avg(Type)=None, avg(Release)=None),\n",
       " Row(Artist='KNK', avg(Type)=None, avg(Release)=None),\n",
       " Row(Artist='Berry Good', avg(Type)=None, avg(Release)=None),\n",
       " Row(Artist='Chae Yeon', avg(Type)=None, avg(Release)=None),\n",
       " Row(Artist='ELRIS', avg(Type)=None, avg(Release)=None),\n",
       " Row(Artist='Norazo', avg(Type)=None, avg(Release)=None),\n",
       " Row(Artist='Iz*One', avg(Type)=None, avg(Release)=None),\n",
       " Row(Artist='Spica', avg(Type)=None, avg(Release)=None),\n",
       " Row(Artist='SHINee', avg(Type)=None, avg(Release)=None),\n",
       " Row(Artist='D.I.P', avg(Type)=None, avg(Release)=None),\n",
       " Row(Artist='1TEAM', avg(Type)=None, avg(Release)=None),\n",
       " Row(Artist='Yeri', avg(Type)=None, avg(Release)=None),\n",
       " Row(Artist='Blue Fox', avg(Type)=None, avg(Release)=None),\n",
       " Row(Artist='B.A.P', avg(Type)=None, avg(Release)=None),\n",
       " Row(Artist='Kang Sira', avg(Type)=None, avg(Release)=None),\n",
       " Row(Artist='ZE:A', avg(Type)=None, avg(Release)=None),\n",
       " Row(Artist='Zest', avg(Type)=None, avg(Release)=None),\n",
       " Row(Artist='ITZY', avg(Type)=None, avg(Release)=None),\n",
       " Row(Artist='EXO', avg(Type)=None, avg(Release)=None),\n",
       " Row(Artist='Super Junior-D&E', avg(Type)=None, avg(Release)=None),\n",
       " Row(Artist='N.tic', avg(Type)=None, avg(Release)=None),\n",
       " Row(Artist='CoCoSoRi', avg(Type)=None, avg(Release)=None),\n",
       " Row(Artist='Seohyun', avg(Type)=None, avg(Release)=None),\n",
       " Row(Artist='Two X', avg(Type)=None, avg(Release)=None),\n",
       " Row(Artist='Mamamoo, Bumkey', avg(Type)=None, avg(Release)=None),\n",
       " Row(Artist='Twice', avg(Type)=None, avg(Release)=None),\n",
       " Row(Artist='Bolbbalgan4', avg(Type)=None, avg(Release)=None),\n",
       " Row(Artist='Sixth Sense', avg(Type)=None, avg(Release)=None),\n",
       " Row(Artist='Davichi', avg(Type)=None, avg(Release)=None),\n",
       " Row(Artist='Euijin', avg(Type)=None, avg(Release)=None),\n",
       " Row(Artist='Victon', avg(Type)=None, avg(Release)=None),\n",
       " Row(Artist='2PM', avg(Type)=None, avg(Release)=None),\n",
       " Row(Artist='5tion', avg(Type)=None, avg(Release)=None),\n",
       " Row(Artist='Voisper', avg(Type)=None, avg(Release)=None),\n",
       " Row(Artist='Be.A', avg(Type)=None, avg(Release)=None),\n",
       " Row(Artist='Broken Valentine', avg(Type)=None, avg(Release)=None),\n",
       " Row(Artist='Nature', avg(Type)=None, avg(Release)=None),\n",
       " Row(Artist=\"Girls' Alert\", avg(Type)=None, avg(Release)=None),\n",
       " Row(Artist='Jiyeon', avg(Type)=None, avg(Release)=None),\n",
       " Row(Artist='PONY', avg(Type)=None, avg(Release)=None),\n",
       " Row(Artist='Celeb Five', avg(Type)=None, avg(Release)=None),\n",
       " Row(Artist='3Ye', avg(Type)=None, avg(Release)=None),\n",
       " Row(Artist='Greyish', avg(Type)=None, avg(Release)=None),\n",
       " Row(Artist='After School Red', avg(Type)=None, avg(Release)=None),\n",
       " Row(Artist=\"Super Junior, Girls' Generation\", avg(Type)=None, avg(Release)=None),\n",
       " Row(Artist='SUHO (EXO)', avg(Type)=None, avg(Release)=None),\n",
       " Row(Artist='SECHSKIES', avg(Type)=None, avg(Release)=None),\n",
       " Row(Artist='VENUS', avg(Type)=None, avg(Release)=None),\n",
       " Row(Artist='Camila', avg(Type)=None, avg(Release)=None),\n",
       " Row(Artist=\"Sojung (Ladies' Code)\", avg(Type)=None, avg(Release)=None),\n",
       " Row(Artist='Jo Kwon', avg(Type)=None, avg(Release)=None),\n",
       " Row(Artist='Alike', avg(Type)=None, avg(Release)=None),\n",
       " Row(Artist='A-seed', avg(Type)=None, avg(Release)=None),\n",
       " Row(Artist='Rainbow', avg(Type)=None, avg(Release)=None),\n",
       " Row(Artist='BLACK6IX', avg(Type)=None, avg(Release)=None),\n",
       " Row(Artist='Kiara', avg(Type)=None, avg(Release)=None),\n",
       " Row(Artist='Leo', avg(Type)=None, avg(Release)=None),\n",
       " Row(Artist='OBroject', avg(Type)=None, avg(Release)=None),\n",
       " Row(Artist='The Singing Girls', avg(Type)=None, avg(Release)=None),\n",
       " Row(Artist='Kasper', avg(Type)=None, avg(Release)=None),\n",
       " Row(Artist='Bibi', avg(Type)=None, avg(Release)=None),\n",
       " Row(Artist='Chungha', avg(Type)=None, avg(Release)=None),\n",
       " Row(Artist='KARD', avg(Type)=None, avg(Release)=None),\n",
       " Row(Artist='Lovelyz', avg(Type)=None, avg(Release)=None),\n",
       " Row(Artist='Lee Changsub', avg(Type)=None, avg(Release)=None),\n",
       " Row(Artist='Dynamic Duo', avg(Type)=None, avg(Release)=None),\n",
       " Row(Artist='Baek A Yeon', avg(Type)=None, avg(Release)=None),\n",
       " Row(Artist='Mixx', avg(Type)=None, avg(Release)=None),\n",
       " Row(Artist='SUS4', avg(Type)=None, avg(Release)=None),\n",
       " Row(Artist='Infinite F', avg(Type)=None, avg(Release)=None),\n",
       " Row(Artist='M.I.B', avg(Type)=None, avg(Release)=None),\n",
       " Row(Artist='AB6IX', avg(Type)=None, avg(Release)=None),\n",
       " Row(Artist='Onewe, Oneus', avg(Type)=None, avg(Release)=None),\n",
       " Row(Artist='Drunken Tiger', avg(Type)=None, avg(Release)=None),\n",
       " Row(Artist='Hey Miss', avg(Type)=None, avg(Release)=None),\n",
       " Row(Artist='Matilda', avg(Type)=None, avg(Release)=None),\n",
       " Row(Artist='Brown Eyed Soul', avg(Type)=None, avg(Release)=None),\n",
       " Row(Artist='Youngjae', avg(Type)=None, avg(Release)=None),\n",
       " Row(Artist='Exo', avg(Type)=None, avg(Release)=None),\n",
       " Row(Artist='SISTAR19', avg(Type)=None, avg(Release)=None),\n",
       " Row(Artist='Amber Liu', avg(Type)=None, avg(Release)=None),\n",
       " Row(Artist='Target', avg(Type)=None, avg(Release)=None),\n",
       " Row(Artist='Heize', avg(Type)=None, avg(Release)=None),\n",
       " Row(Artist='MAP6', avg(Type)=None, avg(Release)=None),\n",
       " Row(Artist='Lee Hi', avg(Type)=None, avg(Release)=None),\n",
       " Row(Artist='H.U.B', avg(Type)=None, avg(Release)=None),\n",
       " Row(Artist='Jessica', avg(Type)=None, avg(Release)=None),\n",
       " Row(Artist='Clazziquai Project', avg(Type)=None, avg(Release)=None),\n",
       " Row(Artist='Jessi', avg(Type)=None, avg(Release)=None),\n",
       " Row(Artist='UP10TION', avg(Type)=None, avg(Release)=None),\n",
       " Row(Artist='Badkiz', avg(Type)=None, avg(Release)=None),\n",
       " Row(Artist='IZ*ONE', avg(Type)=None, avg(Release)=None),\n",
       " Row(Artist='PURPLEBECK', avg(Type)=None, avg(Release)=None),\n",
       " Row(Artist='Yezi', avg(Type)=None, avg(Release)=None),\n",
       " Row(Artist='Yesung', avg(Type)=None, avg(Release)=None),\n",
       " Row(Artist='14U', avg(Type)=None, avg(Release)=None),\n",
       " Row(Artist='Rose Finger', avg(Type)=None, avg(Release)=None),\n",
       " Row(Artist='Lipbubble', avg(Type)=None, avg(Release)=None),\n",
       " Row(Artist='Heygirls', avg(Type)=None, avg(Release)=None),\n",
       " Row(Artist='Spica.S', avg(Type)=None, avg(Release)=None),\n",
       " Row(Artist='Dynamic Duo, DJ Premier', avg(Type)=None, avg(Release)=None),\n",
       " Row(Artist='Glam', avg(Type)=None, avg(Release)=None),\n",
       " Row(Artist='FT Triple', avg(Type)=None, avg(Release)=None),\n",
       " Row(Artist='MONSTA X', avg(Type)=None, avg(Release)=None),\n",
       " Row(Artist='Park Jihoon', avg(Type)=None, avg(Release)=None),\n",
       " Row(Artist='Saturday', avg(Type)=None, avg(Release)=None),\n",
       " Row(Artist='Vermuda', avg(Type)=None, avg(Release)=None),\n",
       " Row(Artist='Girls Girls', avg(Type)=None, avg(Release)=None),\n",
       " Row(Artist='BZ-Boys', avg(Type)=None, avg(Release)=None),\n",
       " Row(Artist='A Train To Autumn', avg(Type)=None, avg(Release)=None),\n",
       " Row(Artist='Yoo Seonho', avg(Type)=None, avg(Release)=None),\n",
       " Row(Artist='Tweety', avg(Type)=None, avg(Release)=None),\n",
       " Row(Artist='MiSo', avg(Type)=None, avg(Release)=None),\n",
       " Row(Artist='Wonder Girls', avg(Type)=None, avg(Release)=None),\n",
       " Row(Artist='Tasty', avg(Type)=None, avg(Release)=None),\n",
       " Row(Artist='CNBLUE', avg(Type)=None, avg(Release)=None),\n",
       " Row(Artist='2000won', avg(Type)=None, avg(Release)=None),\n",
       " Row(Artist='F1rst', avg(Type)=None, avg(Release)=None),\n",
       " Row(Artist='CIX', avg(Type)=None, avg(Release)=None),\n",
       " Row(Artist='Moon', avg(Type)=None, avg(Release)=None),\n",
       " Row(Artist='Cherry Bullet', avg(Type)=None, avg(Release)=None),\n",
       " Row(Artist='Block B', avg(Type)=None, avg(Release)=None),\n",
       " Row(Artist='Icia', avg(Type)=None, avg(Release)=None),\n",
       " Row(Artist='Wassup', avg(Type)=None, avg(Release)=None),\n",
       " Row(Artist='KEEMBO', avg(Type)=None, avg(Release)=None),\n",
       " Row(Artist='Jeong Sewoon', avg(Type)=None, avg(Release)=None),\n",
       " Row(Artist='Chungha, Mommy Son', avg(Type)=None, avg(Release)=None),\n",
       " Row(Artist='Ruann', avg(Type)=None, avg(Release)=None),\n",
       " Row(Artist='Super Junior D&E', avg(Type)=None, avg(Release)=None),\n",
       " Row(Artist='PPL', avg(Type)=None, avg(Release)=None),\n",
       " Row(Artist='Dreamcatcher', avg(Type)=None, avg(Release)=None),\n",
       " Row(Artist='N.Cus', avg(Type)=None, avg(Release)=None),\n",
       " Row(Artist='Boys Republic', avg(Type)=None, avg(Release)=None),\n",
       " Row(Artist='Dynamic Duo, Chen', avg(Type)=None, avg(Release)=None),\n",
       " Row(Artist='Evol', avg(Type)=None, avg(Release)=None),\n",
       " Row(Artist='Apeace', avg(Type)=None, avg(Release)=None),\n",
       " Row(Artist='CICI', avg(Type)=None, avg(Release)=None),\n",
       " Row(Artist='NCT 2018', avg(Type)=None, avg(Release)=None),\n",
       " Row(Artist='BLACKPINK', avg(Type)=None, avg(Release)=None),\n",
       " Row(Artist='Tint', avg(Type)=None, avg(Release)=None),\n",
       " Row(Artist='Spectrum', avg(Type)=None, avg(Release)=None),\n",
       " Row(Artist='MASC', avg(Type)=None, avg(Release)=None),\n",
       " Row(Artist='Boyfriend', avg(Type)=None, avg(Release)=None),\n",
       " Row(Artist='TimeZ', avg(Type)=None, avg(Release)=None),\n",
       " Row(Artist='Seo Taiji and Boys', avg(Type)=None, avg(Release)=None),\n",
       " Row(Artist='Red Velvet', avg(Type)=None, avg(Release)=None),\n",
       " Row(Artist='NCT Dream', avg(Type)=None, avg(Release)=None),\n",
       " Row(Artist='Sooyoung', avg(Type)=None, avg(Release)=None),\n",
       " Row(Artist='Rubber Soul', avg(Type)=None, avg(Release)=None),\n",
       " Row(Artist='LPG', avg(Type)=None, avg(Release)=None),\n",
       " Row(Artist='Ariaz', avg(Type)=None, avg(Release)=None),\n",
       " Row(Artist='P.O.P', avg(Type)=None, avg(Release)=None),\n",
       " Row(Artist='Miss S', avg(Type)=None, avg(Release)=None),\n",
       " Row(Artist='Jewelry', avg(Type)=None, avg(Release)=None),\n",
       " Row(Artist='Z-BOYS', avg(Type)=None, avg(Release)=None),\n",
       " Row(Artist='S.I.S', avg(Type)=None, avg(Release)=None),\n",
       " Row(Artist='EXO-CBX', avg(Type)=None, avg(Release)=None),\n",
       " Row(Artist='Speed', avg(Type)=None, avg(Release)=None),\n",
       " Row(Artist='Moon Child', avg(Type)=None, avg(Release)=None),\n",
       " Row(Artist=\"Girls' Generation-Oh!GG\", avg(Type)=None, avg(Release)=None),\n",
       " Row(Artist='KHAN', avg(Type)=None, avg(Release)=None),\n",
       " Row(Artist='Minah', avg(Type)=None, avg(Release)=None),\n",
       " Row(Artist='Rain', avg(Type)=None, avg(Release)=None),\n",
       " Row(Artist='BP Rania', avg(Type)=None, avg(Release)=None),\n",
       " Row(Artist='Lime', avg(Type)=None, avg(Release)=None),\n",
       " Row(Artist='Bloomy', avg(Type)=None, avg(Release)=None),\n",
       " Row(Artist='LC9', avg(Type)=None, avg(Release)=None),\n",
       " Row(Artist='BVNDIT', avg(Type)=None, avg(Release)=None),\n",
       " Row(Artist='DEAN', avg(Type)=None, avg(Release)=None),\n",
       " Row(Artist='Myname', avg(Type)=None, avg(Release)=None),\n",
       " Row(Artist='I', avg(Type)=None, avg(Release)=None),\n",
       " Row(Artist='BESTie', avg(Type)=None, avg(Release)=None),\n",
       " Row(Artist='SS501', avg(Type)=None, avg(Release)=None),\n",
       " Row(Artist='Ryu Sujeong', avg(Type)=None, avg(Release)=None),\n",
       " Row(Artist='Baby Boo', avg(Type)=None, avg(Release)=None),\n",
       " Row(Artist='2AM', avg(Type)=None, avg(Release)=None),\n",
       " Row(Artist='Toheart', avg(Type)=None, avg(Release)=None),\n",
       " Row(Artist='HA:TFELT', avg(Type)=None, avg(Release)=None),\n",
       " Row(Artist='Jung Daehyun', avg(Type)=None, avg(Release)=None),\n",
       " Row(Artist='Park Bom', avg(Type)=None, avg(Release)=None),\n",
       " Row(Artist='Apple.B', avg(Type)=None, avg(Release)=None),\n",
       " Row(Artist='Cupid', avg(Type)=None, avg(Release)=None),\n",
       " Row(Artist='GWSN', avg(Type)=None, avg(Release)=None),\n",
       " Row(Artist='Hyolyn', avg(Type)=None, avg(Release)=None),\n",
       " Row(Artist='PSY', avg(Type)=None, avg(Release)=None),\n",
       " Row(Artist='K-Much', avg(Type)=None, avg(Release)=None),\n",
       " Row(Artist='Hong Jinyoung', avg(Type)=None, avg(Release)=None),\n",
       " Row(Artist='AZM', avg(Type)=None, avg(Release)=None),\n",
       " Row(Artist='Blah Blah', avg(Type)=None, avg(Release)=None),\n",
       " Row(Artist='Jinusean', avg(Type)=None, avg(Release)=None),\n",
       " Row(Artist='Sumin+Zion.T', avg(Type)=None, avg(Release)=None),\n",
       " Row(Artist='Limitless', avg(Type)=None, avg(Release)=None),\n",
       " Row(Artist='Jang Dongwoo', avg(Type)=None, avg(Release)=None),\n",
       " Row(Artist='Song Jieun', avg(Type)=None, avg(Release)=None),\n",
       " Row(Artist='Jun Hyoseong', avg(Type)=None, avg(Release)=None),\n",
       " Row(Artist='Drug Restaurant', avg(Type)=None, avg(Release)=None),\n",
       " Row(Artist='Agirls', avg(Type)=None, avg(Release)=None),\n",
       " Row(Artist='Noir', avg(Type)=None, avg(Release)=None),\n",
       " Row(Artist='Signal', avg(Type)=None, avg(Release)=None),\n",
       " Row(Artist='Key', avg(Type)=None, avg(Release)=None),\n",
       " Row(Artist='Dasoni', avg(Type)=None, avg(Release)=None),\n",
       " Row(Artist='Daydream', avg(Type)=None, avg(Release)=None),\n",
       " Row(Artist='Argon', avg(Type)=None, avg(Release)=None),\n",
       " Row(Artist='Hyomin', avg(Type)=None, avg(Release)=None),\n",
       " Row(Artist='Onew', avg(Type)=None, avg(Release)=None),\n",
       " Row(Artist='Abry', avg(Type)=None, avg(Release)=None),\n",
       " Row(Artist='Younha', avg(Type)=None, avg(Release)=None),\n",
       " Row(Artist='Destiny', avg(Type)=None, avg(Release)=None),\n",
       " Row(Artist='Tritops', avg(Type)=None, avg(Release)=None),\n",
       " Row(Artist='BIGSTAR', avg(Type)=None, avg(Release)=None),\n",
       " Row(Artist='LeeSsang', avg(Type)=None, avg(Release)=None),\n",
       " Row(Artist='Yubin', avg(Type)=None, avg(Release)=None),\n",
       " Row(Artist='U-Kwon (Block B)', avg(Type)=None, avg(Release)=None),\n",
       " Row(Artist='Hoody', avg(Type)=None, avg(Release)=None),\n",
       " Row(Artist='ARGON', avg(Type)=None, avg(Release)=None),\n",
       " Row(Artist='J-Walk', avg(Type)=None, avg(Release)=None),\n",
       " Row(Artist='DALsooobin', avg(Type)=None, avg(Release)=None),\n",
       " Row(Artist='A.C.E', avg(Type)=None, avg(Release)=None),\n",
       " Row(Artist='Takeuchi Miyu', avg(Type)=None, avg(Release)=None),\n",
       " Row(Artist='Team X', avg(Type)=None, avg(Release)=None),\n",
       " Row(Artist='4Minute', avg(Type)=None, avg(Release)=None),\n",
       " Row(Artist='Vetty L', avg(Type)=None, avg(Release)=None),\n",
       " Row(Artist='DAY6', avg(Type)=None, avg(Release)=None),\n",
       " Row(Artist='Woosung', avg(Type)=None, avg(Release)=None),\n",
       " Row(Artist='Rainz', avg(Type)=None, avg(Release)=None),\n",
       " Row(Artist='Longguo', avg(Type)=None, avg(Release)=None),\n",
       " Row(Artist='IM', avg(Type)=None, avg(Release)=None),\n",
       " Row(Artist='4Ten', avg(Type)=None, avg(Release)=None),\n",
       " Row(Artist='Uniq', avg(Type)=None, avg(Release)=None),\n",
       " Row(Artist='Delight', avg(Type)=None, avg(Release)=None),\n",
       " Row(Artist='M.O.N.T', avg(Type)=None, avg(Release)=None),\n",
       " Row(Artist='TST', avg(Type)=None, avg(Release)=None),\n",
       " Row(Artist='Lusty', avg(Type)=None, avg(Release)=None),\n",
       " Row(Artist=\"Girls' Generation\", avg(Type)=None, avg(Release)=None),\n",
       " Row(Artist='Road Boyz', avg(Type)=None, avg(Release)=None),\n",
       " Row(Artist=\"Girls' Generation-TTS\", avg(Type)=None, avg(Release)=None),\n",
       " Row(Artist='Dynamic Duo, Lena Park', avg(Type)=None, avg(Release)=None),\n",
       " Row(Artist='JYJ', avg(Type)=None, avg(Release)=None),\n",
       " Row(Artist='IZ', avg(Type)=None, avg(Release)=None),\n",
       " Row(Artist='I LUV', avg(Type)=None, avg(Release)=None),\n",
       " Row(Artist='Riot Kidz', avg(Type)=None, avg(Release)=None),\n",
       " Row(Artist='Yong Junhyung', avg(Type)=None, avg(Release)=None),\n",
       " Row(Artist='B1A4', avg(Type)=None, avg(Release)=None),\n",
       " Row(Artist='VIXX LR', avg(Type)=None, avg(Release)=None),\n",
       " Row(Artist='SF9', avg(Type)=None, avg(Release)=None),\n",
       " Row(Artist='1the9', avg(Type)=None, avg(Release)=None),\n",
       " Row(Artist='Fallanc', avg(Type)=None, avg(Release)=None),\n",
       " Row(Artist='LOONA 1/3', avg(Type)=None, avg(Release)=None),\n",
       " Row(Artist='Blity', avg(Type)=None, avg(Release)=None),\n",
       " Row(Artist='JJY Band', avg(Type)=None, avg(Release)=None),\n",
       " Row(Artist='K-Girls', avg(Type)=None, avg(Release)=None),\n",
       " Row(Artist='LABOUM', avg(Type)=None, avg(Release)=None),\n",
       " Row(Artist='LOONA Odd Eye Circle', avg(Type)=None, avg(Release)=None),\n",
       " Row(Artist='Y Teen', avg(Type)=None, avg(Release)=None),\n",
       " Row(Artist='Fei', avg(Type)=None, avg(Release)=None),\n",
       " Row(Artist='ONF', avg(Type)=None, avg(Release)=None),\n",
       " Row(Artist='Live High', avg(Type)=None, avg(Release)=None),\n",
       " Row(Artist='MBLAQ', avg(Type)=None, avg(Release)=None),\n",
       " Row(Artist='NCT 127', avg(Type)=None, avg(Release)=None),\n",
       " Row(Artist='BTS', avg(Type)=None, avg(Release)=None),\n",
       " Row(Artist='Karin (WishGirls)', avg(Type)=None, avg(Release)=None),\n",
       " Row(Artist='g.o.d', avg(Type)=None, avg(Release)=None),\n",
       " Row(Artist='A-JAX', avg(Type)=None, avg(Release)=None),\n",
       " Row(Artist='100% V', avg(Type)=None, avg(Release)=None),\n",
       " Row(Artist='Sunnyhill, Daybreak', avg(Type)=None, avg(Release)=None),\n",
       " Row(Artist='4Carat', avg(Type)=None, avg(Release)=None),\n",
       " Row(Artist='24K', avg(Type)=None, avg(Release)=None),\n",
       " Row(Artist='YDPP', avg(Type)=None, avg(Release)=None),\n",
       " Row(Artist='VIINI', avg(Type)=None, avg(Release)=None),\n",
       " Row(Artist='Lim Hyunsik', avg(Type)=None, avg(Release)=None),\n",
       " Row(Artist='GBB', avg(Type)=None, avg(Release)=None),\n",
       " Row(Artist='Berry Good Heart Heart', avg(Type)=None, avg(Release)=None),\n",
       " Row(Artist='Girlkind', avg(Type)=None, avg(Release)=None),\n",
       " Row(Artist='cignature', avg(Type)=None, avg(Release)=None),\n",
       " Row(Artist='Hey Men', avg(Type)=None, avg(Release)=None),\n",
       " Row(Artist='One Punch', avg(Type)=None, avg(Release)=None),\n",
       " Row(Artist='Moon Jongup', avg(Type)=None, avg(Release)=None),\n",
       " Row(Artist='IU', avg(Type)=None, avg(Release)=None),\n",
       " Row(Artist='R.Tee x Anda', avg(Type)=None, avg(Release)=None),\n",
       " Row(Artist='Aweek', avg(Type)=None, avg(Release)=None),\n",
       " Row(Artist='woo!ah!', avg(Type)=None, avg(Release)=None),\n",
       " Row(Artist='VICTON', avg(Type)=None, avg(Release)=None),\n",
       " Row(Artist='EXO-SC', avg(Type)=None, avg(Release)=None),\n",
       " Row(Artist='Melody Day', avg(Type)=None, avg(Release)=None),\n",
       " Row(Artist='After School', avg(Type)=None, avg(Release)=None),\n",
       " Row(Artist='1TYM', avg(Type)=None, avg(Release)=None),\n",
       " Row(Artist='Baek Z Young, Ong Seongwu', avg(Type)=None, avg(Release)=None),\n",
       " Row(Artist='Lafee', avg(Type)=None, avg(Release)=None),\n",
       " Row(Artist='A.cian', avg(Type)=None, avg(Release)=None),\n",
       " Row(Artist='Zelo', avg(Type)=None, avg(Release)=None),\n",
       " Row(Artist='Bang Yongguk', avg(Type)=None, avg(Release)=None),\n",
       " Row(Artist='TWICE', avg(Type)=None, avg(Release)=None),\n",
       " Row(Artist='Gugudan Semina', avg(Type)=None, avg(Release)=None),\n",
       " Row(Artist='Trax', avg(Type)=None, avg(Release)=None),\n",
       " Row(Artist='Yoochun', avg(Type)=None, avg(Release)=None),\n",
       " Row(Artist='Luna, Hani, Solar', avg(Type)=None, avg(Release)=None),\n",
       " Row(Artist='Touch', avg(Type)=None, avg(Release)=None),\n",
       " Row(Artist='GP Basic', avg(Type)=None, avg(Release)=None),\n",
       " Row(Artist='Sharp', avg(Type)=None, avg(Release)=None),\n",
       " Row(Artist='Z-Stars', avg(Type)=None, avg(Release)=None),\n",
       " Row(Artist=\"NU'EST W\", avg(Type)=None, avg(Release)=None),\n",
       " Row(Artist='Marmello', avg(Type)=None, avg(Release)=None),\n",
       " Row(Artist='Urban Zakapa', avg(Type)=None, avg(Release)=None),\n",
       " Row(Artist='ROMEO', avg(Type)=None, avg(Release)=None),\n",
       " Row(Artist='Pledis Girlz', avg(Type)=None, avg(Release)=None),\n",
       " Row(Artist='T-ara N4', avg(Type)=None, avg(Release)=None),\n",
       " Row(Artist='Limesoda', avg(Type)=None, avg(Release)=None),\n",
       " Row(Artist='Pink Fantasy', avg(Type)=None, avg(Release)=None),\n",
       " Row(Artist='WishGirls', avg(Type)=None, avg(Release)=None),\n",
       " Row(Artist='3YE', avg(Type)=None, avg(Release)=None),\n",
       " Row(Artist='Sonamoo', avg(Type)=None, avg(Release)=None),\n",
       " Row(Artist='DIA', avg(Type)=None, avg(Release)=None),\n",
       " Row(Artist='CROSS GENE', avg(Type)=None, avg(Release)=None),\n",
       " Row(Artist='Henry', avg(Type)=None, avg(Release)=None),\n",
       " Row(Artist='TopSecret', avg(Type)=None, avg(Release)=None),\n",
       " Row(Artist='G-Dragon', avg(Type)=None, avg(Release)=None),\n",
       " Row(Artist='Fiestar', avg(Type)=None, avg(Release)=None),\n",
       " Row(Artist='MAX Changmin', avg(Type)=None, avg(Release)=None),\n",
       " Row(Artist='W Project', avg(Type)=None, avg(Release)=None),\n",
       " Row(Artist='Dongkiz', avg(Type)=None, avg(Release)=None),\n",
       " Row(Artist='Infinite', avg(Type)=None, avg(Release)=None),\n",
       " Row(Artist='Lip Service', avg(Type)=None, avg(Release)=None),\n",
       " Row(Artist='Zboys', avg(Type)=None, avg(Release)=None),\n",
       " Row(Artist='AshGray', avg(Type)=None, avg(Release)=None),\n",
       " Row(Artist='Gugudan OGUOGU', avg(Type)=None, avg(Release)=None),\n",
       " Row(Artist='Like A Movie', avg(Type)=None, avg(Release)=None),\n",
       " Row(Artist='Roy Kim', avg(Type)=None, avg(Release)=None),\n",
       " Row(Artist='10X10', avg(Type)=None, avg(Release)=None),\n",
       " Row(Artist='IZ*One', avg(Type)=None, avg(Release)=None),\n",
       " Row(Artist='BoA', avg(Type)=None, avg(Release)=None),\n",
       " Row(Artist='Taeyong', avg(Type)=None, avg(Release)=None),\n",
       " Row(Artist='Hyoyeon', avg(Type)=None, avg(Release)=None),\n",
       " Row(Artist='Stray Kids', avg(Type)=None, avg(Release)=None),\n",
       " Row(Artist='Hara', avg(Type)=None, avg(Release)=None),\n",
       " Row(Artist='Elris', avg(Type)=None, avg(Release)=None)]"
      ]
     },
     "execution_count": 40,
     "metadata": {},
     "output_type": "execute_result"
    }
   ],
   "source": [
    "music_video.groupBy(\"Artist\").agg({\"Type\" : \"mean\", \"Release\":\"mean\"}).collect()"
   ]
  },
  {
   "cell_type": "markdown",
   "metadata": {},
   "source": [
    "## 4.3) summary\n",
    "\n",
    "La méthode summary() permet des faire des calculs statistiques de base sur toutes les colonnes du df.\n",
    "\n",
    "Appliquez un count et un max sur toutes les colonnes du df et afficher les résultats."
   ]
  },
  {
   "cell_type": "code",
   "execution_count": 41,
   "metadata": {},
   "outputs": [
    {
     "data": {
      "text/plain": [
       "[Row(summary='count', Date='3772', Artist='3772', Song Name='3771', Korean Name='2786', Director='627', Video='3772', Type='3772', Release='3759'),\n",
       " Row(summary='max', Date='2020-05-22', Artist='woo!ah!', Song Name='yayaya', Korean Name='힘 내!', Director='Zanybros', Video='https://youtu.be/zxHP2wcVd-k', Type='Special', Release='Special')]"
      ]
     },
     "execution_count": 41,
     "metadata": {},
     "output_type": "execute_result"
    }
   ],
   "source": [
    "music_video.summary(\"count\", \"max\").collect()"
   ]
  },
  {
   "cell_type": "markdown",
   "metadata": {},
   "source": [
    "## 4.4) Union de dataframe"
   ]
  },
  {
   "cell_type": "markdown",
   "metadata": {},
   "source": [
    "#### Ajouter les colonnes les unes à côté des autres : join"
   ]
  },
  {
   "cell_type": "code",
   "execution_count": 43,
   "metadata": {
    "scrolled": false
   },
   "outputs": [
    {
     "name": "stdout",
     "output_type": "stream",
     "text": [
      "root\n",
      " |-- Artist: string (nullable = true)\n",
      " |-- Date: string (nullable = true)\n",
      " |-- Song Name: string (nullable = true)\n",
      " |-- Korean Name: string (nullable = true)\n",
      " |-- Director: string (nullable = true)\n",
      " |-- Video: string (nullable = true)\n",
      " |-- Type: string (nullable = true)\n",
      " |-- Release: string (nullable = true)\n",
      " |-- Date: string (nullable = true)\n",
      " |-- Song Name: string (nullable = true)\n",
      " |-- Korean Name: string (nullable = true)\n",
      " |-- Director: string (nullable = true)\n",
      " |-- Video: string (nullable = true)\n",
      " |-- Type: string (nullable = true)\n",
      " |-- Release: string (nullable = true)\n",
      "\n"
     ]
    }
   ],
   "source": [
    "music_video.join(music_video, on=\"Artist\").printSchema()"
   ]
  },
  {
   "cell_type": "markdown",
   "metadata": {},
   "source": [
    "#### Ajouter les lignes les unes sous les autres : union"
   ]
  },
  {
   "cell_type": "code",
   "execution_count": 44,
   "metadata": {
    "scrolled": true
   },
   "outputs": [
    {
     "data": {
      "text/plain": [
       "7544"
      ]
     },
     "execution_count": 44,
     "metadata": {},
     "output_type": "execute_result"
    }
   ],
   "source": [
    "music_video.unionByName(music_video).count()"
   ]
  },
  {
   "cell_type": "markdown",
   "metadata": {},
   "source": [
    "# 5) datavisualisation\n",
    "\n",
    "Pour cette partie, il faudra d'abord installer la librairie plotly dans votre container pyspark_notebook\n",
    "\n",
    "- docker exec -it {container_id} bash\n",
    "- pip install plotly"
   ]
  },
  {
   "cell_type": "code",
   "execution_count": 1,
   "metadata": {},
   "outputs": [],
   "source": [
    "import numpy as np \n",
    "import pandas as pd \n",
    "import seaborn as sns\n",
    "import matplotlib.pyplot as plt\n",
    "import plotly.graph_objs as go\n",
    "import plotly.offline as py\n",
    "import plotly.express as px"
   ]
  },
  {
   "cell_type": "markdown",
   "metadata": {
    "scrolled": true
   },
   "source": [
    "Visualiser le nombre de membres par groupe (masculin)"
   ]
  },
  {
   "cell_type": "code",
   "execution_count": 2,
   "metadata": {},
   "outputs": [],
   "source": [
    "df = pd.read_csv('./data/kpop_idols_boy_groups.csv', encoding='ISO-8859-2')"
   ]
  },
  {
   "cell_type": "code",
   "execution_count": 7,
   "metadata": {},
   "outputs": [
    {
     "name": "stderr",
     "output_type": "stream",
     "text": [
      "/opt/conda/lib/python3.8/site-packages/seaborn/_decorators.py:36: FutureWarning:\n",
      "\n",
      "Pass the following variable as a keyword arg: x. From version 0.12, the only valid positional argument will be `data`, and passing other arguments without an explicit keyword will result in an error or misinterpretation.\n",
      "\n"
     ]
    },
    {
     "data": {
      "image/png": "[encoded data removed]",
      "text/plain": [
       "<Figure size 864x720 with 1 Axes>"
      ]
     },
     "metadata": {
      "needs_background": "light"
     },
     "output_type": "display_data"
    }
   ],
   "source": [
    "fig = plt.figure(figsize=[12,10])\n",
    "sns.countplot(df['Members'], color=sns.xkcd_rgb['violet'])\n",
    "plt.title('Kpop Idols Boy Groups')\n",
    "plt.show()"
   ]
  },
  {
   "cell_type": "code",
   "execution_count": null,
   "metadata": {},
   "outputs": [],
   "source": [
    "boy_groups =spark.read.load(\"./data/kpop_idols_boy_groups.csv\", format=\"csv\", header=True, inferSchema=\"True\")"
   ]
  },
  {
   "cell_type": "code",
   "execution_count": 39,
   "metadata": {},
   "outputs": [],
   "source": [
    "actif = boy_groups.filter(boy_groups[\"Active\"]==\"Yes\")\n",
    "dissou = boy_groups.filter(boy_groups[\"Active\"]==\"No\")\n",
    "suspendu = boy_groups.filter(boy_groups[\"Active\"]==\"Hiatus\")"
   ]
  },
  {
   "cell_type": "code",
   "execution_count": 41,
   "metadata": {},
   "outputs": [
    {
     "data": {
      "text/plain": [
       "110"
      ]
     },
     "execution_count": 41,
     "metadata": {},
     "output_type": "execute_result"
    }
   ],
   "source": [
    "actif.count()"
   ]
  },
  {
   "cell_type": "code",
   "execution_count": 42,
   "metadata": {},
   "outputs": [
    {
     "data": {
      "text/plain": [
       "33"
      ]
     },
     "execution_count": 42,
     "metadata": {},
     "output_type": "execute_result"
    }
   ],
   "source": [
    "dissou.count()"
   ]
  },
  {
   "cell_type": "code",
   "execution_count": 43,
   "metadata": {},
   "outputs": [
    {
     "data": {
      "text/plain": [
       "4"
      ]
     },
     "execution_count": 43,
     "metadata": {},
     "output_type": "execute_result"
    }
   ],
   "source": [
    "suspendu.count()"
   ]
  },
  {
   "cell_type": "code",
   "execution_count": 47,
   "metadata": {},
   "outputs": [
    {
     "data": {
      "application/vnd.plotly.v1+json": {
       "config": {
        "plotlyServerURL": "https://plot.ly"
       },
       "data": [
        {
         "labels": [
          "Yes",
          "No",
          "Hiatus"
         ],
         "type": "pie",
         "values": [
          110,
          33,
          4
         ]
        }
       ],
       "layout": {
        "template": {
         "data": {
          "bar": [
           {
            "error_x": {
             "color": "#2a3f5f"
            },
            "error_y": {
             "color": "#2a3f5f"
            },
            "marker": {
             "line": {
              "color": "#E5ECF6",
              "width": 0.5
             }
            },
            "type": "bar"
           }
          ],
          "barpolar": [
           {
            "marker": {
             "line": {
              "color": "#E5ECF6",
              "width": 0.5
             }
            },
            "type": "barpolar"
           }
          ],
          "carpet": [
           {
            "aaxis": {
             "endlinecolor": "#2a3f5f",
             "gridcolor": "white",
             "linecolor": "white",
             "minorgridcolor": "white",
             "startlinecolor": "#2a3f5f"
            },
            "baxis": {
             "endlinecolor": "#2a3f5f",
             "gridcolor": "white",
             "linecolor": "white",
             "minorgridcolor": "white",
             "startlinecolor": "#2a3f5f"
            },
            "type": "carpet"
           }
          ],
          "choropleth": [
           {
            "colorbar": {
             "outlinewidth": 0,
             "ticks": ""
            },
            "type": "choropleth"
           }
          ],
          "contour": [
           {
            "colorbar": {
             "outlinewidth": 0,
             "ticks": ""
            },
            "colorscale": [
             [
              0,
              "#0d0887"
             ],
             [
              0.1111111111111111,
              "#46039f"
             ],
             [
              0.2222222222222222,
              "#7201a8"
             ],
             [
              0.3333333333333333,
              "#9c179e"
             ],
             [
              0.4444444444444444,
              "#bd3786"
             ],
             [
              0.5555555555555556,
              "#d8576b"
             ],
             [
              0.6666666666666666,
              "#ed7953"
             ],
             [
              0.7777777777777778,
              "#fb9f3a"
             ],
             [
              0.8888888888888888,
              "#fdca26"
             ],
             [
              1,
              "#f0f921"
             ]
            ],
            "type": "contour"
           }
          ],
          "contourcarpet": [
           {
            "colorbar": {
             "outlinewidth": 0,
             "ticks": ""
            },
            "type": "contourcarpet"
           }
          ],
          "heatmap": [
           {
            "colorbar": {
             "outlinewidth": 0,
             "ticks": ""
            },
            "colorscale": [
             [
              0,
              "#0d0887"
             ],
             [
              0.1111111111111111,
              "#46039f"
             ],
             [
              0.2222222222222222,
              "#7201a8"
             ],
             [
              0.3333333333333333,
              "#9c179e"
             ],
             [
              0.4444444444444444,
              "#bd3786"
             ],
             [
              0.5555555555555556,
              "#d8576b"
             ],
             [
              0.6666666666666666,
              "#ed7953"
             ],
             [
              0.7777777777777778,
              "#fb9f3a"
             ],
             [
              0.8888888888888888,
              "#fdca26"
             ],
             [
              1,
              "#f0f921"
             ]
            ],
            "type": "heatmap"
           }
          ],
          "heatmapgl": [
           {
            "colorbar": {
             "outlinewidth": 0,
             "ticks": ""
            },
            "colorscale": [
             [
              0,
              "#0d0887"
             ],
             [
              0.1111111111111111,
              "#46039f"
             ],
             [
              0.2222222222222222,
              "#7201a8"
             ],
             [
              0.3333333333333333,
              "#9c179e"
             ],
             [
              0.4444444444444444,
              "#bd3786"
             ],
             [
              0.5555555555555556,
              "#d8576b"
             ],
             [
              0.6666666666666666,
              "#ed7953"
             ],
             [
              0.7777777777777778,
              "#fb9f3a"
             ],
             [
              0.8888888888888888,
              "#fdca26"
             ],
             [
              1,
              "#f0f921"
             ]
            ],
            "type": "heatmapgl"
           }
          ],
          "histogram": [
           {
            "marker": {
             "colorbar": {
              "outlinewidth": 0,
              "ticks": ""
             }
            },
            "type": "histogram"
           }
          ],
          "histogram2d": [
           {
            "colorbar": {
             "outlinewidth": 0,
             "ticks": ""
            },
            "colorscale": [
             [
              0,
              "#0d0887"
             ],
             [
              0.1111111111111111,
              "#46039f"
             ],
             [
              0.2222222222222222,
              "#7201a8"
             ],
             [
              0.3333333333333333,
              "#9c179e"
             ],
             [
              0.4444444444444444,
              "#bd3786"
             ],
             [
              0.5555555555555556,
              "#d8576b"
             ],
             [
              0.6666666666666666,
              "#ed7953"
             ],
             [
              0.7777777777777778,
              "#fb9f3a"
             ],
             [
              0.8888888888888888,
              "#fdca26"
             ],
             [
              1,
              "#f0f921"
             ]
            ],
            "type": "histogram2d"
           }
          ],
          "histogram2dcontour": [
           {
            "colorbar": {
             "outlinewidth": 0,
             "ticks": ""
            },
            "colorscale": [
             [
              0,
              "#0d0887"
             ],
             [
              0.1111111111111111,
              "#46039f"
             ],
             [
              0.2222222222222222,
              "#7201a8"
             ],
             [
              0.3333333333333333,
              "#9c179e"
             ],
             [
              0.4444444444444444,
              "#bd3786"
             ],
             [
              0.5555555555555556,
              "#d8576b"
             ],
             [
              0.6666666666666666,
              "#ed7953"
             ],
             [
              0.7777777777777778,
              "#fb9f3a"
             ],
             [
              0.8888888888888888,
              "#fdca26"
             ],
             [
              1,
              "#f0f921"
             ]
            ],
            "type": "histogram2dcontour"
           }
          ],
          "mesh3d": [
           {
            "colorbar": {
             "outlinewidth": 0,
             "ticks": ""
            },
            "type": "mesh3d"
           }
          ],
          "parcoords": [
           {
            "line": {
             "colorbar": {
              "outlinewidth": 0,
              "ticks": ""
             }
            },
            "type": "parcoords"
           }
          ],
          "pie": [
           {
            "automargin": true,
            "type": "pie"
           }
          ],
          "scatter": [
           {
            "marker": {
             "colorbar": {
              "outlinewidth": 0,
              "ticks": ""
             }
            },
            "type": "scatter"
           }
          ],
          "scatter3d": [
           {
            "line": {
             "colorbar": {
              "outlinewidth": 0,
              "ticks": ""
             }
            },
            "marker": {
             "colorbar": {
              "outlinewidth": 0,
              "ticks": ""
             }
            },
            "type": "scatter3d"
           }
          ],
          "scattercarpet": [
           {
            "marker": {
             "colorbar": {
              "outlinewidth": 0,
              "ticks": ""
             }
            },
            "type": "scattercarpet"
           }
          ],
          "scattergeo": [
           {
            "marker": {
             "colorbar": {
              "outlinewidth": 0,
              "ticks": ""
             }
            },
            "type": "scattergeo"
           }
          ],
          "scattergl": [
           {
            "marker": {
             "colorbar": {
              "outlinewidth": 0,
              "ticks": ""
             }
            },
            "type": "scattergl"
           }
          ],
          "scattermapbox": [
           {
            "marker": {
             "colorbar": {
              "outlinewidth": 0,
              "ticks": ""
             }
            },
            "type": "scattermapbox"
           }
          ],
          "scatterpolar": [
           {
            "marker": {
             "colorbar": {
              "outlinewidth": 0,
              "ticks": ""
             }
            },
            "type": "scatterpolar"
           }
          ],
          "scatterpolargl": [
           {
            "marker": {
             "colorbar": {
              "outlinewidth": 0,
              "ticks": ""
             }
            },
            "type": "scatterpolargl"
           }
          ],
          "scatterternary": [
           {
            "marker": {
             "colorbar": {
              "outlinewidth": 0,
              "ticks": ""
             }
            },
            "type": "scatterternary"
           }
          ],
          "surface": [
           {
            "colorbar": {
             "outlinewidth": 0,
             "ticks": ""
            },
            "colorscale": [
             [
              0,
              "#0d0887"
             ],
             [
              0.1111111111111111,
              "#46039f"
             ],
             [
              0.2222222222222222,
              "#7201a8"
             ],
             [
              0.3333333333333333,
              "#9c179e"
             ],
             [
              0.4444444444444444,
              "#bd3786"
             ],
             [
              0.5555555555555556,
              "#d8576b"
             ],
             [
              0.6666666666666666,
              "#ed7953"
             ],
             [
              0.7777777777777778,
              "#fb9f3a"
             ],
             [
              0.8888888888888888,
              "#fdca26"
             ],
             [
              1,
              "#f0f921"
             ]
            ],
            "type": "surface"
           }
          ],
          "table": [
           {
            "cells": {
             "fill": {
              "color": "#EBF0F8"
             },
             "line": {
              "color": "white"
             }
            },
            "header": {
             "fill": {
              "color": "#C8D4E3"
             },
             "line": {
              "color": "white"
             }
            },
            "type": "table"
           }
          ]
         },
         "layout": {
          "annotationdefaults": {
           "arrowcolor": "#2a3f5f",
           "arrowhead": 0,
           "arrowwidth": 1
          },
          "autotypenumbers": "strict",
          "coloraxis": {
           "colorbar": {
            "outlinewidth": 0,
            "ticks": ""
           }
          },
          "colorscale": {
           "diverging": [
            [
             0,
             "#8e0152"
            ],
            [
             0.1,
             "#c51b7d"
            ],
            [
             0.2,
             "#de77ae"
            ],
            [
             0.3,
             "#f1b6da"
            ],
            [
             0.4,
             "#fde0ef"
            ],
            [
             0.5,
             "#f7f7f7"
            ],
            [
             0.6,
             "#e6f5d0"
            ],
            [
             0.7,
             "#b8e186"
            ],
            [
             0.8,
             "#7fbc41"
            ],
            [
             0.9,
             "#4d9221"
            ],
            [
             1,
             "#276419"
            ]
           ],
           "sequential": [
            [
             0,
             "#0d0887"
            ],
            [
             0.1111111111111111,
             "#46039f"
            ],
            [
             0.2222222222222222,
             "#7201a8"
            ],
            [
             0.3333333333333333,
             "#9c179e"
            ],
            [
             0.4444444444444444,
             "#bd3786"
            ],
            [
             0.5555555555555556,
             "#d8576b"
            ],
            [
             0.6666666666666666,
             "#ed7953"
            ],
            [
             0.7777777777777778,
             "#fb9f3a"
            ],
            [
             0.8888888888888888,
             "#fdca26"
            ],
            [
             1,
             "#f0f921"
            ]
           ],
           "sequentialminus": [
            [
             0,
             "#0d0887"
            ],
            [
             0.1111111111111111,
             "#46039f"
            ],
            [
             0.2222222222222222,
             "#7201a8"
            ],
            [
             0.3333333333333333,
             "#9c179e"
            ],
            [
             0.4444444444444444,
             "#bd3786"
            ],
            [
             0.5555555555555556,
             "#d8576b"
            ],
            [
             0.6666666666666666,
             "#ed7953"
            ],
            [
             0.7777777777777778,
             "#fb9f3a"
            ],
            [
             0.8888888888888888,
             "#fdca26"
            ],
            [
             1,
             "#f0f921"
            ]
           ]
          },
          "colorway": [
           "#636efa",
           "#EF553B",
           "#00cc96",
           "#ab63fa",
           "#FFA15A",
           "#19d3f3",
           "#FF6692",
           "#B6E880",
           "#FF97FF",
           "#FECB52"
          ],
          "font": {
           "color": "#2a3f5f"
          },
          "geo": {
           "bgcolor": "white",
           "lakecolor": "white",
           "landcolor": "#E5ECF6",
           "showlakes": true,
           "showland": true,
           "subunitcolor": "white"
          },
          "hoverlabel": {
           "align": "left"
          },
          "hovermode": "closest",
          "mapbox": {
           "style": "light"
          },
          "paper_bgcolor": "white",
          "plot_bgcolor": "#E5ECF6",
          "polar": {
           "angularaxis": {
            "gridcolor": "white",
            "linecolor": "white",
            "ticks": ""
           },
           "bgcolor": "#E5ECF6",
           "radialaxis": {
            "gridcolor": "white",
            "linecolor": "white",
            "ticks": ""
           }
          },
          "scene": {
           "xaxis": {
            "backgroundcolor": "#E5ECF6",
            "gridcolor": "white",
            "gridwidth": 2,
            "linecolor": "white",
            "showbackground": true,
            "ticks": "",
            "zerolinecolor": "white"
           },
           "yaxis": {
            "backgroundcolor": "#E5ECF6",
            "gridcolor": "white",
            "gridwidth": 2,
            "linecolor": "white",
            "showbackground": true,
            "ticks": "",
            "zerolinecolor": "white"
           },
           "zaxis": {
            "backgroundcolor": "#E5ECF6",
            "gridcolor": "white",
            "gridwidth": 2,
            "linecolor": "white",
            "showbackground": true,
            "ticks": "",
            "zerolinecolor": "white"
           }
          },
          "shapedefaults": {
           "line": {
            "color": "#2a3f5f"
           }
          },
          "ternary": {
           "aaxis": {
            "gridcolor": "white",
            "linecolor": "white",
            "ticks": ""
           },
           "baxis": {
            "gridcolor": "white",
            "linecolor": "white",
            "ticks": ""
           },
           "bgcolor": "#E5ECF6",
           "caxis": {
            "gridcolor": "white",
            "linecolor": "white",
            "ticks": ""
           }
          },
          "title": {
           "x": 0.05
          },
          "xaxis": {
           "automargin": true,
           "gridcolor": "white",
           "linecolor": "white",
           "ticks": "",
           "title": {
            "standoff": 15
           },
           "zerolinecolor": "white",
           "zerolinewidth": 2
          },
          "yaxis": {
           "automargin": true,
           "gridcolor": "white",
           "linecolor": "white",
           "ticks": "",
           "title": {
            "standoff": 15
           },
           "zerolinecolor": "white",
           "zerolinewidth": 2
          }
         }
        },
        "title": {
         "text": "Groupe Masculin Actif"
        }
       }
      },
      "text/html": [
       "<div>                            <div id=\"698e77f3-5a96-45c4-b537-0b0cad28f894\" class=\"plotly-graph-div\" style=\"height:525px; width:100%;\"></div>            <script type=\"text/javascript\">                require([\"plotly\"], function(Plotly) {                    window.PLOTLYENV=window.PLOTLYENV || {};                                    if (document.getElementById(\"698e77f3-5a96-45c4-b537-0b0cad28f894\")) {                    Plotly.newPlot(                        \"698e77f3-5a96-45c4-b537-0b0cad28f894\",                        [{\"labels\": [\"Yes\", \"No\", \"Hiatus\"], \"type\": \"pie\", \"values\": [110, 33, 4]}],                        {\"template\": {\"data\": {\"bar\": [{\"error_x\": {\"color\": \"#2a3f5f\"}, \"error_y\": {\"color\": \"#2a3f5f\"}, \"marker\": {\"line\": {\"color\": \"#E5ECF6\", \"width\": 0.5}}, \"type\": \"bar\"}], \"barpolar\": [{\"marker\": {\"line\": {\"color\": \"#E5ECF6\", \"width\": 0.5}}, \"type\": \"barpolar\"}], \"carpet\": [{\"aaxis\": {\"endlinecolor\": \"#2a3f5f\", \"gridcolor\": \"white\", \"linecolor\": \"white\", \"minorgridcolor\": \"white\", \"startlinecolor\": \"#2a3f5f\"}, \"baxis\": {\"endlinecolor\": \"#2a3f5f\", \"gridcolor\": \"white\", \"linecolor\": \"white\", \"minorgridcolor\": \"white\", \"startlinecolor\": \"#2a3f5f\"}, \"type\": \"carpet\"}], \"choropleth\": [{\"colorbar\": {\"outlinewidth\": 0, \"ticks\": \"\"}, \"type\": \"choropleth\"}], \"contour\": [{\"colorbar\": {\"outlinewidth\": 0, \"ticks\": \"\"}, \"colorscale\": [[0.0, \"#0d0887\"], [0.1111111111111111, \"#46039f\"], [0.2222222222222222, \"#7201a8\"], [0.3333333333333333, \"#9c179e\"], [0.4444444444444444, \"#bd3786\"], [0.5555555555555556, \"#d8576b\"], [0.6666666666666666, \"#ed7953\"], [0.7777777777777778, \"#fb9f3a\"], [0.8888888888888888, \"#fdca26\"], [1.0, \"#f0f921\"]], \"type\": \"contour\"}], \"contourcarpet\": [{\"colorbar\": {\"outlinewidth\": 0, \"ticks\": \"\"}, \"type\": \"contourcarpet\"}], \"heatmap\": [{\"colorbar\": {\"outlinewidth\": 0, \"ticks\": \"\"}, \"colorscale\": [[0.0, \"#0d0887\"], [0.1111111111111111, \"#46039f\"], [0.2222222222222222, \"#7201a8\"], [0.3333333333333333, \"#9c179e\"], [0.4444444444444444, \"#bd3786\"], [0.5555555555555556, \"#d8576b\"], [0.6666666666666666, \"#ed7953\"], [0.7777777777777778, \"#fb9f3a\"], [0.8888888888888888, \"#fdca26\"], [1.0, \"#f0f921\"]], \"type\": \"heatmap\"}], \"heatmapgl\": [{\"colorbar\": {\"outlinewidth\": 0, \"ticks\": \"\"}, \"colorscale\": [[0.0, \"#0d0887\"], [0.1111111111111111, \"#46039f\"], [0.2222222222222222, \"#7201a8\"], [0.3333333333333333, \"#9c179e\"], [0.4444444444444444, \"#bd3786\"], [0.5555555555555556, \"#d8576b\"], [0.6666666666666666, \"#ed7953\"], [0.7777777777777778, \"#fb9f3a\"], [0.8888888888888888, \"#fdca26\"], [1.0, \"#f0f921\"]], \"type\": \"heatmapgl\"}], \"histogram\": [{\"marker\": {\"colorbar\": {\"outlinewidth\": 0, \"ticks\": \"\"}}, \"type\": \"histogram\"}], \"histogram2d\": [{\"colorbar\": {\"outlinewidth\": 0, \"ticks\": \"\"}, \"colorscale\": [[0.0, \"#0d0887\"], [0.1111111111111111, \"#46039f\"], [0.2222222222222222, \"#7201a8\"], [0.3333333333333333, \"#9c179e\"], [0.4444444444444444, \"#bd3786\"], [0.5555555555555556, \"#d8576b\"], [0.6666666666666666, \"#ed7953\"], [0.7777777777777778, \"#fb9f3a\"], [0.8888888888888888, \"#fdca26\"], [1.0, \"#f0f921\"]], \"type\": \"histogram2d\"}], \"histogram2dcontour\": [{\"colorbar\": {\"outlinewidth\": 0, \"ticks\": \"\"}, \"colorscale\": [[0.0, \"#0d0887\"], [0.1111111111111111, \"#46039f\"], [0.2222222222222222, \"#7201a8\"], [0.3333333333333333, \"#9c179e\"], [0.4444444444444444, \"#bd3786\"], [0.5555555555555556, \"#d8576b\"], [0.6666666666666666, \"#ed7953\"], [0.7777777777777778, \"#fb9f3a\"], [0.8888888888888888, \"#fdca26\"], [1.0, \"#f0f921\"]], \"type\": \"histogram2dcontour\"}], \"mesh3d\": [{\"colorbar\": {\"outlinewidth\": 0, \"ticks\": \"\"}, \"type\": \"mesh3d\"}], \"parcoords\": [{\"line\": {\"colorbar\": {\"outlinewidth\": 0, \"ticks\": \"\"}}, \"type\": \"parcoords\"}], \"pie\": [{\"automargin\": true, \"type\": \"pie\"}], \"scatter\": [{\"marker\": {\"colorbar\": {\"outlinewidth\": 0, \"ticks\": \"\"}}, \"type\": \"scatter\"}], \"scatter3d\": [{\"line\": {\"colorbar\": {\"outlinewidth\": 0, \"ticks\": \"\"}}, \"marker\": {\"colorbar\": {\"outlinewidth\": 0, \"ticks\": \"\"}}, \"type\": \"scatter3d\"}], \"scattercarpet\": [{\"marker\": {\"colorbar\": {\"outlinewidth\": 0, \"ticks\": \"\"}}, \"type\": \"scattercarpet\"}], \"scattergeo\": [{\"marker\": {\"colorbar\": {\"outlinewidth\": 0, \"ticks\": \"\"}}, \"type\": \"scattergeo\"}], \"scattergl\": [{\"marker\": {\"colorbar\": {\"outlinewidth\": 0, \"ticks\": \"\"}}, \"type\": \"scattergl\"}], \"scattermapbox\": [{\"marker\": {\"colorbar\": {\"outlinewidth\": 0, \"ticks\": \"\"}}, \"type\": \"scattermapbox\"}], \"scatterpolar\": [{\"marker\": {\"colorbar\": {\"outlinewidth\": 0, \"ticks\": \"\"}}, \"type\": \"scatterpolar\"}], \"scatterpolargl\": [{\"marker\": {\"colorbar\": {\"outlinewidth\": 0, \"ticks\": \"\"}}, \"type\": \"scatterpolargl\"}], \"scatterternary\": [{\"marker\": {\"colorbar\": {\"outlinewidth\": 0, \"ticks\": \"\"}}, \"type\": \"scatterternary\"}], \"surface\": [{\"colorbar\": {\"outlinewidth\": 0, \"ticks\": \"\"}, \"colorscale\": [[0.0, \"#0d0887\"], [0.1111111111111111, \"#46039f\"], [0.2222222222222222, \"#7201a8\"], [0.3333333333333333, \"#9c179e\"], [0.4444444444444444, \"#bd3786\"], [0.5555555555555556, \"#d8576b\"], [0.6666666666666666, \"#ed7953\"], [0.7777777777777778, \"#fb9f3a\"], [0.8888888888888888, \"#fdca26\"], [1.0, \"#f0f921\"]], \"type\": \"surface\"}], \"table\": [{\"cells\": {\"fill\": {\"color\": \"#EBF0F8\"}, \"line\": {\"color\": \"white\"}}, \"header\": {\"fill\": {\"color\": \"#C8D4E3\"}, \"line\": {\"color\": \"white\"}}, \"type\": \"table\"}]}, \"layout\": {\"annotationdefaults\": {\"arrowcolor\": \"#2a3f5f\", \"arrowhead\": 0, \"arrowwidth\": 1}, \"autotypenumbers\": \"strict\", \"coloraxis\": {\"colorbar\": {\"outlinewidth\": 0, \"ticks\": \"\"}}, \"colorscale\": {\"diverging\": [[0, \"#8e0152\"], [0.1, \"#c51b7d\"], [0.2, \"#de77ae\"], [0.3, \"#f1b6da\"], [0.4, \"#fde0ef\"], [0.5, \"#f7f7f7\"], [0.6, \"#e6f5d0\"], [0.7, \"#b8e186\"], [0.8, \"#7fbc41\"], [0.9, \"#4d9221\"], [1, \"#276419\"]], \"sequential\": [[0.0, \"#0d0887\"], [0.1111111111111111, \"#46039f\"], [0.2222222222222222, \"#7201a8\"], [0.3333333333333333, \"#9c179e\"], [0.4444444444444444, \"#bd3786\"], [0.5555555555555556, \"#d8576b\"], [0.6666666666666666, \"#ed7953\"], [0.7777777777777778, \"#fb9f3a\"], [0.8888888888888888, \"#fdca26\"], [1.0, \"#f0f921\"]], \"sequentialminus\": [[0.0, \"#0d0887\"], [0.1111111111111111, \"#46039f\"], [0.2222222222222222, \"#7201a8\"], [0.3333333333333333, \"#9c179e\"], [0.4444444444444444, \"#bd3786\"], [0.5555555555555556, \"#d8576b\"], [0.6666666666666666, \"#ed7953\"], [0.7777777777777778, \"#fb9f3a\"], [0.8888888888888888, \"#fdca26\"], [1.0, \"#f0f921\"]]}, \"colorway\": [\"#636efa\", \"#EF553B\", \"#00cc96\", \"#ab63fa\", \"#FFA15A\", \"#19d3f3\", \"#FF6692\", \"#B6E880\", \"#FF97FF\", \"#FECB52\"], \"font\": {\"color\": \"#2a3f5f\"}, \"geo\": {\"bgcolor\": \"white\", \"lakecolor\": \"white\", \"landcolor\": \"#E5ECF6\", \"showlakes\": true, \"showland\": true, \"subunitcolor\": \"white\"}, \"hoverlabel\": {\"align\": \"left\"}, \"hovermode\": \"closest\", \"mapbox\": {\"style\": \"light\"}, \"paper_bgcolor\": \"white\", \"plot_bgcolor\": \"#E5ECF6\", \"polar\": {\"angularaxis\": {\"gridcolor\": \"white\", \"linecolor\": \"white\", \"ticks\": \"\"}, \"bgcolor\": \"#E5ECF6\", \"radialaxis\": {\"gridcolor\": \"white\", \"linecolor\": \"white\", \"ticks\": \"\"}}, \"scene\": {\"xaxis\": {\"backgroundcolor\": \"#E5ECF6\", \"gridcolor\": \"white\", \"gridwidth\": 2, \"linecolor\": \"white\", \"showbackground\": true, \"ticks\": \"\", \"zerolinecolor\": \"white\"}, \"yaxis\": {\"backgroundcolor\": \"#E5ECF6\", \"gridcolor\": \"white\", \"gridwidth\": 2, \"linecolor\": \"white\", \"showbackground\": true, \"ticks\": \"\", \"zerolinecolor\": \"white\"}, \"zaxis\": {\"backgroundcolor\": \"#E5ECF6\", \"gridcolor\": \"white\", \"gridwidth\": 2, \"linecolor\": \"white\", \"showbackground\": true, \"ticks\": \"\", \"zerolinecolor\": \"white\"}}, \"shapedefaults\": {\"line\": {\"color\": \"#2a3f5f\"}}, \"ternary\": {\"aaxis\": {\"gridcolor\": \"white\", \"linecolor\": \"white\", \"ticks\": \"\"}, \"baxis\": {\"gridcolor\": \"white\", \"linecolor\": \"white\", \"ticks\": \"\"}, \"bgcolor\": \"#E5ECF6\", \"caxis\": {\"gridcolor\": \"white\", \"linecolor\": \"white\", \"ticks\": \"\"}}, \"title\": {\"x\": 0.05}, \"xaxis\": {\"automargin\": true, \"gridcolor\": \"white\", \"linecolor\": \"white\", \"ticks\": \"\", \"title\": {\"standoff\": 15}, \"zerolinecolor\": \"white\", \"zerolinewidth\": 2}, \"yaxis\": {\"automargin\": true, \"gridcolor\": \"white\", \"linecolor\": \"white\", \"ticks\": \"\", \"title\": {\"standoff\": 15}, \"zerolinecolor\": \"white\", \"zerolinewidth\": 2}}}, \"title\": {\"text\": \"Groupe Masculin Actif\"}},                        {\"responsive\": true}                    ).then(function(){\n",
       "                            \n",
       "var gd = document.getElementById('698e77f3-5a96-45c4-b537-0b0cad28f894');\n",
       "var x = new MutationObserver(function (mutations, observer) {{\n",
       "        var display = window.getComputedStyle(gd).display;\n",
       "        if (!display || display === 'none') {{\n",
       "            console.log([gd, 'removed!']);\n",
       "            Plotly.purge(gd);\n",
       "            observer.disconnect();\n",
       "        }}\n",
       "}});\n",
       "\n",
       "// Listen for the removal of the full notebook cells\n",
       "var notebookContainer = gd.closest('#notebook-container');\n",
       "if (notebookContainer) {{\n",
       "    x.observe(notebookContainer, {childList: true});\n",
       "}}\n",
       "\n",
       "// Listen for the clearing of the current output cell\n",
       "var outputEl = gd.closest('.output');\n",
       "if (outputEl) {{\n",
       "    x.observe(outputEl, {childList: true});\n",
       "}}\n",
       "\n",
       "                        })                };                });            </script>        </div>"
      ]
     },
     "metadata": {},
     "output_type": "display_data"
    }
   ],
   "source": [
    "labels = ['Yes','No','Hiatus']\n",
    "values = [actif.count(), dissou.count(), suspendu.count()]\n",
    "\n",
    "fig = go.Figure(data=[go.Pie(labels=labels, values=values)])\n",
    "fig.update_layout(title_text='Groupe Masculin Actif')\n",
    "fig.show()"
   ]
  },
  {
   "cell_type": "code",
   "execution_count": 48,
   "metadata": {},
   "outputs": [],
   "source": [
    "df = pd.read_csv('./data/kpop_idols_girl_groups.csv', encoding='ISO-8859-2')"
   ]
  },
  {
   "cell_type": "code",
   "execution_count": 50,
   "metadata": {},
   "outputs": [
    {
     "name": "stderr",
     "output_type": "stream",
     "text": [
      "/opt/conda/lib/python3.8/site-packages/seaborn/_decorators.py:36: FutureWarning:\n",
      "\n",
      "Pass the following variable as a keyword arg: x. From version 0.12, the only valid positional argument will be `data`, and passing other arguments without an explicit keyword will result in an error or misinterpretation.\n",
      "\n"
     ]
    },
    {
     "data": {
      "image/png": "[encoded data removed]",
      "text/plain": [
       "<Figure size 864x720 with 1 Axes>"
      ]
     },
     "metadata": {
      "needs_background": "light"
     },
     "output_type": "display_data"
    }
   ],
   "source": [
    "fig = plt.figure(figsize=[12,10])\n",
    "sns.countplot(df['Members'], color=sns.xkcd_rgb['yellow'])\n",
    "plt.title('Kpop Idols Girl Groups')\n",
    "plt.show()"
   ]
  },
  {
   "cell_type": "code",
   "execution_count": 51,
   "metadata": {},
   "outputs": [],
   "source": [
    "girl_groups =spark.read.load(\"./data/kpop_idols_girl_groups.csv\", format=\"csv\", header=True, inferSchema=\"True\")"
   ]
  },
  {
   "cell_type": "code",
   "execution_count": 52,
   "metadata": {},
   "outputs": [],
   "source": [
    "actif = girl_groups.filter(girl_groups[\"Active\"]==\"Yes\")\n",
    "dissou = girl_groups.filter(girl_groups[\"Active\"]==\"No\")\n",
    "suspendu = girl_groups.filter(girl_groups[\"Active\"]==\"Hiatus\")"
   ]
  },
  {
   "cell_type": "code",
   "execution_count": 54,
   "metadata": {},
   "outputs": [
    {
     "data": {
      "application/vnd.plotly.v1+json": {
       "config": {
        "plotlyServerURL": "https://plot.ly"
       },
       "data": [
        {
         "hole": 0.3,
         "labels": [
          "Yes",
          "No",
          "Hiatus"
         ],
         "type": "pie",
         "values": [
          88,
          59,
          5
         ]
        }
       ],
       "layout": {
        "template": {
         "data": {
          "bar": [
           {
            "error_x": {
             "color": "#2a3f5f"
            },
            "error_y": {
             "color": "#2a3f5f"
            },
            "marker": {
             "line": {
              "color": "#E5ECF6",
              "width": 0.5
             }
            },
            "type": "bar"
           }
          ],
          "barpolar": [
           {
            "marker": {
             "line": {
              "color": "#E5ECF6",
              "width": 0.5
             }
            },
            "type": "barpolar"
           }
          ],
          "carpet": [
           {
            "aaxis": {
             "endlinecolor": "#2a3f5f",
             "gridcolor": "white",
             "linecolor": "white",
             "minorgridcolor": "white",
             "startlinecolor": "#2a3f5f"
            },
            "baxis": {
             "endlinecolor": "#2a3f5f",
             "gridcolor": "white",
             "linecolor": "white",
             "minorgridcolor": "white",
             "startlinecolor": "#2a3f5f"
            },
            "type": "carpet"
           }
          ],
          "choropleth": [
           {
            "colorbar": {
             "outlinewidth": 0,
             "ticks": ""
            },
            "type": "choropleth"
           }
          ],
          "contour": [
           {
            "colorbar": {
             "outlinewidth": 0,
             "ticks": ""
            },
            "colorscale": [
             [
              0,
              "#0d0887"
             ],
             [
              0.1111111111111111,
              "#46039f"
             ],
             [
              0.2222222222222222,
              "#7201a8"
             ],
             [
              0.3333333333333333,
              "#9c179e"
             ],
             [
              0.4444444444444444,
              "#bd3786"
             ],
             [
              0.5555555555555556,
              "#d8576b"
             ],
             [
              0.6666666666666666,
              "#ed7953"
             ],
             [
              0.7777777777777778,
              "#fb9f3a"
             ],
             [
              0.8888888888888888,
              "#fdca26"
             ],
             [
              1,
              "#f0f921"
             ]
            ],
            "type": "contour"
           }
          ],
          "contourcarpet": [
           {
            "colorbar": {
             "outlinewidth": 0,
             "ticks": ""
            },
            "type": "contourcarpet"
           }
          ],
          "heatmap": [
           {
            "colorbar": {
             "outlinewidth": 0,
             "ticks": ""
            },
            "colorscale": [
             [
              0,
              "#0d0887"
             ],
             [
              0.1111111111111111,
              "#46039f"
             ],
             [
              0.2222222222222222,
              "#7201a8"
             ],
             [
              0.3333333333333333,
              "#9c179e"
             ],
             [
              0.4444444444444444,
              "#bd3786"
             ],
             [
              0.5555555555555556,
              "#d8576b"
             ],
             [
              0.6666666666666666,
              "#ed7953"
             ],
             [
              0.7777777777777778,
              "#fb9f3a"
             ],
             [
              0.8888888888888888,
              "#fdca26"
             ],
             [
              1,
              "#f0f921"
             ]
            ],
            "type": "heatmap"
           }
          ],
          "heatmapgl": [
           {
            "colorbar": {
             "outlinewidth": 0,
             "ticks": ""
            },
            "colorscale": [
             [
              0,
              "#0d0887"
             ],
             [
              0.1111111111111111,
              "#46039f"
             ],
             [
              0.2222222222222222,
              "#7201a8"
             ],
             [
              0.3333333333333333,
              "#9c179e"
             ],
             [
              0.4444444444444444,
              "#bd3786"
             ],
             [
              0.5555555555555556,
              "#d8576b"
             ],
             [
              0.6666666666666666,
              "#ed7953"
             ],
             [
              0.7777777777777778,
              "#fb9f3a"
             ],
             [
              0.8888888888888888,
              "#fdca26"
             ],
             [
              1,
              "#f0f921"
             ]
            ],
            "type": "heatmapgl"
           }
          ],
          "histogram": [
           {
            "marker": {
             "colorbar": {
              "outlinewidth": 0,
              "ticks": ""
             }
            },
            "type": "histogram"
           }
          ],
          "histogram2d": [
           {
            "colorbar": {
             "outlinewidth": 0,
             "ticks": ""
            },
            "colorscale": [
             [
              0,
              "#0d0887"
             ],
             [
              0.1111111111111111,
              "#46039f"
             ],
             [
              0.2222222222222222,
              "#7201a8"
             ],
             [
              0.3333333333333333,
              "#9c179e"
             ],
             [
              0.4444444444444444,
              "#bd3786"
             ],
             [
              0.5555555555555556,
              "#d8576b"
             ],
             [
              0.6666666666666666,
              "#ed7953"
             ],
             [
              0.7777777777777778,
              "#fb9f3a"
             ],
             [
              0.8888888888888888,
              "#fdca26"
             ],
             [
              1,
              "#f0f921"
             ]
            ],
            "type": "histogram2d"
           }
          ],
          "histogram2dcontour": [
           {
            "colorbar": {
             "outlinewidth": 0,
             "ticks": ""
            },
            "colorscale": [
             [
              0,
              "#0d0887"
             ],
             [
              0.1111111111111111,
              "#46039f"
             ],
             [
              0.2222222222222222,
              "#7201a8"
             ],
             [
              0.3333333333333333,
              "#9c179e"
             ],
             [
              0.4444444444444444,
              "#bd3786"
             ],
             [
              0.5555555555555556,
              "#d8576b"
             ],
             [
              0.6666666666666666,
              "#ed7953"
             ],
             [
              0.7777777777777778,
              "#fb9f3a"
             ],
             [
              0.8888888888888888,
              "#fdca26"
             ],
             [
              1,
              "#f0f921"
             ]
            ],
            "type": "histogram2dcontour"
           }
          ],
          "mesh3d": [
           {
            "colorbar": {
             "outlinewidth": 0,
             "ticks": ""
            },
            "type": "mesh3d"
           }
          ],
          "parcoords": [
           {
            "line": {
             "colorbar": {
              "outlinewidth": 0,
              "ticks": ""
             }
            },
            "type": "parcoords"
           }
          ],
          "pie": [
           {
            "automargin": true,
            "type": "pie"
           }
          ],
          "scatter": [
           {
            "marker": {
             "colorbar": {
              "outlinewidth": 0,
              "ticks": ""
             }
            },
            "type": "scatter"
           }
          ],
          "scatter3d": [
           {
            "line": {
             "colorbar": {
              "outlinewidth": 0,
              "ticks": ""
             }
            },
            "marker": {
             "colorbar": {
              "outlinewidth": 0,
              "ticks": ""
             }
            },
            "type": "scatter3d"
           }
          ],
          "scattercarpet": [
           {
            "marker": {
             "colorbar": {
              "outlinewidth": 0,
              "ticks": ""
             }
            },
            "type": "scattercarpet"
           }
          ],
          "scattergeo": [
           {
            "marker": {
             "colorbar": {
              "outlinewidth": 0,
              "ticks": ""
             }
            },
            "type": "scattergeo"
           }
          ],
          "scattergl": [
           {
            "marker": {
             "colorbar": {
              "outlinewidth": 0,
              "ticks": ""
             }
            },
            "type": "scattergl"
           }
          ],
          "scattermapbox": [
           {
            "marker": {
             "colorbar": {
              "outlinewidth": 0,
              "ticks": ""
             }
            },
            "type": "scattermapbox"
           }
          ],
          "scatterpolar": [
           {
            "marker": {
             "colorbar": {
              "outlinewidth": 0,
              "ticks": ""
             }
            },
            "type": "scatterpolar"
           }
          ],
          "scatterpolargl": [
           {
            "marker": {
             "colorbar": {
              "outlinewidth": 0,
              "ticks": ""
             }
            },
            "type": "scatterpolargl"
           }
          ],
          "scatterternary": [
           {
            "marker": {
             "colorbar": {
              "outlinewidth": 0,
              "ticks": ""
             }
            },
            "type": "scatterternary"
           }
          ],
          "surface": [
           {
            "colorbar": {
             "outlinewidth": 0,
             "ticks": ""
            },
            "colorscale": [
             [
              0,
              "#0d0887"
             ],
             [
              0.1111111111111111,
              "#46039f"
             ],
             [
              0.2222222222222222,
              "#7201a8"
             ],
             [
              0.3333333333333333,
              "#9c179e"
             ],
             [
              0.4444444444444444,
              "#bd3786"
             ],
             [
              0.5555555555555556,
              "#d8576b"
             ],
             [
              0.6666666666666666,
              "#ed7953"
             ],
             [
              0.7777777777777778,
              "#fb9f3a"
             ],
             [
              0.8888888888888888,
              "#fdca26"
             ],
             [
              1,
              "#f0f921"
             ]
            ],
            "type": "surface"
           }
          ],
          "table": [
           {
            "cells": {
             "fill": {
              "color": "#EBF0F8"
             },
             "line": {
              "color": "white"
             }
            },
            "header": {
             "fill": {
              "color": "#C8D4E3"
             },
             "line": {
              "color": "white"
             }
            },
            "type": "table"
           }
          ]
         },
         "layout": {
          "annotationdefaults": {
           "arrowcolor": "#2a3f5f",
           "arrowhead": 0,
           "arrowwidth": 1
          },
          "autotypenumbers": "strict",
          "coloraxis": {
           "colorbar": {
            "outlinewidth": 0,
            "ticks": ""
           }
          },
          "colorscale": {
           "diverging": [
            [
             0,
             "#8e0152"
            ],
            [
             0.1,
             "#c51b7d"
            ],
            [
             0.2,
             "#de77ae"
            ],
            [
             0.3,
             "#f1b6da"
            ],
            [
             0.4,
             "#fde0ef"
            ],
            [
             0.5,
             "#f7f7f7"
            ],
            [
             0.6,
             "#e6f5d0"
            ],
            [
             0.7,
             "#b8e186"
            ],
            [
             0.8,
             "#7fbc41"
            ],
            [
             0.9,
             "#4d9221"
            ],
            [
             1,
             "#276419"
            ]
           ],
           "sequential": [
            [
             0,
             "#0d0887"
            ],
            [
             0.1111111111111111,
             "#46039f"
            ],
            [
             0.2222222222222222,
             "#7201a8"
            ],
            [
             0.3333333333333333,
             "#9c179e"
            ],
            [
             0.4444444444444444,
             "#bd3786"
            ],
            [
             0.5555555555555556,
             "#d8576b"
            ],
            [
             0.6666666666666666,
             "#ed7953"
            ],
            [
             0.7777777777777778,
             "#fb9f3a"
            ],
            [
             0.8888888888888888,
             "#fdca26"
            ],
            [
             1,
             "#f0f921"
            ]
           ],
           "sequentialminus": [
            [
             0,
             "#0d0887"
            ],
            [
             0.1111111111111111,
             "#46039f"
            ],
            [
             0.2222222222222222,
             "#7201a8"
            ],
            [
             0.3333333333333333,
             "#9c179e"
            ],
            [
             0.4444444444444444,
             "#bd3786"
            ],
            [
             0.5555555555555556,
             "#d8576b"
            ],
            [
             0.6666666666666666,
             "#ed7953"
            ],
            [
             0.7777777777777778,
             "#fb9f3a"
            ],
            [
             0.8888888888888888,
             "#fdca26"
            ],
            [
             1,
             "#f0f921"
            ]
           ]
          },
          "colorway": [
           "#636efa",
           "#EF553B",
           "#00cc96",
           "#ab63fa",
           "#FFA15A",
           "#19d3f3",
           "#FF6692",
           "#B6E880",
           "#FF97FF",
           "#FECB52"
          ],
          "font": {
           "color": "#2a3f5f"
          },
          "geo": {
           "bgcolor": "white",
           "lakecolor": "white",
           "landcolor": "#E5ECF6",
           "showlakes": true,
           "showland": true,
           "subunitcolor": "white"
          },
          "hoverlabel": {
           "align": "left"
          },
          "hovermode": "closest",
          "mapbox": {
           "style": "light"
          },
          "paper_bgcolor": "white",
          "plot_bgcolor": "#E5ECF6",
          "polar": {
           "angularaxis": {
            "gridcolor": "white",
            "linecolor": "white",
            "ticks": ""
           },
           "bgcolor": "#E5ECF6",
           "radialaxis": {
            "gridcolor": "white",
            "linecolor": "white",
            "ticks": ""
           }
          },
          "scene": {
           "xaxis": {
            "backgroundcolor": "#E5ECF6",
            "gridcolor": "white",
            "gridwidth": 2,
            "linecolor": "white",
            "showbackground": true,
            "ticks": "",
            "zerolinecolor": "white"
           },
           "yaxis": {
            "backgroundcolor": "#E5ECF6",
            "gridcolor": "white",
            "gridwidth": 2,
            "linecolor": "white",
            "showbackground": true,
            "ticks": "",
            "zerolinecolor": "white"
           },
           "zaxis": {
            "backgroundcolor": "#E5ECF6",
            "gridcolor": "white",
            "gridwidth": 2,
            "linecolor": "white",
            "showbackground": true,
            "ticks": "",
            "zerolinecolor": "white"
           }
          },
          "shapedefaults": {
           "line": {
            "color": "#2a3f5f"
           }
          },
          "ternary": {
           "aaxis": {
            "gridcolor": "white",
            "linecolor": "white",
            "ticks": ""
           },
           "baxis": {
            "gridcolor": "white",
            "linecolor": "white",
            "ticks": ""
           },
           "bgcolor": "#E5ECF6",
           "caxis": {
            "gridcolor": "white",
            "linecolor": "white",
            "ticks": ""
           }
          },
          "title": {
           "x": 0.05
          },
          "xaxis": {
           "automargin": true,
           "gridcolor": "white",
           "linecolor": "white",
           "ticks": "",
           "title": {
            "standoff": 15
           },
           "zerolinecolor": "white",
           "zerolinewidth": 2
          },
          "yaxis": {
           "automargin": true,
           "gridcolor": "white",
           "linecolor": "white",
           "ticks": "",
           "title": {
            "standoff": 15
           },
           "zerolinecolor": "white",
           "zerolinewidth": 2
          }
         }
        },
        "title": {
         "text": "Groupe Féminin Actif"
        }
       }
      },
      "text/html": [
       "<div>                            <div id=\"bfb23437-1b23-4f77-9f32-25160b7770ee\" class=\"plotly-graph-div\" style=\"height:525px; width:100%;\"></div>            <script type=\"text/javascript\">                require([\"plotly\"], function(Plotly) {                    window.PLOTLYENV=window.PLOTLYENV || {};                                    if (document.getElementById(\"bfb23437-1b23-4f77-9f32-25160b7770ee\")) {                    Plotly.newPlot(                        \"bfb23437-1b23-4f77-9f32-25160b7770ee\",                        [{\"hole\": 0.3, \"labels\": [\"Yes\", \"No\", \"Hiatus\"], \"type\": \"pie\", \"values\": [88, 59, 5]}],                        {\"template\": {\"data\": {\"bar\": [{\"error_x\": {\"color\": \"#2a3f5f\"}, \"error_y\": {\"color\": \"#2a3f5f\"}, \"marker\": {\"line\": {\"color\": \"#E5ECF6\", \"width\": 0.5}}, \"type\": \"bar\"}], \"barpolar\": [{\"marker\": {\"line\": {\"color\": \"#E5ECF6\", \"width\": 0.5}}, \"type\": \"barpolar\"}], \"carpet\": [{\"aaxis\": {\"endlinecolor\": \"#2a3f5f\", \"gridcolor\": \"white\", \"linecolor\": \"white\", \"minorgridcolor\": \"white\", \"startlinecolor\": \"#2a3f5f\"}, \"baxis\": {\"endlinecolor\": \"#2a3f5f\", \"gridcolor\": \"white\", \"linecolor\": \"white\", \"minorgridcolor\": \"white\", \"startlinecolor\": \"#2a3f5f\"}, \"type\": \"carpet\"}], \"choropleth\": [{\"colorbar\": {\"outlinewidth\": 0, \"ticks\": \"\"}, \"type\": \"choropleth\"}], \"contour\": [{\"colorbar\": {\"outlinewidth\": 0, \"ticks\": \"\"}, \"colorscale\": [[0.0, \"#0d0887\"], [0.1111111111111111, \"#46039f\"], [0.2222222222222222, \"#7201a8\"], [0.3333333333333333, \"#9c179e\"], [0.4444444444444444, \"#bd3786\"], [0.5555555555555556, \"#d8576b\"], [0.6666666666666666, \"#ed7953\"], [0.7777777777777778, \"#fb9f3a\"], [0.8888888888888888, \"#fdca26\"], [1.0, \"#f0f921\"]], \"type\": \"contour\"}], \"contourcarpet\": [{\"colorbar\": {\"outlinewidth\": 0, \"ticks\": \"\"}, \"type\": \"contourcarpet\"}], \"heatmap\": [{\"colorbar\": {\"outlinewidth\": 0, \"ticks\": \"\"}, \"colorscale\": [[0.0, \"#0d0887\"], [0.1111111111111111, \"#46039f\"], [0.2222222222222222, \"#7201a8\"], [0.3333333333333333, \"#9c179e\"], [0.4444444444444444, \"#bd3786\"], [0.5555555555555556, \"#d8576b\"], [0.6666666666666666, \"#ed7953\"], [0.7777777777777778, \"#fb9f3a\"], [0.8888888888888888, \"#fdca26\"], [1.0, \"#f0f921\"]], \"type\": \"heatmap\"}], \"heatmapgl\": [{\"colorbar\": {\"outlinewidth\": 0, \"ticks\": \"\"}, \"colorscale\": [[0.0, \"#0d0887\"], [0.1111111111111111, \"#46039f\"], [0.2222222222222222, \"#7201a8\"], [0.3333333333333333, \"#9c179e\"], [0.4444444444444444, \"#bd3786\"], [0.5555555555555556, \"#d8576b\"], [0.6666666666666666, \"#ed7953\"], [0.7777777777777778, \"#fb9f3a\"], [0.8888888888888888, \"#fdca26\"], [1.0, \"#f0f921\"]], \"type\": \"heatmapgl\"}], \"histogram\": [{\"marker\": {\"colorbar\": {\"outlinewidth\": 0, \"ticks\": \"\"}}, \"type\": \"histogram\"}], \"histogram2d\": [{\"colorbar\": {\"outlinewidth\": 0, \"ticks\": \"\"}, \"colorscale\": [[0.0, \"#0d0887\"], [0.1111111111111111, \"#46039f\"], [0.2222222222222222, \"#7201a8\"], [0.3333333333333333, \"#9c179e\"], [0.4444444444444444, \"#bd3786\"], [0.5555555555555556, \"#d8576b\"], [0.6666666666666666, \"#ed7953\"], [0.7777777777777778, \"#fb9f3a\"], [0.8888888888888888, \"#fdca26\"], [1.0, \"#f0f921\"]], \"type\": \"histogram2d\"}], \"histogram2dcontour\": [{\"colorbar\": {\"outlinewidth\": 0, \"ticks\": \"\"}, \"colorscale\": [[0.0, \"#0d0887\"], [0.1111111111111111, \"#46039f\"], [0.2222222222222222, \"#7201a8\"], [0.3333333333333333, \"#9c179e\"], [0.4444444444444444, \"#bd3786\"], [0.5555555555555556, \"#d8576b\"], [0.6666666666666666, \"#ed7953\"], [0.7777777777777778, \"#fb9f3a\"], [0.8888888888888888, \"#fdca26\"], [1.0, \"#f0f921\"]], \"type\": \"histogram2dcontour\"}], \"mesh3d\": [{\"colorbar\": {\"outlinewidth\": 0, \"ticks\": \"\"}, \"type\": \"mesh3d\"}], \"parcoords\": [{\"line\": {\"colorbar\": {\"outlinewidth\": 0, \"ticks\": \"\"}}, \"type\": \"parcoords\"}], \"pie\": [{\"automargin\": true, \"type\": \"pie\"}], \"scatter\": [{\"marker\": {\"colorbar\": {\"outlinewidth\": 0, \"ticks\": \"\"}}, \"type\": \"scatter\"}], \"scatter3d\": [{\"line\": {\"colorbar\": {\"outlinewidth\": 0, \"ticks\": \"\"}}, \"marker\": {\"colorbar\": {\"outlinewidth\": 0, \"ticks\": \"\"}}, \"type\": \"scatter3d\"}], \"scattercarpet\": [{\"marker\": {\"colorbar\": {\"outlinewidth\": 0, \"ticks\": \"\"}}, \"type\": \"scattercarpet\"}], \"scattergeo\": [{\"marker\": {\"colorbar\": {\"outlinewidth\": 0, \"ticks\": \"\"}}, \"type\": \"scattergeo\"}], \"scattergl\": [{\"marker\": {\"colorbar\": {\"outlinewidth\": 0, \"ticks\": \"\"}}, \"type\": \"scattergl\"}], \"scattermapbox\": [{\"marker\": {\"colorbar\": {\"outlinewidth\": 0, \"ticks\": \"\"}}, \"type\": \"scattermapbox\"}], \"scatterpolar\": [{\"marker\": {\"colorbar\": {\"outlinewidth\": 0, \"ticks\": \"\"}}, \"type\": \"scatterpolar\"}], \"scatterpolargl\": [{\"marker\": {\"colorbar\": {\"outlinewidth\": 0, \"ticks\": \"\"}}, \"type\": \"scatterpolargl\"}], \"scatterternary\": [{\"marker\": {\"colorbar\": {\"outlinewidth\": 0, \"ticks\": \"\"}}, \"type\": \"scatterternary\"}], \"surface\": [{\"colorbar\": {\"outlinewidth\": 0, \"ticks\": \"\"}, \"colorscale\": [[0.0, \"#0d0887\"], [0.1111111111111111, \"#46039f\"], [0.2222222222222222, \"#7201a8\"], [0.3333333333333333, \"#9c179e\"], [0.4444444444444444, \"#bd3786\"], [0.5555555555555556, \"#d8576b\"], [0.6666666666666666, \"#ed7953\"], [0.7777777777777778, \"#fb9f3a\"], [0.8888888888888888, \"#fdca26\"], [1.0, \"#f0f921\"]], \"type\": \"surface\"}], \"table\": [{\"cells\": {\"fill\": {\"color\": \"#EBF0F8\"}, \"line\": {\"color\": \"white\"}}, \"header\": {\"fill\": {\"color\": \"#C8D4E3\"}, \"line\": {\"color\": \"white\"}}, \"type\": \"table\"}]}, \"layout\": {\"annotationdefaults\": {\"arrowcolor\": \"#2a3f5f\", \"arrowhead\": 0, \"arrowwidth\": 1}, \"autotypenumbers\": \"strict\", \"coloraxis\": {\"colorbar\": {\"outlinewidth\": 0, \"ticks\": \"\"}}, \"colorscale\": {\"diverging\": [[0, \"#8e0152\"], [0.1, \"#c51b7d\"], [0.2, \"#de77ae\"], [0.3, \"#f1b6da\"], [0.4, \"#fde0ef\"], [0.5, \"#f7f7f7\"], [0.6, \"#e6f5d0\"], [0.7, \"#b8e186\"], [0.8, \"#7fbc41\"], [0.9, \"#4d9221\"], [1, \"#276419\"]], \"sequential\": [[0.0, \"#0d0887\"], [0.1111111111111111, \"#46039f\"], [0.2222222222222222, \"#7201a8\"], [0.3333333333333333, \"#9c179e\"], [0.4444444444444444, \"#bd3786\"], [0.5555555555555556, \"#d8576b\"], [0.6666666666666666, \"#ed7953\"], [0.7777777777777778, \"#fb9f3a\"], [0.8888888888888888, \"#fdca26\"], [1.0, \"#f0f921\"]], \"sequentialminus\": [[0.0, \"#0d0887\"], [0.1111111111111111, \"#46039f\"], [0.2222222222222222, \"#7201a8\"], [0.3333333333333333, \"#9c179e\"], [0.4444444444444444, \"#bd3786\"], [0.5555555555555556, \"#d8576b\"], [0.6666666666666666, \"#ed7953\"], [0.7777777777777778, \"#fb9f3a\"], [0.8888888888888888, \"#fdca26\"], [1.0, \"#f0f921\"]]}, \"colorway\": [\"#636efa\", \"#EF553B\", \"#00cc96\", \"#ab63fa\", \"#FFA15A\", \"#19d3f3\", \"#FF6692\", \"#B6E880\", \"#FF97FF\", \"#FECB52\"], \"font\": {\"color\": \"#2a3f5f\"}, \"geo\": {\"bgcolor\": \"white\", \"lakecolor\": \"white\", \"landcolor\": \"#E5ECF6\", \"showlakes\": true, \"showland\": true, \"subunitcolor\": \"white\"}, \"hoverlabel\": {\"align\": \"left\"}, \"hovermode\": \"closest\", \"mapbox\": {\"style\": \"light\"}, \"paper_bgcolor\": \"white\", \"plot_bgcolor\": \"#E5ECF6\", \"polar\": {\"angularaxis\": {\"gridcolor\": \"white\", \"linecolor\": \"white\", \"ticks\": \"\"}, \"bgcolor\": \"#E5ECF6\", \"radialaxis\": {\"gridcolor\": \"white\", \"linecolor\": \"white\", \"ticks\": \"\"}}, \"scene\": {\"xaxis\": {\"backgroundcolor\": \"#E5ECF6\", \"gridcolor\": \"white\", \"gridwidth\": 2, \"linecolor\": \"white\", \"showbackground\": true, \"ticks\": \"\", \"zerolinecolor\": \"white\"}, \"yaxis\": {\"backgroundcolor\": \"#E5ECF6\", \"gridcolor\": \"white\", \"gridwidth\": 2, \"linecolor\": \"white\", \"showbackground\": true, \"ticks\": \"\", \"zerolinecolor\": \"white\"}, \"zaxis\": {\"backgroundcolor\": \"#E5ECF6\", \"gridcolor\": \"white\", \"gridwidth\": 2, \"linecolor\": \"white\", \"showbackground\": true, \"ticks\": \"\", \"zerolinecolor\": \"white\"}}, \"shapedefaults\": {\"line\": {\"color\": \"#2a3f5f\"}}, \"ternary\": {\"aaxis\": {\"gridcolor\": \"white\", \"linecolor\": \"white\", \"ticks\": \"\"}, \"baxis\": {\"gridcolor\": \"white\", \"linecolor\": \"white\", \"ticks\": \"\"}, \"bgcolor\": \"#E5ECF6\", \"caxis\": {\"gridcolor\": \"white\", \"linecolor\": \"white\", \"ticks\": \"\"}}, \"title\": {\"x\": 0.05}, \"xaxis\": {\"automargin\": true, \"gridcolor\": \"white\", \"linecolor\": \"white\", \"ticks\": \"\", \"title\": {\"standoff\": 15}, \"zerolinecolor\": \"white\", \"zerolinewidth\": 2}, \"yaxis\": {\"automargin\": true, \"gridcolor\": \"white\", \"linecolor\": \"white\", \"ticks\": \"\", \"title\": {\"standoff\": 15}, \"zerolinecolor\": \"white\", \"zerolinewidth\": 2}}}, \"title\": {\"text\": \"Groupe F\\u00e9minin Actif\"}},                        {\"responsive\": true}                    ).then(function(){\n",
       "                            \n",
       "var gd = document.getElementById('bfb23437-1b23-4f77-9f32-25160b7770ee');\n",
       "var x = new MutationObserver(function (mutations, observer) {{\n",
       "        var display = window.getComputedStyle(gd).display;\n",
       "        if (!display || display === 'none') {{\n",
       "            console.log([gd, 'removed!']);\n",
       "            Plotly.purge(gd);\n",
       "            observer.disconnect();\n",
       "        }}\n",
       "}});\n",
       "\n",
       "// Listen for the removal of the full notebook cells\n",
       "var notebookContainer = gd.closest('#notebook-container');\n",
       "if (notebookContainer) {{\n",
       "    x.observe(notebookContainer, {childList: true});\n",
       "}}\n",
       "\n",
       "// Listen for the clearing of the current output cell\n",
       "var outputEl = gd.closest('.output');\n",
       "if (outputEl) {{\n",
       "    x.observe(outputEl, {childList: true});\n",
       "}}\n",
       "\n",
       "                        })                };                });            </script>        </div>"
      ]
     },
     "metadata": {},
     "output_type": "display_data"
    }
   ],
   "source": [
    "labels = ['Yes','No','Hiatus']\n",
    "values = [actif.count(), dissou.count(), suspendu.count()]\n",
    "\n",
    "fig = go.Figure(data=[go.Pie(labels=labels, values=values, hole=.3)])\n",
    "fig.update_layout(title_text='Groupe Féminin Actif')\n",
    "fig.show()"
   ]
  },
  {
   "cell_type": "code",
   "execution_count": 55,
   "metadata": {},
   "outputs": [],
   "source": [
    "df = pd.read_csv('./data/kpop_idols.csv', encoding='ISO-8859-2')"
   ]
  },
  {
   "cell_type": "code",
   "execution_count": 61,
   "metadata": {},
   "outputs": [
    {
     "name": "stderr",
     "output_type": "stream",
     "text": [
      "/opt/conda/lib/python3.8/site-packages/seaborn/_decorators.py:36: FutureWarning:\n",
      "\n",
      "Pass the following variable as a keyword arg: x. From version 0.12, the only valid positional argument will be `data`, and passing other arguments without an explicit keyword will result in an error or misinterpretation.\n",
      "\n"
     ]
    },
    {
     "data": {
      "image/png": "[encoded data removed]",
      "text/plain": [
       "<Figure size 1080x1008 with 1 Axes>"
      ]
     },
     "metadata": {
      "needs_background": "light"
     },
     "output_type": "display_data"
    }
   ],
   "source": [
    "fig = plt.figure(figsize=[15,14])\n",
    "sns.countplot(df['Country'], color=sns.xkcd_rgb['blue'])\n",
    "plt.title('Pays d origine des artistes')\n",
    "plt.show()"
   ]
  },
  {
   "cell_type": "code",
   "execution_count": 63,
   "metadata": {},
   "outputs": [],
   "source": [
    "artiste =spark.read.load(\"./data/kpop_idols.csv\", format=\"csv\", header=True, inferSchema=\"True\")"
   ]
  },
  {
   "cell_type": "code",
   "execution_count": 64,
   "metadata": {},
   "outputs": [],
   "source": [
    "femme = artiste.filter(artiste[\"Gender\"]==\"F\")\n",
    "homme = artiste.filter(artiste[\"Gender\"]==\"M\")"
   ]
  },
  {
   "cell_type": "code",
   "execution_count": 65,
   "metadata": {},
   "outputs": [
    {
     "data": {
      "application/vnd.plotly.v1+json": {
       "config": {
        "plotlyServerURL": "https://plot.ly"
       },
       "data": [
        {
         "hole": 0.3,
         "labels": [
          "Homme",
          "Femme"
         ],
         "type": "pie",
         "values": [
          676,
          634
         ]
        }
       ],
       "layout": {
        "template": {
         "data": {
          "bar": [
           {
            "error_x": {
             "color": "#2a3f5f"
            },
            "error_y": {
             "color": "#2a3f5f"
            },
            "marker": {
             "line": {
              "color": "#E5ECF6",
              "width": 0.5
             }
            },
            "type": "bar"
           }
          ],
          "barpolar": [
           {
            "marker": {
             "line": {
              "color": "#E5ECF6",
              "width": 0.5
             }
            },
            "type": "barpolar"
           }
          ],
          "carpet": [
           {
            "aaxis": {
             "endlinecolor": "#2a3f5f",
             "gridcolor": "white",
             "linecolor": "white",
             "minorgridcolor": "white",
             "startlinecolor": "#2a3f5f"
            },
            "baxis": {
             "endlinecolor": "#2a3f5f",
             "gridcolor": "white",
             "linecolor": "white",
             "minorgridcolor": "white",
             "startlinecolor": "#2a3f5f"
            },
            "type": "carpet"
           }
          ],
          "choropleth": [
           {
            "colorbar": {
             "outlinewidth": 0,
             "ticks": ""
            },
            "type": "choropleth"
           }
          ],
          "contour": [
           {
            "colorbar": {
             "outlinewidth": 0,
             "ticks": ""
            },
            "colorscale": [
             [
              0,
              "#0d0887"
             ],
             [
              0.1111111111111111,
              "#46039f"
             ],
             [
              0.2222222222222222,
              "#7201a8"
             ],
             [
              0.3333333333333333,
              "#9c179e"
             ],
             [
              0.4444444444444444,
              "#bd3786"
             ],
             [
              0.5555555555555556,
              "#d8576b"
             ],
             [
              0.6666666666666666,
              "#ed7953"
             ],
             [
              0.7777777777777778,
              "#fb9f3a"
             ],
             [
              0.8888888888888888,
              "#fdca26"
             ],
             [
              1,
              "#f0f921"
             ]
            ],
            "type": "contour"
           }
          ],
          "contourcarpet": [
           {
            "colorbar": {
             "outlinewidth": 0,
             "ticks": ""
            },
            "type": "contourcarpet"
           }
          ],
          "heatmap": [
           {
            "colorbar": {
             "outlinewidth": 0,
             "ticks": ""
            },
            "colorscale": [
             [
              0,
              "#0d0887"
             ],
             [
              0.1111111111111111,
              "#46039f"
             ],
             [
              0.2222222222222222,
              "#7201a8"
             ],
             [
              0.3333333333333333,
              "#9c179e"
             ],
             [
              0.4444444444444444,
              "#bd3786"
             ],
             [
              0.5555555555555556,
              "#d8576b"
             ],
             [
              0.6666666666666666,
              "#ed7953"
             ],
             [
              0.7777777777777778,
              "#fb9f3a"
             ],
             [
              0.8888888888888888,
              "#fdca26"
             ],
             [
              1,
              "#f0f921"
             ]
            ],
            "type": "heatmap"
           }
          ],
          "heatmapgl": [
           {
            "colorbar": {
             "outlinewidth": 0,
             "ticks": ""
            },
            "colorscale": [
             [
              0,
              "#0d0887"
             ],
             [
              0.1111111111111111,
              "#46039f"
             ],
             [
              0.2222222222222222,
              "#7201a8"
             ],
             [
              0.3333333333333333,
              "#9c179e"
             ],
             [
              0.4444444444444444,
              "#bd3786"
             ],
             [
              0.5555555555555556,
              "#d8576b"
             ],
             [
              0.6666666666666666,
              "#ed7953"
             ],
             [
              0.7777777777777778,
              "#fb9f3a"
             ],
             [
              0.8888888888888888,
              "#fdca26"
             ],
             [
              1,
              "#f0f921"
             ]
            ],
            "type": "heatmapgl"
           }
          ],
          "histogram": [
           {
            "marker": {
             "colorbar": {
              "outlinewidth": 0,
              "ticks": ""
             }
            },
            "type": "histogram"
           }
          ],
          "histogram2d": [
           {
            "colorbar": {
             "outlinewidth": 0,
             "ticks": ""
            },
            "colorscale": [
             [
              0,
              "#0d0887"
             ],
             [
              0.1111111111111111,
              "#46039f"
             ],
             [
              0.2222222222222222,
              "#7201a8"
             ],
             [
              0.3333333333333333,
              "#9c179e"
             ],
             [
              0.4444444444444444,
              "#bd3786"
             ],
             [
              0.5555555555555556,
              "#d8576b"
             ],
             [
              0.6666666666666666,
              "#ed7953"
             ],
             [
              0.7777777777777778,
              "#fb9f3a"
             ],
             [
              0.8888888888888888,
              "#fdca26"
             ],
             [
              1,
              "#f0f921"
             ]
            ],
            "type": "histogram2d"
           }
          ],
          "histogram2dcontour": [
           {
            "colorbar": {
             "outlinewidth": 0,
             "ticks": ""
            },
            "colorscale": [
             [
              0,
              "#0d0887"
             ],
             [
              0.1111111111111111,
              "#46039f"
             ],
             [
              0.2222222222222222,
              "#7201a8"
             ],
             [
              0.3333333333333333,
              "#9c179e"
             ],
             [
              0.4444444444444444,
              "#bd3786"
             ],
             [
              0.5555555555555556,
              "#d8576b"
             ],
             [
              0.6666666666666666,
              "#ed7953"
             ],
             [
              0.7777777777777778,
              "#fb9f3a"
             ],
             [
              0.8888888888888888,
              "#fdca26"
             ],
             [
              1,
              "#f0f921"
             ]
            ],
            "type": "histogram2dcontour"
           }
          ],
          "mesh3d": [
           {
            "colorbar": {
             "outlinewidth": 0,
             "ticks": ""
            },
            "type": "mesh3d"
           }
          ],
          "parcoords": [
           {
            "line": {
             "colorbar": {
              "outlinewidth": 0,
              "ticks": ""
             }
            },
            "type": "parcoords"
           }
          ],
          "pie": [
           {
            "automargin": true,
            "type": "pie"
           }
          ],
          "scatter": [
           {
            "marker": {
             "colorbar": {
              "outlinewidth": 0,
              "ticks": ""
             }
            },
            "type": "scatter"
           }
          ],
          "scatter3d": [
           {
            "line": {
             "colorbar": {
              "outlinewidth": 0,
              "ticks": ""
             }
            },
            "marker": {
             "colorbar": {
              "outlinewidth": 0,
              "ticks": ""
             }
            },
            "type": "scatter3d"
           }
          ],
          "scattercarpet": [
           {
            "marker": {
             "colorbar": {
              "outlinewidth": 0,
              "ticks": ""
             }
            },
            "type": "scattercarpet"
           }
          ],
          "scattergeo": [
           {
            "marker": {
             "colorbar": {
              "outlinewidth": 0,
              "ticks": ""
             }
            },
            "type": "scattergeo"
           }
          ],
          "scattergl": [
           {
            "marker": {
             "colorbar": {
              "outlinewidth": 0,
              "ticks": ""
             }
            },
            "type": "scattergl"
           }
          ],
          "scattermapbox": [
           {
            "marker": {
             "colorbar": {
              "outlinewidth": 0,
              "ticks": ""
             }
            },
            "type": "scattermapbox"
           }
          ],
          "scatterpolar": [
           {
            "marker": {
             "colorbar": {
              "outlinewidth": 0,
              "ticks": ""
             }
            },
            "type": "scatterpolar"
           }
          ],
          "scatterpolargl": [
           {
            "marker": {
             "colorbar": {
              "outlinewidth": 0,
              "ticks": ""
             }
            },
            "type": "scatterpolargl"
           }
          ],
          "scatterternary": [
           {
            "marker": {
             "colorbar": {
              "outlinewidth": 0,
              "ticks": ""
             }
            },
            "type": "scatterternary"
           }
          ],
          "surface": [
           {
            "colorbar": {
             "outlinewidth": 0,
             "ticks": ""
            },
            "colorscale": [
             [
              0,
              "#0d0887"
             ],
             [
              0.1111111111111111,
              "#46039f"
             ],
             [
              0.2222222222222222,
              "#7201a8"
             ],
             [
              0.3333333333333333,
              "#9c179e"
             ],
             [
              0.4444444444444444,
              "#bd3786"
             ],
             [
              0.5555555555555556,
              "#d8576b"
             ],
             [
              0.6666666666666666,
              "#ed7953"
             ],
             [
              0.7777777777777778,
              "#fb9f3a"
             ],
             [
              0.8888888888888888,
              "#fdca26"
             ],
             [
              1,
              "#f0f921"
             ]
            ],
            "type": "surface"
           }
          ],
          "table": [
           {
            "cells": {
             "fill": {
              "color": "#EBF0F8"
             },
             "line": {
              "color": "white"
             }
            },
            "header": {
             "fill": {
              "color": "#C8D4E3"
             },
             "line": {
              "color": "white"
             }
            },
            "type": "table"
           }
          ]
         },
         "layout": {
          "annotationdefaults": {
           "arrowcolor": "#2a3f5f",
           "arrowhead": 0,
           "arrowwidth": 1
          },
          "autotypenumbers": "strict",
          "coloraxis": {
           "colorbar": {
            "outlinewidth": 0,
            "ticks": ""
           }
          },
          "colorscale": {
           "diverging": [
            [
             0,
             "#8e0152"
            ],
            [
             0.1,
             "#c51b7d"
            ],
            [
             0.2,
             "#de77ae"
            ],
            [
             0.3,
             "#f1b6da"
            ],
            [
             0.4,
             "#fde0ef"
            ],
            [
             0.5,
             "#f7f7f7"
            ],
            [
             0.6,
             "#e6f5d0"
            ],
            [
             0.7,
             "#b8e186"
            ],
            [
             0.8,
             "#7fbc41"
            ],
            [
             0.9,
             "#4d9221"
            ],
            [
             1,
             "#276419"
            ]
           ],
           "sequential": [
            [
             0,
             "#0d0887"
            ],
            [
             0.1111111111111111,
             "#46039f"
            ],
            [
             0.2222222222222222,
             "#7201a8"
            ],
            [
             0.3333333333333333,
             "#9c179e"
            ],
            [
             0.4444444444444444,
             "#bd3786"
            ],
            [
             0.5555555555555556,
             "#d8576b"
            ],
            [
             0.6666666666666666,
             "#ed7953"
            ],
            [
             0.7777777777777778,
             "#fb9f3a"
            ],
            [
             0.8888888888888888,
             "#fdca26"
            ],
            [
             1,
             "#f0f921"
            ]
           ],
           "sequentialminus": [
            [
             0,
             "#0d0887"
            ],
            [
             0.1111111111111111,
             "#46039f"
            ],
            [
             0.2222222222222222,
             "#7201a8"
            ],
            [
             0.3333333333333333,
             "#9c179e"
            ],
            [
             0.4444444444444444,
             "#bd3786"
            ],
            [
             0.5555555555555556,
             "#d8576b"
            ],
            [
             0.6666666666666666,
             "#ed7953"
            ],
            [
             0.7777777777777778,
             "#fb9f3a"
            ],
            [
             0.8888888888888888,
             "#fdca26"
            ],
            [
             1,
             "#f0f921"
            ]
           ]
          },
          "colorway": [
           "#636efa",
           "#EF553B",
           "#00cc96",
           "#ab63fa",
           "#FFA15A",
           "#19d3f3",
           "#FF6692",
           "#B6E880",
           "#FF97FF",
           "#FECB52"
          ],
          "font": {
           "color": "#2a3f5f"
          },
          "geo": {
           "bgcolor": "white",
           "lakecolor": "white",
           "landcolor": "#E5ECF6",
           "showlakes": true,
           "showland": true,
           "subunitcolor": "white"
          },
          "hoverlabel": {
           "align": "left"
          },
          "hovermode": "closest",
          "mapbox": {
           "style": "light"
          },
          "paper_bgcolor": "white",
          "plot_bgcolor": "#E5ECF6",
          "polar": {
           "angularaxis": {
            "gridcolor": "white",
            "linecolor": "white",
            "ticks": ""
           },
           "bgcolor": "#E5ECF6",
           "radialaxis": {
            "gridcolor": "white",
            "linecolor": "white",
            "ticks": ""
           }
          },
          "scene": {
           "xaxis": {
            "backgroundcolor": "#E5ECF6",
            "gridcolor": "white",
            "gridwidth": 2,
            "linecolor": "white",
            "showbackground": true,
            "ticks": "",
            "zerolinecolor": "white"
           },
           "yaxis": {
            "backgroundcolor": "#E5ECF6",
            "gridcolor": "white",
            "gridwidth": 2,
            "linecolor": "white",
            "showbackground": true,
            "ticks": "",
            "zerolinecolor": "white"
           },
           "zaxis": {
            "backgroundcolor": "#E5ECF6",
            "gridcolor": "white",
            "gridwidth": 2,
            "linecolor": "white",
            "showbackground": true,
            "ticks": "",
            "zerolinecolor": "white"
           }
          },
          "shapedefaults": {
           "line": {
            "color": "#2a3f5f"
           }
          },
          "ternary": {
           "aaxis": {
            "gridcolor": "white",
            "linecolor": "white",
            "ticks": ""
           },
           "baxis": {
            "gridcolor": "white",
            "linecolor": "white",
            "ticks": ""
           },
           "bgcolor": "#E5ECF6",
           "caxis": {
            "gridcolor": "white",
            "linecolor": "white",
            "ticks": ""
           }
          },
          "title": {
           "x": 0.05
          },
          "xaxis": {
           "automargin": true,
           "gridcolor": "white",
           "linecolor": "white",
           "ticks": "",
           "title": {
            "standoff": 15
           },
           "zerolinecolor": "white",
           "zerolinewidth": 2
          },
          "yaxis": {
           "automargin": true,
           "gridcolor": "white",
           "linecolor": "white",
           "ticks": "",
           "title": {
            "standoff": 15
           },
           "zerolinecolor": "white",
           "zerolinewidth": 2
          }
         }
        },
        "title": {
         "text": "Répartition des genres des artistes"
        }
       }
      },
      "text/html": [
       "<div>                            <div id=\"e387bc8c-551d-4ade-9586-3f3d7eaf614f\" class=\"plotly-graph-div\" style=\"height:525px; width:100%;\"></div>            <script type=\"text/javascript\">                require([\"plotly\"], function(Plotly) {                    window.PLOTLYENV=window.PLOTLYENV || {};                                    if (document.getElementById(\"e387bc8c-551d-4ade-9586-3f3d7eaf614f\")) {                    Plotly.newPlot(                        \"e387bc8c-551d-4ade-9586-3f3d7eaf614f\",                        [{\"hole\": 0.3, \"labels\": [\"Homme\", \"Femme\"], \"type\": \"pie\", \"values\": [676, 634]}],                        {\"template\": {\"data\": {\"bar\": [{\"error_x\": {\"color\": \"#2a3f5f\"}, \"error_y\": {\"color\": \"#2a3f5f\"}, \"marker\": {\"line\": {\"color\": \"#E5ECF6\", \"width\": 0.5}}, \"type\": \"bar\"}], \"barpolar\": [{\"marker\": {\"line\": {\"color\": \"#E5ECF6\", \"width\": 0.5}}, \"type\": \"barpolar\"}], \"carpet\": [{\"aaxis\": {\"endlinecolor\": \"#2a3f5f\", \"gridcolor\": \"white\", \"linecolor\": \"white\", \"minorgridcolor\": \"white\", \"startlinecolor\": \"#2a3f5f\"}, \"baxis\": {\"endlinecolor\": \"#2a3f5f\", \"gridcolor\": \"white\", \"linecolor\": \"white\", \"minorgridcolor\": \"white\", \"startlinecolor\": \"#2a3f5f\"}, \"type\": \"carpet\"}], \"choropleth\": [{\"colorbar\": {\"outlinewidth\": 0, \"ticks\": \"\"}, \"type\": \"choropleth\"}], \"contour\": [{\"colorbar\": {\"outlinewidth\": 0, \"ticks\": \"\"}, \"colorscale\": [[0.0, \"#0d0887\"], [0.1111111111111111, \"#46039f\"], [0.2222222222222222, \"#7201a8\"], [0.3333333333333333, \"#9c179e\"], [0.4444444444444444, \"#bd3786\"], [0.5555555555555556, \"#d8576b\"], [0.6666666666666666, \"#ed7953\"], [0.7777777777777778, \"#fb9f3a\"], [0.8888888888888888, \"#fdca26\"], [1.0, \"#f0f921\"]], \"type\": \"contour\"}], \"contourcarpet\": [{\"colorbar\": {\"outlinewidth\": 0, \"ticks\": \"\"}, \"type\": \"contourcarpet\"}], \"heatmap\": [{\"colorbar\": {\"outlinewidth\": 0, \"ticks\": \"\"}, \"colorscale\": [[0.0, \"#0d0887\"], [0.1111111111111111, \"#46039f\"], [0.2222222222222222, \"#7201a8\"], [0.3333333333333333, \"#9c179e\"], [0.4444444444444444, \"#bd3786\"], [0.5555555555555556, \"#d8576b\"], [0.6666666666666666, \"#ed7953\"], [0.7777777777777778, \"#fb9f3a\"], [0.8888888888888888, \"#fdca26\"], [1.0, \"#f0f921\"]], \"type\": \"heatmap\"}], \"heatmapgl\": [{\"colorbar\": {\"outlinewidth\": 0, \"ticks\": \"\"}, \"colorscale\": [[0.0, \"#0d0887\"], [0.1111111111111111, \"#46039f\"], [0.2222222222222222, \"#7201a8\"], [0.3333333333333333, \"#9c179e\"], [0.4444444444444444, \"#bd3786\"], [0.5555555555555556, \"#d8576b\"], [0.6666666666666666, \"#ed7953\"], [0.7777777777777778, \"#fb9f3a\"], [0.8888888888888888, \"#fdca26\"], [1.0, \"#f0f921\"]], \"type\": \"heatmapgl\"}], \"histogram\": [{\"marker\": {\"colorbar\": {\"outlinewidth\": 0, \"ticks\": \"\"}}, \"type\": \"histogram\"}], \"histogram2d\": [{\"colorbar\": {\"outlinewidth\": 0, \"ticks\": \"\"}, \"colorscale\": [[0.0, \"#0d0887\"], [0.1111111111111111, \"#46039f\"], [0.2222222222222222, \"#7201a8\"], [0.3333333333333333, \"#9c179e\"], [0.4444444444444444, \"#bd3786\"], [0.5555555555555556, \"#d8576b\"], [0.6666666666666666, \"#ed7953\"], [0.7777777777777778, \"#fb9f3a\"], [0.8888888888888888, \"#fdca26\"], [1.0, \"#f0f921\"]], \"type\": \"histogram2d\"}], \"histogram2dcontour\": [{\"colorbar\": {\"outlinewidth\": 0, \"ticks\": \"\"}, \"colorscale\": [[0.0, \"#0d0887\"], [0.1111111111111111, \"#46039f\"], [0.2222222222222222, \"#7201a8\"], [0.3333333333333333, \"#9c179e\"], [0.4444444444444444, \"#bd3786\"], [0.5555555555555556, \"#d8576b\"], [0.6666666666666666, \"#ed7953\"], [0.7777777777777778, \"#fb9f3a\"], [0.8888888888888888, \"#fdca26\"], [1.0, \"#f0f921\"]], \"type\": \"histogram2dcontour\"}], \"mesh3d\": [{\"colorbar\": {\"outlinewidth\": 0, \"ticks\": \"\"}, \"type\": \"mesh3d\"}], \"parcoords\": [{\"line\": {\"colorbar\": {\"outlinewidth\": 0, \"ticks\": \"\"}}, \"type\": \"parcoords\"}], \"pie\": [{\"automargin\": true, \"type\": \"pie\"}], \"scatter\": [{\"marker\": {\"colorbar\": {\"outlinewidth\": 0, \"ticks\": \"\"}}, \"type\": \"scatter\"}], \"scatter3d\": [{\"line\": {\"colorbar\": {\"outlinewidth\": 0, \"ticks\": \"\"}}, \"marker\": {\"colorbar\": {\"outlinewidth\": 0, \"ticks\": \"\"}}, \"type\": \"scatter3d\"}], \"scattercarpet\": [{\"marker\": {\"colorbar\": {\"outlinewidth\": 0, \"ticks\": \"\"}}, \"type\": \"scattercarpet\"}], \"scattergeo\": [{\"marker\": {\"colorbar\": {\"outlinewidth\": 0, \"ticks\": \"\"}}, \"type\": \"scattergeo\"}], \"scattergl\": [{\"marker\": {\"colorbar\": {\"outlinewidth\": 0, \"ticks\": \"\"}}, \"type\": \"scattergl\"}], \"scattermapbox\": [{\"marker\": {\"colorbar\": {\"outlinewidth\": 0, \"ticks\": \"\"}}, \"type\": \"scattermapbox\"}], \"scatterpolar\": [{\"marker\": {\"colorbar\": {\"outlinewidth\": 0, \"ticks\": \"\"}}, \"type\": \"scatterpolar\"}], \"scatterpolargl\": [{\"marker\": {\"colorbar\": {\"outlinewidth\": 0, \"ticks\": \"\"}}, \"type\": \"scatterpolargl\"}], \"scatterternary\": [{\"marker\": {\"colorbar\": {\"outlinewidth\": 0, \"ticks\": \"\"}}, \"type\": \"scatterternary\"}], \"surface\": [{\"colorbar\": {\"outlinewidth\": 0, \"ticks\": \"\"}, \"colorscale\": [[0.0, \"#0d0887\"], [0.1111111111111111, \"#46039f\"], [0.2222222222222222, \"#7201a8\"], [0.3333333333333333, \"#9c179e\"], [0.4444444444444444, \"#bd3786\"], [0.5555555555555556, \"#d8576b\"], [0.6666666666666666, \"#ed7953\"], [0.7777777777777778, \"#fb9f3a\"], [0.8888888888888888, \"#fdca26\"], [1.0, \"#f0f921\"]], \"type\": \"surface\"}], \"table\": [{\"cells\": {\"fill\": {\"color\": \"#EBF0F8\"}, \"line\": {\"color\": \"white\"}}, \"header\": {\"fill\": {\"color\": \"#C8D4E3\"}, \"line\": {\"color\": \"white\"}}, \"type\": \"table\"}]}, \"layout\": {\"annotationdefaults\": {\"arrowcolor\": \"#2a3f5f\", \"arrowhead\": 0, \"arrowwidth\": 1}, \"autotypenumbers\": \"strict\", \"coloraxis\": {\"colorbar\": {\"outlinewidth\": 0, \"ticks\": \"\"}}, \"colorscale\": {\"diverging\": [[0, \"#8e0152\"], [0.1, \"#c51b7d\"], [0.2, \"#de77ae\"], [0.3, \"#f1b6da\"], [0.4, \"#fde0ef\"], [0.5, \"#f7f7f7\"], [0.6, \"#e6f5d0\"], [0.7, \"#b8e186\"], [0.8, \"#7fbc41\"], [0.9, \"#4d9221\"], [1, \"#276419\"]], \"sequential\": [[0.0, \"#0d0887\"], [0.1111111111111111, \"#46039f\"], [0.2222222222222222, \"#7201a8\"], [0.3333333333333333, \"#9c179e\"], [0.4444444444444444, \"#bd3786\"], [0.5555555555555556, \"#d8576b\"], [0.6666666666666666, \"#ed7953\"], [0.7777777777777778, \"#fb9f3a\"], [0.8888888888888888, \"#fdca26\"], [1.0, \"#f0f921\"]], \"sequentialminus\": [[0.0, \"#0d0887\"], [0.1111111111111111, \"#46039f\"], [0.2222222222222222, \"#7201a8\"], [0.3333333333333333, \"#9c179e\"], [0.4444444444444444, \"#bd3786\"], [0.5555555555555556, \"#d8576b\"], [0.6666666666666666, \"#ed7953\"], [0.7777777777777778, \"#fb9f3a\"], [0.8888888888888888, \"#fdca26\"], [1.0, \"#f0f921\"]]}, \"colorway\": [\"#636efa\", \"#EF553B\", \"#00cc96\", \"#ab63fa\", \"#FFA15A\", \"#19d3f3\", \"#FF6692\", \"#B6E880\", \"#FF97FF\", \"#FECB52\"], \"font\": {\"color\": \"#2a3f5f\"}, \"geo\": {\"bgcolor\": \"white\", \"lakecolor\": \"white\", \"landcolor\": \"#E5ECF6\", \"showlakes\": true, \"showland\": true, \"subunitcolor\": \"white\"}, \"hoverlabel\": {\"align\": \"left\"}, \"hovermode\": \"closest\", \"mapbox\": {\"style\": \"light\"}, \"paper_bgcolor\": \"white\", \"plot_bgcolor\": \"#E5ECF6\", \"polar\": {\"angularaxis\": {\"gridcolor\": \"white\", \"linecolor\": \"white\", \"ticks\": \"\"}, \"bgcolor\": \"#E5ECF6\", \"radialaxis\": {\"gridcolor\": \"white\", \"linecolor\": \"white\", \"ticks\": \"\"}}, \"scene\": {\"xaxis\": {\"backgroundcolor\": \"#E5ECF6\", \"gridcolor\": \"white\", \"gridwidth\": 2, \"linecolor\": \"white\", \"showbackground\": true, \"ticks\": \"\", \"zerolinecolor\": \"white\"}, \"yaxis\": {\"backgroundcolor\": \"#E5ECF6\", \"gridcolor\": \"white\", \"gridwidth\": 2, \"linecolor\": \"white\", \"showbackground\": true, \"ticks\": \"\", \"zerolinecolor\": \"white\"}, \"zaxis\": {\"backgroundcolor\": \"#E5ECF6\", \"gridcolor\": \"white\", \"gridwidth\": 2, \"linecolor\": \"white\", \"showbackground\": true, \"ticks\": \"\", \"zerolinecolor\": \"white\"}}, \"shapedefaults\": {\"line\": {\"color\": \"#2a3f5f\"}}, \"ternary\": {\"aaxis\": {\"gridcolor\": \"white\", \"linecolor\": \"white\", \"ticks\": \"\"}, \"baxis\": {\"gridcolor\": \"white\", \"linecolor\": \"white\", \"ticks\": \"\"}, \"bgcolor\": \"#E5ECF6\", \"caxis\": {\"gridcolor\": \"white\", \"linecolor\": \"white\", \"ticks\": \"\"}}, \"title\": {\"x\": 0.05}, \"xaxis\": {\"automargin\": true, \"gridcolor\": \"white\", \"linecolor\": \"white\", \"ticks\": \"\", \"title\": {\"standoff\": 15}, \"zerolinecolor\": \"white\", \"zerolinewidth\": 2}, \"yaxis\": {\"automargin\": true, \"gridcolor\": \"white\", \"linecolor\": \"white\", \"ticks\": \"\", \"title\": {\"standoff\": 15}, \"zerolinecolor\": \"white\", \"zerolinewidth\": 2}}}, \"title\": {\"text\": \"R\\u00e9partition des genres des artistes\"}},                        {\"responsive\": true}                    ).then(function(){\n",
       "                            \n",
       "var gd = document.getElementById('e387bc8c-551d-4ade-9586-3f3d7eaf614f');\n",
       "var x = new MutationObserver(function (mutations, observer) {{\n",
       "        var display = window.getComputedStyle(gd).display;\n",
       "        if (!display || display === 'none') {{\n",
       "            console.log([gd, 'removed!']);\n",
       "            Plotly.purge(gd);\n",
       "            observer.disconnect();\n",
       "        }}\n",
       "}});\n",
       "\n",
       "// Listen for the removal of the full notebook cells\n",
       "var notebookContainer = gd.closest('#notebook-container');\n",
       "if (notebookContainer) {{\n",
       "    x.observe(notebookContainer, {childList: true});\n",
       "}}\n",
       "\n",
       "// Listen for the clearing of the current output cell\n",
       "var outputEl = gd.closest('.output');\n",
       "if (outputEl) {{\n",
       "    x.observe(outputEl, {childList: true});\n",
       "}}\n",
       "\n",
       "                        })                };                });            </script>        </div>"
      ]
     },
     "metadata": {},
     "output_type": "display_data"
    }
   ],
   "source": [
    "labels = ['Homme','Femme']\n",
    "values = [homme.count(), femme.count()]\n",
    "\n",
    "fig = go.Figure(data=[go.Pie(labels=labels, values=values, hole=.3)])\n",
    "fig.update_layout(title_text='Répartition des genres des artistes')\n",
    "fig.show()"
   ]
  },
  {
   "cell_type": "code",
   "execution_count": 73,
   "metadata": {},
   "outputs": [],
   "source": [
    "music_videos =spark.read.load(\"./data/kpop_music_videos.csv\", format=\"csv\", header=True, inferSchema=\"True\")"
   ]
  },
  {
   "cell_type": "code",
   "execution_count": 84,
   "metadata": {},
   "outputs": [],
   "source": [
    "boy_solo_major = music_videos.filter((music_videos[\"Type\"]==\"Boy Solo\") & (music_videos[\"Release\"]==\"Major\"))\n",
    "girl_solo_major = music_videos.filter((music_videos[\"Type\"]==\"Girl Solo\") & (music_videos[\"Release\"]==\"Major\"))\n",
    "boy_major = music_videos.filter((music_videos[\"Type\"]==\"Boy\") & (music_videos[\"Release\"]==\"Major\"))\n",
    "girl_major = music_videos.filter((music_videos[\"Type\"]==\"Girl\") & (music_videos[\"Release\"]==\"Major\"))"
   ]
  },
  {
   "cell_type": "code",
   "execution_count": 85,
   "metadata": {},
   "outputs": [
    {
     "data": {
      "application/vnd.plotly.v1+json": {
       "config": {
        "plotlyServerURL": "https://plot.ly"
       },
       "data": [
        {
         "hole": 0.3,
         "labels": [
          "Boy Solo Major",
          "Girl Solo Major",
          "Boy Group Major",
          "Girl Group Major"
         ],
         "type": "pie",
         "values": [
          108,
          165,
          1382,
          1027
         ]
        }
       ],
       "layout": {
        "template": {
         "data": {
          "bar": [
           {
            "error_x": {
             "color": "#2a3f5f"
            },
            "error_y": {
             "color": "#2a3f5f"
            },
            "marker": {
             "line": {
              "color": "#E5ECF6",
              "width": 0.5
             }
            },
            "type": "bar"
           }
          ],
          "barpolar": [
           {
            "marker": {
             "line": {
              "color": "#E5ECF6",
              "width": 0.5
             }
            },
            "type": "barpolar"
           }
          ],
          "carpet": [
           {
            "aaxis": {
             "endlinecolor": "#2a3f5f",
             "gridcolor": "white",
             "linecolor": "white",
             "minorgridcolor": "white",
             "startlinecolor": "#2a3f5f"
            },
            "baxis": {
             "endlinecolor": "#2a3f5f",
             "gridcolor": "white",
             "linecolor": "white",
             "minorgridcolor": "white",
             "startlinecolor": "#2a3f5f"
            },
            "type": "carpet"
           }
          ],
          "choropleth": [
           {
            "colorbar": {
             "outlinewidth": 0,
             "ticks": ""
            },
            "type": "choropleth"
           }
          ],
          "contour": [
           {
            "colorbar": {
             "outlinewidth": 0,
             "ticks": ""
            },
            "colorscale": [
             [
              0,
              "#0d0887"
             ],
             [
              0.1111111111111111,
              "#46039f"
             ],
             [
              0.2222222222222222,
              "#7201a8"
             ],
             [
              0.3333333333333333,
              "#9c179e"
             ],
             [
              0.4444444444444444,
              "#bd3786"
             ],
             [
              0.5555555555555556,
              "#d8576b"
             ],
             [
              0.6666666666666666,
              "#ed7953"
             ],
             [
              0.7777777777777778,
              "#fb9f3a"
             ],
             [
              0.8888888888888888,
              "#fdca26"
             ],
             [
              1,
              "#f0f921"
             ]
            ],
            "type": "contour"
           }
          ],
          "contourcarpet": [
           {
            "colorbar": {
             "outlinewidth": 0,
             "ticks": ""
            },
            "type": "contourcarpet"
           }
          ],
          "heatmap": [
           {
            "colorbar": {
             "outlinewidth": 0,
             "ticks": ""
            },
            "colorscale": [
             [
              0,
              "#0d0887"
             ],
             [
              0.1111111111111111,
              "#46039f"
             ],
             [
              0.2222222222222222,
              "#7201a8"
             ],
             [
              0.3333333333333333,
              "#9c179e"
             ],
             [
              0.4444444444444444,
              "#bd3786"
             ],
             [
              0.5555555555555556,
              "#d8576b"
             ],
             [
              0.6666666666666666,
              "#ed7953"
             ],
             [
              0.7777777777777778,
              "#fb9f3a"
             ],
             [
              0.8888888888888888,
              "#fdca26"
             ],
             [
              1,
              "#f0f921"
             ]
            ],
            "type": "heatmap"
           }
          ],
          "heatmapgl": [
           {
            "colorbar": {
             "outlinewidth": 0,
             "ticks": ""
            },
            "colorscale": [
             [
              0,
              "#0d0887"
             ],
             [
              0.1111111111111111,
              "#46039f"
             ],
             [
              0.2222222222222222,
              "#7201a8"
             ],
             [
              0.3333333333333333,
              "#9c179e"
             ],
             [
              0.4444444444444444,
              "#bd3786"
             ],
             [
              0.5555555555555556,
              "#d8576b"
             ],
             [
              0.6666666666666666,
              "#ed7953"
             ],
             [
              0.7777777777777778,
              "#fb9f3a"
             ],
             [
              0.8888888888888888,
              "#fdca26"
             ],
             [
              1,
              "#f0f921"
             ]
            ],
            "type": "heatmapgl"
           }
          ],
          "histogram": [
           {
            "marker": {
             "colorbar": {
              "outlinewidth": 0,
              "ticks": ""
             }
            },
            "type": "histogram"
           }
          ],
          "histogram2d": [
           {
            "colorbar": {
             "outlinewidth": 0,
             "ticks": ""
            },
            "colorscale": [
             [
              0,
              "#0d0887"
             ],
             [
              0.1111111111111111,
              "#46039f"
             ],
             [
              0.2222222222222222,
              "#7201a8"
             ],
             [
              0.3333333333333333,
              "#9c179e"
             ],
             [
              0.4444444444444444,
              "#bd3786"
             ],
             [
              0.5555555555555556,
              "#d8576b"
             ],
             [
              0.6666666666666666,
              "#ed7953"
             ],
             [
              0.7777777777777778,
              "#fb9f3a"
             ],
             [
              0.8888888888888888,
              "#fdca26"
             ],
             [
              1,
              "#f0f921"
             ]
            ],
            "type": "histogram2d"
           }
          ],
          "histogram2dcontour": [
           {
            "colorbar": {
             "outlinewidth": 0,
             "ticks": ""
            },
            "colorscale": [
             [
              0,
              "#0d0887"
             ],
             [
              0.1111111111111111,
              "#46039f"
             ],
             [
              0.2222222222222222,
              "#7201a8"
             ],
             [
              0.3333333333333333,
              "#9c179e"
             ],
             [
              0.4444444444444444,
              "#bd3786"
             ],
             [
              0.5555555555555556,
              "#d8576b"
             ],
             [
              0.6666666666666666,
              "#ed7953"
             ],
             [
              0.7777777777777778,
              "#fb9f3a"
             ],
             [
              0.8888888888888888,
              "#fdca26"
             ],
             [
              1,
              "#f0f921"
             ]
            ],
            "type": "histogram2dcontour"
           }
          ],
          "mesh3d": [
           {
            "colorbar": {
             "outlinewidth": 0,
             "ticks": ""
            },
            "type": "mesh3d"
           }
          ],
          "parcoords": [
           {
            "line": {
             "colorbar": {
              "outlinewidth": 0,
              "ticks": ""
             }
            },
            "type": "parcoords"
           }
          ],
          "pie": [
           {
            "automargin": true,
            "type": "pie"
           }
          ],
          "scatter": [
           {
            "marker": {
             "colorbar": {
              "outlinewidth": 0,
              "ticks": ""
             }
            },
            "type": "scatter"
           }
          ],
          "scatter3d": [
           {
            "line": {
             "colorbar": {
              "outlinewidth": 0,
              "ticks": ""
             }
            },
            "marker": {
             "colorbar": {
              "outlinewidth": 0,
              "ticks": ""
             }
            },
            "type": "scatter3d"
           }
          ],
          "scattercarpet": [
           {
            "marker": {
             "colorbar": {
              "outlinewidth": 0,
              "ticks": ""
             }
            },
            "type": "scattercarpet"
           }
          ],
          "scattergeo": [
           {
            "marker": {
             "colorbar": {
              "outlinewidth": 0,
              "ticks": ""
             }
            },
            "type": "scattergeo"
           }
          ],
          "scattergl": [
           {
            "marker": {
             "colorbar": {
              "outlinewidth": 0,
              "ticks": ""
             }
            },
            "type": "scattergl"
           }
          ],
          "scattermapbox": [
           {
            "marker": {
             "colorbar": {
              "outlinewidth": 0,
              "ticks": ""
             }
            },
            "type": "scattermapbox"
           }
          ],
          "scatterpolar": [
           {
            "marker": {
             "colorbar": {
              "outlinewidth": 0,
              "ticks": ""
             }
            },
            "type": "scatterpolar"
           }
          ],
          "scatterpolargl": [
           {
            "marker": {
             "colorbar": {
              "outlinewidth": 0,
              "ticks": ""
             }
            },
            "type": "scatterpolargl"
           }
          ],
          "scatterternary": [
           {
            "marker": {
             "colorbar": {
              "outlinewidth": 0,
              "ticks": ""
             }
            },
            "type": "scatterternary"
           }
          ],
          "surface": [
           {
            "colorbar": {
             "outlinewidth": 0,
             "ticks": ""
            },
            "colorscale": [
             [
              0,
              "#0d0887"
             ],
             [
              0.1111111111111111,
              "#46039f"
             ],
             [
              0.2222222222222222,
              "#7201a8"
             ],
             [
              0.3333333333333333,
              "#9c179e"
             ],
             [
              0.4444444444444444,
              "#bd3786"
             ],
             [
              0.5555555555555556,
              "#d8576b"
             ],
             [
              0.6666666666666666,
              "#ed7953"
             ],
             [
              0.7777777777777778,
              "#fb9f3a"
             ],
             [
              0.8888888888888888,
              "#fdca26"
             ],
             [
              1,
              "#f0f921"
             ]
            ],
            "type": "surface"
           }
          ],
          "table": [
           {
            "cells": {
             "fill": {
              "color": "#EBF0F8"
             },
             "line": {
              "color": "white"
             }
            },
            "header": {
             "fill": {
              "color": "#C8D4E3"
             },
             "line": {
              "color": "white"
             }
            },
            "type": "table"
           }
          ]
         },
         "layout": {
          "annotationdefaults": {
           "arrowcolor": "#2a3f5f",
           "arrowhead": 0,
           "arrowwidth": 1
          },
          "autotypenumbers": "strict",
          "coloraxis": {
           "colorbar": {
            "outlinewidth": 0,
            "ticks": ""
           }
          },
          "colorscale": {
           "diverging": [
            [
             0,
             "#8e0152"
            ],
            [
             0.1,
             "#c51b7d"
            ],
            [
             0.2,
             "#de77ae"
            ],
            [
             0.3,
             "#f1b6da"
            ],
            [
             0.4,
             "#fde0ef"
            ],
            [
             0.5,
             "#f7f7f7"
            ],
            [
             0.6,
             "#e6f5d0"
            ],
            [
             0.7,
             "#b8e186"
            ],
            [
             0.8,
             "#7fbc41"
            ],
            [
             0.9,
             "#4d9221"
            ],
            [
             1,
             "#276419"
            ]
           ],
           "sequential": [
            [
             0,
             "#0d0887"
            ],
            [
             0.1111111111111111,
             "#46039f"
            ],
            [
             0.2222222222222222,
             "#7201a8"
            ],
            [
             0.3333333333333333,
             "#9c179e"
            ],
            [
             0.4444444444444444,
             "#bd3786"
            ],
            [
             0.5555555555555556,
             "#d8576b"
            ],
            [
             0.6666666666666666,
             "#ed7953"
            ],
            [
             0.7777777777777778,
             "#fb9f3a"
            ],
            [
             0.8888888888888888,
             "#fdca26"
            ],
            [
             1,
             "#f0f921"
            ]
           ],
           "sequentialminus": [
            [
             0,
             "#0d0887"
            ],
            [
             0.1111111111111111,
             "#46039f"
            ],
            [
             0.2222222222222222,
             "#7201a8"
            ],
            [
             0.3333333333333333,
             "#9c179e"
            ],
            [
             0.4444444444444444,
             "#bd3786"
            ],
            [
             0.5555555555555556,
             "#d8576b"
            ],
            [
             0.6666666666666666,
             "#ed7953"
            ],
            [
             0.7777777777777778,
             "#fb9f3a"
            ],
            [
             0.8888888888888888,
             "#fdca26"
            ],
            [
             1,
             "#f0f921"
            ]
           ]
          },
          "colorway": [
           "#636efa",
           "#EF553B",
           "#00cc96",
           "#ab63fa",
           "#FFA15A",
           "#19d3f3",
           "#FF6692",
           "#B6E880",
           "#FF97FF",
           "#FECB52"
          ],
          "font": {
           "color": "#2a3f5f"
          },
          "geo": {
           "bgcolor": "white",
           "lakecolor": "white",
           "landcolor": "#E5ECF6",
           "showlakes": true,
           "showland": true,
           "subunitcolor": "white"
          },
          "hoverlabel": {
           "align": "left"
          },
          "hovermode": "closest",
          "mapbox": {
           "style": "light"
          },
          "paper_bgcolor": "white",
          "plot_bgcolor": "#E5ECF6",
          "polar": {
           "angularaxis": {
            "gridcolor": "white",
            "linecolor": "white",
            "ticks": ""
           },
           "bgcolor": "#E5ECF6",
           "radialaxis": {
            "gridcolor": "white",
            "linecolor": "white",
            "ticks": ""
           }
          },
          "scene": {
           "xaxis": {
            "backgroundcolor": "#E5ECF6",
            "gridcolor": "white",
            "gridwidth": 2,
            "linecolor": "white",
            "showbackground": true,
            "ticks": "",
            "zerolinecolor": "white"
           },
           "yaxis": {
            "backgroundcolor": "#E5ECF6",
            "gridcolor": "white",
            "gridwidth": 2,
            "linecolor": "white",
            "showbackground": true,
            "ticks": "",
            "zerolinecolor": "white"
           },
           "zaxis": {
            "backgroundcolor": "#E5ECF6",
            "gridcolor": "white",
            "gridwidth": 2,
            "linecolor": "white",
            "showbackground": true,
            "ticks": "",
            "zerolinecolor": "white"
           }
          },
          "shapedefaults": {
           "line": {
            "color": "#2a3f5f"
           }
          },
          "ternary": {
           "aaxis": {
            "gridcolor": "white",
            "linecolor": "white",
            "ticks": ""
           },
           "baxis": {
            "gridcolor": "white",
            "linecolor": "white",
            "ticks": ""
           },
           "bgcolor": "#E5ECF6",
           "caxis": {
            "gridcolor": "white",
            "linecolor": "white",
            "ticks": ""
           }
          },
          "title": {
           "x": 0.05
          },
          "xaxis": {
           "automargin": true,
           "gridcolor": "white",
           "linecolor": "white",
           "ticks": "",
           "title": {
            "standoff": 15
           },
           "zerolinecolor": "white",
           "zerolinewidth": 2
          },
          "yaxis": {
           "automargin": true,
           "gridcolor": "white",
           "linecolor": "white",
           "ticks": "",
           "title": {
            "standoff": 15
           },
           "zerolinecolor": "white",
           "zerolinewidth": 2
          }
         }
        },
        "title": {
         "text": "Répartition des genres des artistes par release"
        }
       }
      },
      "text/html": [
       "<div>                            <div id=\"c99b15b4-f625-4dde-93e4-861a823e9513\" class=\"plotly-graph-div\" style=\"height:525px; width:100%;\"></div>            <script type=\"text/javascript\">                require([\"plotly\"], function(Plotly) {                    window.PLOTLYENV=window.PLOTLYENV || {};                                    if (document.getElementById(\"c99b15b4-f625-4dde-93e4-861a823e9513\")) {                    Plotly.newPlot(                        \"c99b15b4-f625-4dde-93e4-861a823e9513\",                        [{\"hole\": 0.3, \"labels\": [\"Boy Solo Major\", \"Girl Solo Major\", \"Boy Group Major\", \"Girl Group Major\"], \"type\": \"pie\", \"values\": [108, 165, 1382, 1027]}],                        {\"template\": {\"data\": {\"bar\": [{\"error_x\": {\"color\": \"#2a3f5f\"}, \"error_y\": {\"color\": \"#2a3f5f\"}, \"marker\": {\"line\": {\"color\": \"#E5ECF6\", \"width\": 0.5}}, \"type\": \"bar\"}], \"barpolar\": [{\"marker\": {\"line\": {\"color\": \"#E5ECF6\", \"width\": 0.5}}, \"type\": \"barpolar\"}], \"carpet\": [{\"aaxis\": {\"endlinecolor\": \"#2a3f5f\", \"gridcolor\": \"white\", \"linecolor\": \"white\", \"minorgridcolor\": \"white\", \"startlinecolor\": \"#2a3f5f\"}, \"baxis\": {\"endlinecolor\": \"#2a3f5f\", \"gridcolor\": \"white\", \"linecolor\": \"white\", \"minorgridcolor\": \"white\", \"startlinecolor\": \"#2a3f5f\"}, \"type\": \"carpet\"}], \"choropleth\": [{\"colorbar\": {\"outlinewidth\": 0, \"ticks\": \"\"}, \"type\": \"choropleth\"}], \"contour\": [{\"colorbar\": {\"outlinewidth\": 0, \"ticks\": \"\"}, \"colorscale\": [[0.0, \"#0d0887\"], [0.1111111111111111, \"#46039f\"], [0.2222222222222222, \"#7201a8\"], [0.3333333333333333, \"#9c179e\"], [0.4444444444444444, \"#bd3786\"], [0.5555555555555556, \"#d8576b\"], [0.6666666666666666, \"#ed7953\"], [0.7777777777777778, \"#fb9f3a\"], [0.8888888888888888, \"#fdca26\"], [1.0, \"#f0f921\"]], \"type\": \"contour\"}], \"contourcarpet\": [{\"colorbar\": {\"outlinewidth\": 0, \"ticks\": \"\"}, \"type\": \"contourcarpet\"}], \"heatmap\": [{\"colorbar\": {\"outlinewidth\": 0, \"ticks\": \"\"}, \"colorscale\": [[0.0, \"#0d0887\"], [0.1111111111111111, \"#46039f\"], [0.2222222222222222, \"#7201a8\"], [0.3333333333333333, \"#9c179e\"], [0.4444444444444444, \"#bd3786\"], [0.5555555555555556, \"#d8576b\"], [0.6666666666666666, \"#ed7953\"], [0.7777777777777778, \"#fb9f3a\"], [0.8888888888888888, \"#fdca26\"], [1.0, \"#f0f921\"]], \"type\": \"heatmap\"}], \"heatmapgl\": [{\"colorbar\": {\"outlinewidth\": 0, \"ticks\": \"\"}, \"colorscale\": [[0.0, \"#0d0887\"], [0.1111111111111111, \"#46039f\"], [0.2222222222222222, \"#7201a8\"], [0.3333333333333333, \"#9c179e\"], [0.4444444444444444, \"#bd3786\"], [0.5555555555555556, \"#d8576b\"], [0.6666666666666666, \"#ed7953\"], [0.7777777777777778, \"#fb9f3a\"], [0.8888888888888888, \"#fdca26\"], [1.0, \"#f0f921\"]], \"type\": \"heatmapgl\"}], \"histogram\": [{\"marker\": {\"colorbar\": {\"outlinewidth\": 0, \"ticks\": \"\"}}, \"type\": \"histogram\"}], \"histogram2d\": [{\"colorbar\": {\"outlinewidth\": 0, \"ticks\": \"\"}, \"colorscale\": [[0.0, \"#0d0887\"], [0.1111111111111111, \"#46039f\"], [0.2222222222222222, \"#7201a8\"], [0.3333333333333333, \"#9c179e\"], [0.4444444444444444, \"#bd3786\"], [0.5555555555555556, \"#d8576b\"], [0.6666666666666666, \"#ed7953\"], [0.7777777777777778, \"#fb9f3a\"], [0.8888888888888888, \"#fdca26\"], [1.0, \"#f0f921\"]], \"type\": \"histogram2d\"}], \"histogram2dcontour\": [{\"colorbar\": {\"outlinewidth\": 0, \"ticks\": \"\"}, \"colorscale\": [[0.0, \"#0d0887\"], [0.1111111111111111, \"#46039f\"], [0.2222222222222222, \"#7201a8\"], [0.3333333333333333, \"#9c179e\"], [0.4444444444444444, \"#bd3786\"], [0.5555555555555556, \"#d8576b\"], [0.6666666666666666, \"#ed7953\"], [0.7777777777777778, \"#fb9f3a\"], [0.8888888888888888, \"#fdca26\"], [1.0, \"#f0f921\"]], \"type\": \"histogram2dcontour\"}], \"mesh3d\": [{\"colorbar\": {\"outlinewidth\": 0, \"ticks\": \"\"}, \"type\": \"mesh3d\"}], \"parcoords\": [{\"line\": {\"colorbar\": {\"outlinewidth\": 0, \"ticks\": \"\"}}, \"type\": \"parcoords\"}], \"pie\": [{\"automargin\": true, \"type\": \"pie\"}], \"scatter\": [{\"marker\": {\"colorbar\": {\"outlinewidth\": 0, \"ticks\": \"\"}}, \"type\": \"scatter\"}], \"scatter3d\": [{\"line\": {\"colorbar\": {\"outlinewidth\": 0, \"ticks\": \"\"}}, \"marker\": {\"colorbar\": {\"outlinewidth\": 0, \"ticks\": \"\"}}, \"type\": \"scatter3d\"}], \"scattercarpet\": [{\"marker\": {\"colorbar\": {\"outlinewidth\": 0, \"ticks\": \"\"}}, \"type\": \"scattercarpet\"}], \"scattergeo\": [{\"marker\": {\"colorbar\": {\"outlinewidth\": 0, \"ticks\": \"\"}}, \"type\": \"scattergeo\"}], \"scattergl\": [{\"marker\": {\"colorbar\": {\"outlinewidth\": 0, \"ticks\": \"\"}}, \"type\": \"scattergl\"}], \"scattermapbox\": [{\"marker\": {\"colorbar\": {\"outlinewidth\": 0, \"ticks\": \"\"}}, \"type\": \"scattermapbox\"}], \"scatterpolar\": [{\"marker\": {\"colorbar\": {\"outlinewidth\": 0, \"ticks\": \"\"}}, \"type\": \"scatterpolar\"}], \"scatterpolargl\": [{\"marker\": {\"colorbar\": {\"outlinewidth\": 0, \"ticks\": \"\"}}, \"type\": \"scatterpolargl\"}], \"scatterternary\": [{\"marker\": {\"colorbar\": {\"outlinewidth\": 0, \"ticks\": \"\"}}, \"type\": \"scatterternary\"}], \"surface\": [{\"colorbar\": {\"outlinewidth\": 0, \"ticks\": \"\"}, \"colorscale\": [[0.0, \"#0d0887\"], [0.1111111111111111, \"#46039f\"], [0.2222222222222222, \"#7201a8\"], [0.3333333333333333, \"#9c179e\"], [0.4444444444444444, \"#bd3786\"], [0.5555555555555556, \"#d8576b\"], [0.6666666666666666, \"#ed7953\"], [0.7777777777777778, \"#fb9f3a\"], [0.8888888888888888, \"#fdca26\"], [1.0, \"#f0f921\"]], \"type\": \"surface\"}], \"table\": [{\"cells\": {\"fill\": {\"color\": \"#EBF0F8\"}, \"line\": {\"color\": \"white\"}}, \"header\": {\"fill\": {\"color\": \"#C8D4E3\"}, \"line\": {\"color\": \"white\"}}, \"type\": \"table\"}]}, \"layout\": {\"annotationdefaults\": {\"arrowcolor\": \"#2a3f5f\", \"arrowhead\": 0, \"arrowwidth\": 1}, \"autotypenumbers\": \"strict\", \"coloraxis\": {\"colorbar\": {\"outlinewidth\": 0, \"ticks\": \"\"}}, \"colorscale\": {\"diverging\": [[0, \"#8e0152\"], [0.1, \"#c51b7d\"], [0.2, \"#de77ae\"], [0.3, \"#f1b6da\"], [0.4, \"#fde0ef\"], [0.5, \"#f7f7f7\"], [0.6, \"#e6f5d0\"], [0.7, \"#b8e186\"], [0.8, \"#7fbc41\"], [0.9, \"#4d9221\"], [1, \"#276419\"]], \"sequential\": [[0.0, \"#0d0887\"], [0.1111111111111111, \"#46039f\"], [0.2222222222222222, \"#7201a8\"], [0.3333333333333333, \"#9c179e\"], [0.4444444444444444, \"#bd3786\"], [0.5555555555555556, \"#d8576b\"], [0.6666666666666666, \"#ed7953\"], [0.7777777777777778, \"#fb9f3a\"], [0.8888888888888888, \"#fdca26\"], [1.0, \"#f0f921\"]], \"sequentialminus\": [[0.0, \"#0d0887\"], [0.1111111111111111, \"#46039f\"], [0.2222222222222222, \"#7201a8\"], [0.3333333333333333, \"#9c179e\"], [0.4444444444444444, \"#bd3786\"], [0.5555555555555556, \"#d8576b\"], [0.6666666666666666, \"#ed7953\"], [0.7777777777777778, \"#fb9f3a\"], [0.8888888888888888, \"#fdca26\"], [1.0, \"#f0f921\"]]}, \"colorway\": [\"#636efa\", \"#EF553B\", \"#00cc96\", \"#ab63fa\", \"#FFA15A\", \"#19d3f3\", \"#FF6692\", \"#B6E880\", \"#FF97FF\", \"#FECB52\"], \"font\": {\"color\": \"#2a3f5f\"}, \"geo\": {\"bgcolor\": \"white\", \"lakecolor\": \"white\", \"landcolor\": \"#E5ECF6\", \"showlakes\": true, \"showland\": true, \"subunitcolor\": \"white\"}, \"hoverlabel\": {\"align\": \"left\"}, \"hovermode\": \"closest\", \"mapbox\": {\"style\": \"light\"}, \"paper_bgcolor\": \"white\", \"plot_bgcolor\": \"#E5ECF6\", \"polar\": {\"angularaxis\": {\"gridcolor\": \"white\", \"linecolor\": \"white\", \"ticks\": \"\"}, \"bgcolor\": \"#E5ECF6\", \"radialaxis\": {\"gridcolor\": \"white\", \"linecolor\": \"white\", \"ticks\": \"\"}}, \"scene\": {\"xaxis\": {\"backgroundcolor\": \"#E5ECF6\", \"gridcolor\": \"white\", \"gridwidth\": 2, \"linecolor\": \"white\", \"showbackground\": true, \"ticks\": \"\", \"zerolinecolor\": \"white\"}, \"yaxis\": {\"backgroundcolor\": \"#E5ECF6\", \"gridcolor\": \"white\", \"gridwidth\": 2, \"linecolor\": \"white\", \"showbackground\": true, \"ticks\": \"\", \"zerolinecolor\": \"white\"}, \"zaxis\": {\"backgroundcolor\": \"#E5ECF6\", \"gridcolor\": \"white\", \"gridwidth\": 2, \"linecolor\": \"white\", \"showbackground\": true, \"ticks\": \"\", \"zerolinecolor\": \"white\"}}, \"shapedefaults\": {\"line\": {\"color\": \"#2a3f5f\"}}, \"ternary\": {\"aaxis\": {\"gridcolor\": \"white\", \"linecolor\": \"white\", \"ticks\": \"\"}, \"baxis\": {\"gridcolor\": \"white\", \"linecolor\": \"white\", \"ticks\": \"\"}, \"bgcolor\": \"#E5ECF6\", \"caxis\": {\"gridcolor\": \"white\", \"linecolor\": \"white\", \"ticks\": \"\"}}, \"title\": {\"x\": 0.05}, \"xaxis\": {\"automargin\": true, \"gridcolor\": \"white\", \"linecolor\": \"white\", \"ticks\": \"\", \"title\": {\"standoff\": 15}, \"zerolinecolor\": \"white\", \"zerolinewidth\": 2}, \"yaxis\": {\"automargin\": true, \"gridcolor\": \"white\", \"linecolor\": \"white\", \"ticks\": \"\", \"title\": {\"standoff\": 15}, \"zerolinecolor\": \"white\", \"zerolinewidth\": 2}}}, \"title\": {\"text\": \"R\\u00e9partition des genres des artistes par release\"}},                        {\"responsive\": true}                    ).then(function(){\n",
       "                            \n",
       "var gd = document.getElementById('c99b15b4-f625-4dde-93e4-861a823e9513');\n",
       "var x = new MutationObserver(function (mutations, observer) {{\n",
       "        var display = window.getComputedStyle(gd).display;\n",
       "        if (!display || display === 'none') {{\n",
       "            console.log([gd, 'removed!']);\n",
       "            Plotly.purge(gd);\n",
       "            observer.disconnect();\n",
       "        }}\n",
       "}});\n",
       "\n",
       "// Listen for the removal of the full notebook cells\n",
       "var notebookContainer = gd.closest('#notebook-container');\n",
       "if (notebookContainer) {{\n",
       "    x.observe(notebookContainer, {childList: true});\n",
       "}}\n",
       "\n",
       "// Listen for the clearing of the current output cell\n",
       "var outputEl = gd.closest('.output');\n",
       "if (outputEl) {{\n",
       "    x.observe(outputEl, {childList: true});\n",
       "}}\n",
       "\n",
       "                        })                };                });            </script>        </div>"
      ]
     },
     "metadata": {},
     "output_type": "display_data"
    }
   ],
   "source": [
    "labels = ['Boy Solo Major','Girl Solo Major', 'Boy Group Major', 'Girl Group Major']\n",
    "values = [boy_solo_major.count(), girl_solo_major.count(), boy_major.count(), girl_major.count()]\n",
    "\n",
    "fig = go.Figure(data=[go.Pie(labels=labels, values=values, hole=.3)])\n",
    "fig.update_layout(title_text='Répartition des genres des artistes par release')\n",
    "fig.show()"
   ]
  },
  {
   "cell_type": "code",
   "execution_count": null,
   "metadata": {},
   "outputs": [],
   "source": []
  }
 ],
 "metadata": {
  "kernelspec": {
   "display_name": "Python 3",
   "language": "python",
   "name": "python3"
  },
  "language_info": {
   "codemirror_mode": {
    "name": "ipython",
    "version": 3
   },
   "file_extension": ".py",
   "mimetype": "text/x-python",
   "name": "python",
   "nbconvert_exporter": "python",
   "pygments_lexer": "ipython3",
   "version": "3.8.6"
  },
  "varInspector": {
   "cols": {
    "lenName": 16,
    "lenType": 16,
    "lenVar": 40
   },
   "kernels_config": {
    "python": {
     "delete_cmd_postfix": "",
     "delete_cmd_prefix": "del ",
     "library": "var_list.py",
     "varRefreshCmd": "print(var_dic_list())"
    },
    "r": {
     "delete_cmd_postfix": ") ",
     "delete_cmd_prefix": "rm(",
     "library": "var_list.r",
     "varRefreshCmd": "cat(var_dic_list()) "
    }
   },
   "types_to_exclude": [
    "module",
    "function",
    "builtin_function_or_method",
    "instance",
    "_Feature"
   ],
   "window_display": false
  }
 },
 "nbformat": 4,
 "nbformat_minor": 2
}
